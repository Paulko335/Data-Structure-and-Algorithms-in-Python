{
 "cells": [
  {
   "cell_type": "markdown",
   "metadata": {},
   "source": [
    "# Chapter 01 - Python Primer"
   ]
  },
  {
   "cell_type": "markdown",
   "metadata": {},
   "source": [
    "## Reinforcement"
   ]
  },
  {
   "cell_type": "markdown",
   "metadata": {},
   "source": [
    "### R-1.1\n",
    "Write a short Python function, is multiple(n, m), that takes two integer\n",
    "values and returns True if n is a multiple of m, that is, n = mi for some\n",
    "integer i, and False otherwise."
   ]
  },
  {
   "cell_type": "code",
   "execution_count": 3,
   "metadata": {},
   "outputs": [
    {
     "name": "stdout",
     "output_type": "stream",
     "text": [
      "True\n",
      "False\n"
     ]
    }
   ],
   "source": [
    "def is_multiple(n, m):\n",
    "    return n % m == 0\n",
    "\n",
    "print(is_multiple(10, 5))\n",
    "print(is_multiple(11, 5))"
   ]
  },
  {
   "cell_type": "markdown",
   "metadata": {},
   "source": [
    "### R-1.2\n",
    "Write a short Python function, is even(k), that takes an integer value and\n",
    "returns True if k is even, and False otherwise. However, your function\n",
    "cannot use the multiplication, modulo, or division operators."
   ]
  },
  {
   "cell_type": "code",
   "execution_count": 4,
   "metadata": {},
   "outputs": [
    {
     "name": "stdout",
     "output_type": "stream",
     "text": [
      "True\n",
      "False\n"
     ]
    }
   ],
   "source": [
    "def is_even(k):\n",
    "    if k & 1:\n",
    "        return False\n",
    "    else:\n",
    "        return True\n",
    "    \n",
    "\n",
    "print(is_even(2))\n",
    "print(is_even(3))"
   ]
  },
  {
   "cell_type": "markdown",
   "metadata": {},
   "source": [
    "### R-1.3\n",
    "Write a short Python function, minmax(data), that takes a sequence of\n",
    "one or more numbers, and returns the smallest and largest numbers, in the\n",
    "form of a tuple of length two. Do not use the built-in functions min or\n",
    "max in implementing your solution.\n"
   ]
  },
  {
   "cell_type": "code",
   "execution_count": 5,
   "metadata": {},
   "outputs": [
    {
     "name": "stdout",
     "output_type": "stream",
     "text": [
      "(1, 9)\n"
     ]
    }
   ],
   "source": [
    "def minmax(data):\n",
    "    min = data[0]\n",
    "    max = data[0]\n",
    "\n",
    "    for number in data:\n",
    "        if number > max:\n",
    "            max = number\n",
    "        if number < min:\n",
    "            min = number\n",
    "\n",
    "    return (min, max)\n",
    "\n",
    "\n",
    "data = [1, 5, 2, 7, 3, 8, 4, 9]\n",
    "print(minmax(data))"
   ]
  },
  {
   "cell_type": "markdown",
   "metadata": {},
   "source": [
    "### R-1.4\n",
    "Write a short Python function that takes a positive integer n and returns\n",
    "the sum of the squares of all the positive integers smaller than n."
   ]
  },
  {
   "cell_type": "code",
   "execution_count": 6,
   "metadata": {},
   "outputs": [
    {
     "name": "stdout",
     "output_type": "stream",
     "text": [
      "14\n",
      "14\n"
     ]
    }
   ],
   "source": [
    "def sum_int_squared(n):\n",
    "    sum = 0\n",
    "    for i in range(n):\n",
    "        sum += i * i\n",
    "    return sum\n",
    "\n",
    "\n",
    "print(sum_int_squared(4))\n",
    "print(1*1 + 2*2 + 3*3)"
   ]
  },
  {
   "cell_type": "markdown",
   "metadata": {},
   "source": [
    "### R-1.5\n",
    "Give a single command that computes the sum from Exercise R-1.4, relying\n",
    "on Python’s comprehension syntax and the built-in sum function."
   ]
  },
  {
   "cell_type": "code",
   "execution_count": 7,
   "metadata": {},
   "outputs": [
    {
     "name": "stdout",
     "output_type": "stream",
     "text": [
      "14\n"
     ]
    }
   ],
   "source": [
    "number = 4\n",
    "print(sum(i*i for i in range(number)))"
   ]
  },
  {
   "cell_type": "markdown",
   "metadata": {},
   "source": [
    "### R-1.6\n",
    "Write a short Python function that takes a positive integer n and returns\n",
    "the sum of the squares of all the odd positive integers smaller than n."
   ]
  },
  {
   "cell_type": "code",
   "execution_count": 8,
   "metadata": {},
   "outputs": [
    {
     "name": "stdout",
     "output_type": "stream",
     "text": [
      "35\n",
      "35\n"
     ]
    }
   ],
   "source": [
    "def sum_odd_squared(n):\n",
    "    sum = 0\n",
    "    for i in range(1, n, 2):\n",
    "        sum += i * i\n",
    "    return sum\n",
    "\n",
    "\n",
    "print(sum_odd_squared(6))\n",
    "print(1*1 + 3*3 + 5*5)"
   ]
  },
  {
   "cell_type": "markdown",
   "metadata": {},
   "source": [
    "### R-1.6\n",
    "Write a short Python function that takes a positive integer n and returns\n",
    "the sum of the squares of all the odd positive integers smaller than n."
   ]
  },
  {
   "cell_type": "code",
   "execution_count": 9,
   "metadata": {},
   "outputs": [
    {
     "name": "stdout",
     "output_type": "stream",
     "text": [
      "35\n",
      "35\n"
     ]
    }
   ],
   "source": [
    "def sum_odd_squared(n):\n",
    "    sum = 0\n",
    "    for i in range(1, n, 2):\n",
    "        sum += i * i\n",
    "    return sum\n",
    "\n",
    "\n",
    "print(sum_odd_squared(6))\n",
    "print(1*1 + 3*3 + 5*5)"
   ]
  },
  {
   "cell_type": "markdown",
   "metadata": {},
   "source": [
    "### R-1.7\n",
    "Give a single command that computes the sum from Exercise R-1.6, relying\n",
    "on Python’s comprehension syntax and the built-in sum function."
   ]
  },
  {
   "cell_type": "code",
   "execution_count": 10,
   "metadata": {},
   "outputs": [
    {
     "name": "stdout",
     "output_type": "stream",
     "text": [
      "35\n"
     ]
    }
   ],
   "source": [
    "number = 6\n",
    "print(sum(i*i for i in range(number) if i%2 != 0))"
   ]
  },
  {
   "cell_type": "markdown",
   "metadata": {},
   "source": [
    "### R-1.8\n",
    "Python allows negative integers to be used as indices into a sequence,\n",
    "such as a string. If string s has length n, and expression s[k] is used for index\n",
    "−n≤k<0, what is the equivalent index j ≥0 such that s[j] references\n",
    "the same element?"
   ]
  },
  {
   "cell_type": "code",
   "execution_count": 11,
   "metadata": {},
   "outputs": [
    {
     "name": "stdout",
     "output_type": "stream",
     "text": [
      "True\n"
     ]
    }
   ],
   "source": [
    "s = \"This is a string\"\n",
    "n = len(s)\n",
    "k = -3\n",
    "j = n + k\n",
    "if s[k] == s[j]:\n",
    "    print(True)"
   ]
  },
  {
   "cell_type": "markdown",
   "metadata": {},
   "source": [
    "### R-1.8\n",
    "Python allows negative integers to be used as indices into a sequence,\n",
    "such as a string. If string s has length n, and expression s[k] is used for index\n",
    "−n≤k<0, what is the equivalent index j ≥0 such that s[j] references\n",
    "the same element?"
   ]
  },
  {
   "cell_type": "code",
   "execution_count": 12,
   "metadata": {},
   "outputs": [
    {
     "name": "stdout",
     "output_type": "stream",
     "text": [
      "True\n"
     ]
    }
   ],
   "source": [
    "s = \"This is a string\"\n",
    "n = len(s)\n",
    "k = -3\n",
    "j = n + k\n",
    "if s[k] == s[j]:\n",
    "    print(True)"
   ]
  },
  {
   "cell_type": "markdown",
   "metadata": {},
   "source": [
    "### R-1.9\n",
    "What parameters should be sent to the range constructor, to produce a\n",
    "range with values 50, 60, 70, 80?"
   ]
  },
  {
   "cell_type": "code",
   "execution_count": 13,
   "metadata": {},
   "outputs": [
    {
     "name": "stdout",
     "output_type": "stream",
     "text": [
      "50\n",
      "60\n",
      "70\n",
      "80\n"
     ]
    }
   ],
   "source": [
    "for i in range(50, 90, 10):\n",
    "    print(i)"
   ]
  },
  {
   "cell_type": "markdown",
   "metadata": {},
   "source": [
    "### R-1.10\n",
    "Python allows negative integers to be used as indices into a sequence,\n",
    "such as a string. If string s has length n, and expression s[k] is used for index\n",
    "−n≤k<0, what is the equivalent index j ≥0 such that s[j] references\n",
    "the same element?"
   ]
  },
  {
   "cell_type": "code",
   "execution_count": 14,
   "metadata": {},
   "outputs": [
    {
     "name": "stdout",
     "output_type": "stream",
     "text": [
      "8\n",
      "6\n",
      "4\n",
      "2\n",
      "0\n",
      "-2\n",
      "-4\n",
      "-6\n",
      "-8\n"
     ]
    }
   ],
   "source": [
    "for i in range(8, -10, -2):\n",
    "    print(i)"
   ]
  },
  {
   "cell_type": "markdown",
   "metadata": {},
   "source": [
    "### R-1.11\n",
    "Demonstrate how to use Python’s list comprehension syntax to produce\n",
    "the list [1, 2, 4, 8, 16, 32, 64, 128, 256]."
   ]
  },
  {
   "cell_type": "code",
   "execution_count": 15,
   "metadata": {},
   "outputs": [
    {
     "name": "stdout",
     "output_type": "stream",
     "text": [
      "[1, 2, 4, 8, 16, 32, 64, 128, 256]\n"
     ]
    }
   ],
   "source": [
    "powers_of_two = [pow(2, i) for i in range(9)]\n",
    "print(powers_of_two)"
   ]
  },
  {
   "cell_type": "markdown",
   "metadata": {},
   "source": [
    "### R-1.12\n",
    "Python’s random module includes a function choice(data) that returns a\n",
    "random element from a non-empty sequence. The random module includes\n",
    "a more basic function randrange, with parameterization similar to\n",
    "the built-in range function, that return a random choice from the given\n",
    "range. Using only the randrange function, implement your own version\n",
    "of the choice function."
   ]
  },
  {
   "cell_type": "code",
   "execution_count": 16,
   "metadata": {},
   "outputs": [
    {
     "name": "stdout",
     "output_type": "stream",
     "text": [
      "9\n"
     ]
    }
   ],
   "source": [
    "from random import randrange\n",
    "\n",
    "def randrange_choice(data):\n",
    "    return data[randrange(len(data))]\n",
    "\n",
    "data = [0, 1, 2, 3, 4, 5, 6, 7, 8, 9]\n",
    "print(randrange_choice(data))"
   ]
  },
  {
   "cell_type": "markdown",
   "metadata": {},
   "source": [
    "## Creativity"
   ]
  },
  {
   "cell_type": "markdown",
   "metadata": {},
   "source": [
    "### C-13\n",
    "Write a pseudo-code description of a function that reverses a list of n\n",
    "integers, so that the numbers are listed in the opposite order than they\n",
    "were before, and compare this method to an equivalent Python function\n",
    "for doing the same thing."
   ]
  },
  {
   "cell_type": "code",
   "execution_count": 17,
   "metadata": {},
   "outputs": [
    {
     "name": "stdout",
     "output_type": "stream",
     "text": [
      "[3, 2, 1, 0]\n"
     ]
    }
   ],
   "source": [
    "a_list = [0, 1, 2, 3]\n",
    "\n",
    "\n",
    "def reversed_list(list):\n",
    "    n = len(list)\n",
    "    reversed = []\n",
    "    for i in range(n):\n",
    "        reversed.append(list[-(i+1)])\n",
    "    return reversed\n",
    "\n",
    "\n",
    "print(reversed_list(a_list))"
   ]
  },
  {
   "cell_type": "markdown",
   "metadata": {},
   "source": [
    "### C-1.14\n",
    "Write a short Python function that takes a sequence of integer values and\n",
    "determines if there is a distinct pair of numbers in the sequence whose\n",
    "product is odd."
   ]
  },
  {
   "cell_type": "code",
   "execution_count": 18,
   "metadata": {},
   "outputs": [
    {
     "name": "stdout",
     "output_type": "stream",
     "text": [
      "True\n",
      "True\n"
     ]
    }
   ],
   "source": [
    "integers = [2, 3, 3, 5]\n",
    "\n",
    "def find_pair_odd_product(numbers):\n",
    "    second_index = 0\n",
    "    for first in numbers:\n",
    "        second_index += 1\n",
    "        for second in numbers[second_index:]:\n",
    "            if first != second:\n",
    "                if (first * second) % 2 == 1:\n",
    "                    return True\n",
    "    return False\n",
    "\n",
    "\n",
    "print(find_pair_odd_product(integers))\n",
    "\n",
    "\n",
    "# A faster method using sets\n",
    "def odd_pair_sets(numbers):\n",
    "    odd_set = {i for i in numbers if i % 2 == 1}\n",
    "    return len(odd_set) >= 2\n",
    "\n",
    "\n",
    "print(odd_pair_sets(integers))"
   ]
  },
  {
   "cell_type": "markdown",
   "metadata": {},
   "source": [
    "### C-1.15\n",
    "Write a Python function that takes a sequence of numbers and determines\n",
    "if all the numbers are different from each other (that is, they are distinct)."
   ]
  },
  {
   "cell_type": "code",
   "execution_count": 19,
   "metadata": {},
   "outputs": [
    {
     "name": "stdout",
     "output_type": "stream",
     "text": [
      "True\n",
      "False\n"
     ]
    }
   ],
   "source": [
    "def are_distincts(numbers):\n",
    "    set_of_distinct = set()\n",
    "    for number in numbers:\n",
    "        if number not in set_of_distinct:\n",
    "            set_of_distinct.add(number)\n",
    "        else:\n",
    "            return False\n",
    "    return True\n",
    "\n",
    "\n",
    "distinct_numbers = [1, 2, 3, 4]\n",
    "print(are_distincts(distinct_numbers))\n",
    "\n",
    "numbers = [1, 2, 3, 4, 4]\n",
    "print(are_distincts(numbers))"
   ]
  },
  {
   "cell_type": "markdown",
   "metadata": {},
   "source": [
    "### C-1.16\n",
    "In our implementation of the scale function (page 25), the body of the loop\n",
    "executes the command data[j] *= factor. We have discussed that numeric\n",
    "types are immutable, and that use of the = operator in this context causes\n",
    "the creation of a new instance (not the mutation of an existing instance).\n",
    "How is it still possible, then, that our implementation of scale changes the\n",
    "actual parameter sent by the caller?"
   ]
  },
  {
   "cell_type": "code",
   "execution_count": 20,
   "metadata": {},
   "outputs": [],
   "source": [
    "# Explanation: We are replacing the variable inside the list, not the variable itself"
   ]
  },
  {
   "cell_type": "markdown",
   "metadata": {},
   "source": [
    "### C-1.17\n",
    "Had we implemented the scale function (page 25) as follows, does it work\n",
    "properly?\n",
    "def scale(data, factor):\n",
    "for val in data:\n",
    "val = factor\n",
    "Explain why or why not."
   ]
  },
  {
   "cell_type": "code",
   "execution_count": 21,
   "metadata": {},
   "outputs": [],
   "source": [
    "# No, it will simply create a new variable named val multiple time, data will not be modified"
   ]
  },
  {
   "cell_type": "markdown",
   "metadata": {},
   "source": [
    "### C-1.18\n",
    "Demonstrate how to use Python’s list comprehension syntax to produce\n",
    "the list [0, 2, 6, 12, 20, 30, 42, 56, 72, 90]."
   ]
  },
  {
   "cell_type": "code",
   "execution_count": 22,
   "metadata": {},
   "outputs": [
    {
     "name": "stdout",
     "output_type": "stream",
     "text": [
      "[0, 2, 6, 12, 20, 30, 42, 56, 72, 90]\n"
     ]
    }
   ],
   "source": [
    "list = [i * (i+1) for i in range(10)]\n",
    "print(list)"
   ]
  },
  {
   "cell_type": "markdown",
   "metadata": {},
   "source": [
    "### C-1.19\n",
    "Demonstrate how to use Python’s list comprehension syntax to produce\n",
    "the list [ a , b , c , ..., z ], but without having to type all 26 such\n",
    "characters literally."
   ]
  },
  {
   "cell_type": "code",
   "execution_count": 23,
   "metadata": {},
   "outputs": [
    {
     "name": "stdout",
     "output_type": "stream",
     "text": [
      "['a', 'b', 'c', 'd', 'e', 'f', 'g', 'h', 'i', 'j', 'k', 'l', 'm', 'n', 'o', 'p', 'q', 'r', 's', 't', 'u', 'v', 'w', 'x', 'y', 'z']\n"
     ]
    }
   ],
   "source": [
    "alphabet = [chr(ord(\"a\") + i) for i in range(26)]\n",
    "print(alphabet)"
   ]
  },
  {
   "cell_type": "markdown",
   "metadata": {},
   "source": [
    "### C-1.20\n",
    "Python’s random module includes a function shuffle(data) that accepts a\n",
    "list of elements and randomly reorders the elements so that each possible\n",
    "order occurs with equal probability. The random module includes a\n",
    "more basic function randint(a, b) that returns a uniformly random integer\n",
    "from a to b (including both endpoints). Using only the randint function,\n",
    "implement your own version of the shuffle function."
   ]
  },
  {
   "cell_type": "code",
   "execution_count": 24,
   "metadata": {},
   "outputs": [
    {
     "name": "stdout",
     "output_type": "stream",
     "text": [
      "[0, 1, 2, 3, 4, 5, 6, 7, 8, 9]\n",
      "[9, 3, 7, 2, 4, 5, 6, 1, 0, 8]\n"
     ]
    }
   ],
   "source": [
    "from random import randint\n",
    "\n",
    "numbers = [0, 1, 2, 3, 4, 5, 6, 7, 8, 9]\n",
    "\n",
    "\n",
    "def randint_shuffle(numbers):\n",
    "    for index in range(len(numbers)):\n",
    "        new_index = randint(0, len(numbers)-1)\n",
    "        numbers[index], numbers[new_index] = numbers[new_index], numbers[index]\n",
    "\n",
    "\n",
    "print(numbers)\n",
    "randint_shuffle(numbers)\n",
    "print(numbers)"
   ]
  },
  {
   "cell_type": "markdown",
   "metadata": {},
   "source": [
    "### C-1.21\n",
    "Write a Python program that repeatedly reads lines from standard input\n",
    "until an EOFError is raised, and then outputs those lines in reverse order\n",
    "(a user can indicate end of input by typing ctrl-D)."
   ]
  },
  {
   "cell_type": "code",
   "execution_count": 25,
   "metadata": {},
   "outputs": [
    {
     "name": "stdout",
     "output_type": "stream",
     "text": [
      "Enter a line,ctrl-D to end: a\n",
      "Enter a line,ctrl-D to end: b\n",
      "Enter a line,ctrl-D to end: c\n",
      "Enter a line,ctrl-D to end: endreads\n",
      "endreads\n",
      "c\n",
      "b\n",
      "a\n"
     ]
    },
    {
     "data": {
      "text/plain": [
       "[None, None, None, None]"
      ]
     },
     "execution_count": 25,
     "metadata": {},
     "output_type": "execute_result"
    }
   ],
   "source": [
    "def read_lines():\n",
    "    lines = []\n",
    "    while True:\n",
    "        try:\n",
    "            new_line = input(\"Enter a line,ctrl-D to end: \")\n",
    "            lines.append(new_line)\n",
    "            \n",
    "            if new_line == \"endreads\":  # extra condition, ctrl-D is a shortcut to add page to favorite in Chrome\n",
    "                break\n",
    "                \n",
    "        except EOFError:\n",
    "            break\n",
    "    return lines\n",
    "\n",
    "\n",
    "lines = read_lines()\n",
    "[print(i) for i in reversed(lines)]"
   ]
  },
  {
   "cell_type": "markdown",
   "metadata": {},
   "source": [
    "### C-1.22\n",
    "Write a short Python program that takes two arrays a and b of length n\n",
    "storing int values, and returns the dot product of a and b. That is, it returns\n",
    "an array c of length n such that c[i] = a[i] · b[i], for i = 0, . . . ,n−1."
   ]
  },
  {
   "cell_type": "code",
   "execution_count": 26,
   "metadata": {},
   "outputs": [
    {
     "name": "stdout",
     "output_type": "stream",
     "text": [
      "[1, 4, 9, 16]\n",
      "[1, 4, 9, 16]\n"
     ]
    }
   ],
   "source": [
    "def dot_product(a, b):\n",
    "    c = [a[i] * b[i] for i in range(len(a))]\n",
    "    return c\n",
    "\n",
    "\n",
    "a = [1, 2, 3, 4]\n",
    "b = [1, 2, 3, 4]\n",
    "c = dot_product(a,b)\n",
    "print(c)\n",
    "print(dot_product(a,b))"
   ]
  },
  {
   "cell_type": "markdown",
   "metadata": {},
   "source": [
    "### C-1.23\n",
    "Give an example of a Python code fragment that attempts to write an element\n",
    "to a list based on an index that may be out of bounds. If that index\n",
    "is out of bounds, the program should catch the exception that results, and\n",
    "print the following error message:\n",
    "“Don’t try buffer overflow attacks in Python!”"
   ]
  },
  {
   "cell_type": "code",
   "execution_count": 27,
   "metadata": {},
   "outputs": [
    {
     "name": "stdout",
     "output_type": "stream",
     "text": [
      "I will erase all your valuable information!\n",
      "I will erase all your valuable information!\n",
      "I will erase all your valuable information!\n",
      "I will erase all your valuable information!\n",
      "Don't try buffer overflow attacks in Python!\n"
     ]
    }
   ],
   "source": [
    "def write_to_list(list):\n",
    "    for index in range(len(list) + 1):\n",
    "        try:\n",
    "            list[index] = None\n",
    "            print(\"I will erase all your valuable information!\")\n",
    "        except IndexError:\n",
    "            print(\"Don't try buffer overflow attacks in Python!\")\n",
    "\n",
    "\n",
    "list = [0, 1, 2, 3]\n",
    "write_to_list(list)"
   ]
  },
  {
   "cell_type": "markdown",
   "metadata": {},
   "source": [
    "### C-1.24\n",
    "Write a short Python function that counts the number of vowels in a given\n",
    "character string."
   ]
  },
  {
   "cell_type": "code",
   "execution_count": 28,
   "metadata": {},
   "outputs": [
    {
     "name": "stdout",
     "output_type": "stream",
     "text": [
      "20\n"
     ]
    }
   ],
   "source": [
    "def vowels_count(a_string):\n",
    "    vowels_dict = {\"a\": 0, \"e\": 0, \"i\": 0, \"o\": 0, \"u\": 0, \"y\": 0}\n",
    "    for char in a_string.lower():\n",
    "        if char in vowels_dict:\n",
    "            vowels_dict[char] += 1\n",
    "    return sum(vowels_dict.values())\n",
    "\n",
    "\n",
    "a_string = \"Can you count the number of vowels in this sentence please?\"\n",
    "print(vowels_count(a_string))"
   ]
  },
  {
   "cell_type": "markdown",
   "metadata": {},
   "source": [
    "### C-1.25\n",
    "Write a short Python function that takes a string s, representing a sentence,\n",
    "and returns a copy of the string with all punctuation removed. For example,\n",
    "if given the string \"Let's try, Mike.\", this function would return\n",
    "\"Lets try Mike\"."
   ]
  },
  {
   "cell_type": "code",
   "execution_count": 29,
   "metadata": {},
   "outputs": [
    {
     "name": "stdout",
     "output_type": "stream",
     "text": [
      "Lets try Mike\n"
     ]
    }
   ],
   "source": [
    "def punctuation_remover(s):\n",
    "    allowed_char = [chr(ord(\"a\") + i) for i in range(26)] + [chr(ord(\"A\") + i) for i in range(26)] + [\" \"]\n",
    "    new_s = \"\"\n",
    "    for char in s:\n",
    "        if char in allowed_char:\n",
    "            new_s += char\n",
    "    return new_s\n",
    "\n",
    "\n",
    "s = \"Let's try, Mike.\"\n",
    "print(punctuation_remover(s))"
   ]
  },
  {
   "cell_type": "markdown",
   "metadata": {},
   "source": [
    "### C-1.26\n",
    "Write a short program that takes as input three integers, a, b, and c, from\n",
    "the console and determines if they can be used in a correct arithmetic\n",
    "formula (in the given order), like “a+b = c,” “a = b−c,” or “a ∗ b = c.”"
   ]
  },
  {
   "cell_type": "code",
   "execution_count": 30,
   "metadata": {},
   "outputs": [
    {
     "name": "stdout",
     "output_type": "stream",
     "text": [
      "Enter three integers, separated by a comma: 1,2,3\n",
      "True\n"
     ]
    }
   ],
   "source": [
    "def is_arithmetic(a, b, c):\n",
    "    integers = [str(a), str(b), str(c)]\n",
    "    operators = \"+-*/\"\n",
    "\n",
    "    n = len(integers)\n",
    "    m = len(operators)\n",
    "\n",
    "    # arithmetic format: a operator b == c\n",
    "    possibilities = []\n",
    "    for i in range(n):\n",
    "        for j in range(m):\n",
    "            for k in range(n):\n",
    "                for l in range(n):\n",
    "                    if i != k and i != l and k != l:\n",
    "                        possibilities.append(\"{}{}{}=={}\".format(integers[i], operators[j], integers[k], integers[l]))\n",
    "\n",
    "    for possibility in possibilities:\n",
    "        if eval(possibility):\n",
    "            return True\n",
    "    return False\n",
    "\n",
    "\n",
    "a, b, c = input(\"Enter three integers, separated by a comma: \").split(\",\")\n",
    "print(is_arithmetic(int(a), int(b), int(c)))"
   ]
  },
  {
   "cell_type": "markdown",
   "metadata": {},
   "source": [
    "### C-1.27\n",
    "In Section 1.8, we provided three different implementations of a generator\n",
    "that computes factors of a given integer. The third of those implementations,\n",
    "from page 41, was the most efficient, but we noted that it did not\n",
    "yield the factors in increasing order. Modify the generator so that it reports\n",
    "factors in increasing order, while maintaining its general performance advantages."
   ]
  },
  {
   "cell_type": "code",
   "execution_count": 31,
   "metadata": {},
   "outputs": [
    {
     "name": "stdout",
     "output_type": "stream",
     "text": [
      "1\n",
      "2\n",
      "3\n",
      "4\n",
      "6\n",
      "7\n",
      "9\n",
      "12\n",
      "18\n",
      "36\n"
     ]
    }
   ],
   "source": [
    "def factors(n):\n",
    "    bigger_factor_buffer = []\n",
    "    k = 1\n",
    "    while k * k < n:\n",
    "        if n % k == 0:\n",
    "            yield k\n",
    "        bigger_factor_buffer.append(n//k)\n",
    "        k += 1\n",
    "    if k * k == n:\n",
    "        yield k\n",
    "    for factor in reversed(bigger_factor_buffer):\n",
    "        yield factor\n",
    "\n",
    "\n",
    "for factor in factors(36):\n",
    "    print(factor)\n"
   ]
  },
  {
   "cell_type": "markdown",
   "metadata": {},
   "source": [
    "### C-1.28\n",
    "The p-norm of a vector v = (v1,v2, . . . ,vn) in n-dimensional space is defined\n",
    "as ||v|| =p√(vp1 +vp2 +· · ·+vpn) .\n",
    "For the special case of p = 2, this results in the traditional Euclidean\n",
    "norm, which represents the length of the vector. For example, the Euclidean\n",
    "norm of a two-dimensional vector with coordinates (4,3) has a\n",
    "Euclidean norm of\n",
    "√(42+32) = √(16+9) = √(25) = 5. Give an implementation\n",
    "of a function named norm such that norm(v, p) returns the p-norm\n",
    "value of v and norm(v) returns the Euclidean norm of v. You may assume\n",
    "that v is a list of numbers."
   ]
  },
  {
   "cell_type": "code",
   "execution_count": 32,
   "metadata": {},
   "outputs": [
    {
     "name": "stdout",
     "output_type": "stream",
     "text": [
      "5.0\n",
      "5.0\n"
     ]
    }
   ],
   "source": [
    "import math\n",
    "\n",
    "\n",
    "def norm(v):\n",
    "    squared_norm = sum(number * number for number in v)\n",
    "    return math.sqrt(squared_norm)\n",
    "\n",
    "\n",
    "def p_norm(v, p):\n",
    "    p_ed_norm = sum(math.pow(number, p) for number in v)\n",
    "    return math.pow(p_ed_norm, 1/p)\n",
    "\n",
    "\n",
    "numbers = [3, 4]\n",
    "print(norm(numbers))\n",
    "print(p_norm(numbers, 2))"
   ]
  },
  {
   "cell_type": "markdown",
   "metadata": {},
   "source": [
    "## Projects"
   ]
  },
  {
   "cell_type": "markdown",
   "metadata": {},
   "source": [
    "### P-1.29\n",
    "Write a Python program that outputs all possible strings formed by using\n",
    "the characters c , a , t , d , o , and g exactly once."
   ]
  },
  {
   "cell_type": "code",
   "execution_count": 33,
   "metadata": {},
   "outputs": [
    {
     "name": "stdout",
     "output_type": "stream",
     "text": [
      "40320\n"
     ]
    }
   ],
   "source": [
    "chars = \"abcdefgh\"\n",
    "\n",
    "\n",
    "def permutations(string):\n",
    "    if string == \"\":\n",
    "        return [string]\n",
    "    else:\n",
    "        possibilities = []\n",
    "        for word in permutations(string[1:]):\n",
    "            for position in range(len(word) +1):\n",
    "                possibilities.append(word[:position] + string[0] + word[position:])\n",
    "    return possibilities\n",
    "\n",
    "\n",
    "print(len(permutations(chars)))"
   ]
  },
  {
   "cell_type": "markdown",
   "metadata": {},
   "source": [
    "### P-1.30\n",
    "Write a Python program that can take a positive integer greater than 2 as\n",
    "input and write out the number of times one must repeatedly divide this\n",
    "number by 2 before getting a value less than 2."
   ]
  },
  {
   "cell_type": "code",
   "execution_count": 34,
   "metadata": {},
   "outputs": [
    {
     "name": "stdout",
     "output_type": "stream",
     "text": [
      "3\n",
      "3\n"
     ]
    }
   ],
   "source": [
    "from math import log\n",
    "\n",
    "\n",
    "# Using loops\n",
    "def count_div_by_two(number):\n",
    "    cpt = 0\n",
    "    while number >= 4:\n",
    "        number = number / 2\n",
    "        cpt += 1\n",
    "    return cpt\n",
    "\n",
    "\n",
    "# Using logarithms\n",
    "\n",
    "\n",
    "def log_count_div_by_two(number):\n",
    "    return int((log(number, 2) - 1))\n",
    "\n",
    "\n",
    "test_number = 16\n",
    "print(count_div_by_two(test_number))\n",
    "print(log_count_div_by_two(test_number))"
   ]
  },
  {
   "cell_type": "markdown",
   "metadata": {},
   "source": [
    "### P-1.31\n",
    "Write a Python program that can “make change.” Your program should\n",
    "take two numbers as input, one that is a monetary amount charged and the\n",
    "other that is a monetary amount given. It should then return the number\n",
    "of each kind of bill and coin to give back as change for the difference\n",
    "between the amount given and the amount charged. The values assigned\n",
    "to the bills and coins can be based on the monetary system of any current\n",
    "or former government. Try to design your program so that it returns as\n",
    "few bills and coins as possible."
   ]
  },
  {
   "cell_type": "code",
   "execution_count": 35,
   "metadata": {},
   "outputs": [
    {
     "name": "stdout",
     "output_type": "stream",
     "text": [
      "dict_values([0, 1, 1, 1, 1, 0, 1, 1, 1, 1, 3])\n"
     ]
    }
   ],
   "source": [
    "# I added an argument to use your own monetary system\n",
    "def make_change(charged, given, monetary_system):\n",
    "    difference = round(given - charged, 2)\n",
    "    currencies = {}\n",
    "    for currency in monetary_system:\n",
    "        currencies[currency] = int(difference // currency)\n",
    "        difference = difference % currency\n",
    "    return currencies.values()\n",
    "\n",
    "\n",
    "american_money = [100, 50, 20, 10, 5, 2, 1, 0.25, 0.10, 0.05, 0.01]\n",
    "print(make_change(213.56, 300, american_money))"
   ]
  },
  {
   "cell_type": "markdown",
   "metadata": {},
   "source": [
    "### P-1.34\n",
    "A common punishment for school children is to write out a sentence multiple\n",
    "times. Write a Python stand-alone program that will write out the\n",
    "following sentence one hundred times: “I will never spam my friends\n",
    "again.” Your program should number each of the sentences and it should\n",
    "make eight different random-looking typos."
   ]
  },
  {
   "cell_type": "code",
   "execution_count": 36,
   "metadata": {},
   "outputs": [
    {
     "name": "stdout",
     "output_type": "stream",
     "text": [
      "0. I will never sdav cb arleeds aguin.\n",
      "1. I qill tevyr sxam my wrijndg bgain.\n",
      "2. I witl nevxl stah my mriends agais.\n",
      "3. I will feier slam ry frihnds agxzz.\n",
      "4. I wiju naver jpfm mb siiends again.\n",
      "5. I will pevkr spzm mm grijpds again.\n",
      "6. I winl neqer spmf my friejdq wgaih.\n",
      "7. I yilb mhver spam mf frienrw agagn.\n",
      "8. I wirl njver spam ug friemdo again.\n",
      "9. I wuil nevev spam my srigwds fgaln.\n",
      "10. I wizl never dzah my frienms tgaig.\n",
      "11. I wpll ncver stab ky fryends agarx.\n",
      "12. I wgll never lpus my frirnds agqhl.\n",
      "13. I jilv pever sptm my frlenks agaie.\n",
      "14. I wmll neved stym my friendh aybbn.\n",
      "15. I witl nuven spar mk fvienes anain.\n",
      "16. I wild never cpai my sriecds ygaao.\n",
      "17. I till never spam vy frqepfc again.\n",
      "18. I will nevsv bpam my fyxeqds hgfin.\n",
      "19. I wdol npvar rpam cj friends aoain.\n",
      "20. I uill nzver soim my uniesds zgain.\n",
      "21. I eill neveu sfam mi friende ahain.\n",
      "22. I gill nraer spam my frpendp ustin.\n",
      "23. I wiww never jnam mb orienms again.\n",
      "24. I will nfver ypmm gy qricyds asain.\n",
      "25. I will neder spam me nriezdn cgayn.\n",
      "26. I will eevxc spam my frgnnds ngsrn.\n",
      "27. I wbjl neveh spam py kritnds anzin.\n",
      "28. I will aevtf sprx my friendx afaqn.\n",
      "29. I wili nwver spam uy vniendi agfit.\n",
      "30. I bjll nnver spay my ordends ajair.\n",
      "31. I wild nezey spam my toieids zgoin.\n",
      "32. I will yeper sodm mf frienzs ageid.\n",
      "33. I diuf nejer spkm my ffiendq vgain.\n",
      "34. I wdll newer shak my friemdy akawn.\n",
      "35. I wizw nives spam my fjbqnds again.\n",
      "36. I wiil kevbr spam mf hrfeeds wgain.\n",
      "37. I wcil cevjr spwm ny wrmends again.\n",
      "38. I will nsver smam my fqoetdg anaif.\n",
      "39. I will neter spwe my lritnas acaiu.\n",
      "40. I wild nevej spam ui vriends tgaik.\n",
      "41. I wyws never spam my zriengs cgiiv.\n",
      "42. I kill rzvet spam my vriends agaen.\n",
      "43. I wilx neveq spam mk vuixndm agvin.\n",
      "44. I brlp celer spam my frlends again.\n",
      "45. I uill never lrau my fqiewdx agcin.\n",
      "46. I will mener spdu gy frnends agdqn.\n",
      "47. I wilm nzvei spam fy fritnnv agakn.\n",
      "48. I woll neheh xpzd mw friends agaid.\n",
      "49. I will nevar squr mt fkiecds wgain.\n",
      "50. I qnll never kfam my grrengs agaid.\n",
      "51. I will nsver spaz my frihnvk aiatn.\n",
      "52. I well nnvea spam fy frvands agiin.\n",
      "53. I will npwmr spvq ey friendp agaan.\n",
      "54. I till neznr spay my sriends szavn.\n",
      "55. I wilj nrver spcm ey froenxe agarn.\n",
      "56. I jijp mever spat my foiendn agaik.\n",
      "57. I wilt nevwr spam ly fhiecds maawn.\n",
      "58. I will nnver nplo my frirnds agmia.\n",
      "59. I kdll nivep spam my fjiakcs again.\n",
      "60. I qiml neveh swam my frtcnds rgasn.\n",
      "61. I bial nzver spam my ftienve ajaiq.\n",
      "62. I cirv neyer wpym my friends amain.\n",
      "63. I wnll neuer kpay xy friekds lguin.\n",
      "64. I will fvvke cpam my frieids jgabn.\n",
      "65. I wqli nevrn rpam ay friends ugain.\n",
      "66. I will nevdf spam my vzzjnds abait.\n",
      "67. I will neher upam my fskecdg again.\n",
      "68. I wiis nevor shut my fhienus again.\n",
      "69. I wiks never mpam ny flidnds agafy.\n",
      "70. I wifx neler spam my frxesks amaip.\n",
      "71. I zill mevej sprm my fniends opyin.\n",
      "72. I wilh nevek spai my srjepks wgain.\n",
      "73. I till eevee spad cc frhends tgain.\n",
      "74. I oull mever kppm wy eriebds again.\n",
      "75. I will nrver spem hw foiends agris.\n",
      "76. I xilv never spbm mh whietms again.\n",
      "77. I ecle nqvje spam py friends agakn.\n",
      "78. I will naxbr spam qy friecds azvzn.\n",
      "79. I sile never sdam my foiends asdto.\n",
      "80. I will nkvef splo mt friezds ogwin.\n",
      "81. I will nevev sbam by jriendm ameyn.\n",
      "82. I dilg never spam my fkieihs aetij.\n",
      "83. I wiol nevlr siap my fmietrl again.\n",
      "84. I will nefer seam wy ffiends fgpin.\n",
      "85. I kihl nevfr spam sy pairnds aguin.\n",
      "86. I wwll neqmn spam my zjnends bgain.\n",
      "87. I wilf tever spuy mu fniends qgain.\n",
      "88. I will nevcr spxi me ftwends ngrin.\n",
      "89. I wfwm never spam sw frimnds anaiq.\n",
      "90. I will cever spzr my ffiibds agnzn.\n",
      "91. I whnl nevjr spam my lrdends abain.\n",
      "92. I cirl nived spap my frgends again.\n",
      "93. I kill neveq spam ly fhhesds agaxz.\n",
      "94. I wixc never scam vy hzienas acain.\n",
      "95. I wplo neveh spat my frxgqds agajn.\n",
      "96. I wall levej spqm mf iriends auaii.\n",
      "97. I wiql eseer sbac my frieedy again.\n",
      "98. I wifl never wpaa mp frieads aghiq.\n",
      "99. I afll never dyam ny friends doaln.\n"
     ]
    }
   ],
   "source": [
    "from random import randrange\n",
    "\n",
    "\n",
    "def repeat_sentence(s, repetitions):\n",
    "    alphabet = [chr(ord(\"a\") + num) for num in range(26)]\n",
    "    for rep_number in range(repetitions):\n",
    "        typo_s = s\n",
    "        typo_index = set()\n",
    "\n",
    "        while len(typo_index) != 8:\n",
    "            s_index = randrange(0, len(typo_s))\n",
    "            s_char = typo_s[s_index]\n",
    "\n",
    "            if s_index not in typo_index and s_char in alphabet:\n",
    "                char_in_alphabet = alphabet[randrange(0, len(alphabet))]\n",
    "                typo_s = typo_s[:s_index] + char_in_alphabet + typo_s[s_index + 1:]\n",
    "                typo_index.add(s_index)\n",
    "        print(\"{}. {}\".format(rep_number, typo_s))\n",
    "\n",
    "\n",
    "def main():\n",
    "    sentence = \"I will never spam my friends again.\"\n",
    "    number = 100\n",
    "    repeat_sentence(sentence, number)\n",
    "\n",
    "\n",
    "if __name__ == \"__main__\":\n",
    "    main()"
   ]
  },
  {
   "cell_type": "markdown",
   "metadata": {},
   "source": [
    "### P-1.35\n",
    "The birthday paradox says that the probability that two people in a room\n",
    "will have the same birthday is more than half, provided n, the number of\n",
    "people in the room, is more than 23. This property is not really a paradox,\n",
    "but many people find it surprising. Design a Python program that can test\n",
    "this paradox by a series of experiments on randomly generated birthdays,\n",
    "which test this paradox for n = 5,10,15,20, . . . ,100."
   ]
  },
  {
   "cell_type": "code",
   "execution_count": 37,
   "metadata": {},
   "outputs": [
    {
     "name": "stdout",
     "output_type": "stream",
     "text": [
      "We are testing the birthday paradox for different number of people\n",
      "\n",
      "Experiments     Person per test     Probability (%)\n",
      "  10000                5                2.69\n",
      "  10000               10               11.27\n",
      "  10000               15               25.75\n",
      "  10000               20               41.08\n",
      "  10000               25               56.27\n",
      "  10000               30               70.37\n",
      "  10000               35               80.91\n",
      "  10000               40               89.05\n",
      "  10000               45               94.05\n",
      "  10000               50               96.78\n",
      "  10000               55               98.44\n",
      "  10000               60               99.57\n",
      "  10000               65               99.75\n",
      "  10000               70               99.95\n",
      "  10000               75               99.97\n",
      "  10000               80              100.00\n",
      "  10000               85              100.00\n",
      "  10000               90              100.00\n",
      "  10000               95              100.00\n",
      "  10000              100              100.00\n"
     ]
    }
   ],
   "source": [
    "from random import randrange\n",
    "\n",
    "\n",
    "def same_birthday(n):\n",
    "    birthdays = {}\n",
    "    for person in range(n):\n",
    "        new_date = randrange(1,366)\n",
    "        if new_date in birthdays:\n",
    "            return True\n",
    "        else:\n",
    "            birthdays[new_date] = 1\n",
    "    return False\n",
    "\n",
    "\n",
    "def main():\n",
    "    print(\"We are testing the birthday paradox for different number of people\")\n",
    "    print(\"\")\n",
    "    print(\"{:16}{:20}{:}\".format(\"Experiments\", \"Person per test\", \"Probability (%)\"))\n",
    "\n",
    "    for number_of_person in range(5, 105, 5):\n",
    "        number_of_experiments = 10000\n",
    "        same_birthday_cpt = 0\n",
    "        for experiment in range(number_of_experiments):\n",
    "            if same_birthday(number_of_person):\n",
    "                same_birthday_cpt += 1\n",
    "\n",
    "        probability = same_birthday_cpt / number_of_experiments * 100\n",
    "        print(\"{:7} {:16} {:19.2f}\".format(number_of_experiments, number_of_person, probability))\n",
    "\n",
    "\n",
    "if __name__ == \"__main__\":\n",
    "    main()"
   ]
  },
  {
   "cell_type": "markdown",
   "metadata": {},
   "source": [
    "### P-1.36\n",
    "Write a Python program that inputs a list of words, separated by whitespace,\n",
    "and outputs how many times each word appears in the list. You\n",
    "need not worry about efficiency at this point, however, as this topic is\n",
    "something that will be addressed later in this book."
   ]
  },
  {
   "cell_type": "code",
   "execution_count": 38,
   "metadata": {},
   "outputs": [
    {
     "name": "stdout",
     "output_type": "stream",
     "text": [
      "Occurrences of words inside the sentence\n",
      "\n",
      "lets:1\n",
      "count:1\n",
      "words:1\n",
      "this:1\n",
      "could:1\n",
      "be:1\n",
      "useful:1\n",
      "in:1\n",
      "the:1\n",
      "future:1\n",
      "who:1\n",
      "knows:1\n",
      "test:3\n"
     ]
    }
   ],
   "source": [
    "def count_occurrences(words):\n",
    "    alphabet = [chr(ord(\"a\") + i) for i in range(26)]\n",
    "    counts = {}\n",
    "\n",
    "    for word in words.split(\" \"):\n",
    "        word = word.lower()\n",
    "        cleaned_word = \"\"\n",
    "        for char in word:\n",
    "            if char in alphabet:\n",
    "                cleaned_word += char\n",
    "\n",
    "        if cleaned_word not in counts:\n",
    "            counts[cleaned_word] = 1\n",
    "        else:\n",
    "            counts[cleaned_word] += 1\n",
    "\n",
    "    print(\"Occurrences of words inside the sentence\\n\")\n",
    "    for key in counts:\n",
    "        print(\"{}:{}\".format(key, counts[key]))\n",
    "\n",
    "\n",
    "def main():\n",
    "    sentence = \"Let's count words. This could be useful in the future, who knows? test test test\"\n",
    "    count_occurrences(sentence)\n",
    "\n",
    "\n",
    "if __name__ == \"__main__\":\n",
    "    main()\n"
   ]
  }
 ],
 "metadata": {
  "kernelspec": {
   "display_name": "Python 3",
   "language": "python",
   "name": "python3"
  },
  "language_info": {
   "codemirror_mode": {
    "name": "ipython",
    "version": 3
   },
   "file_extension": ".py",
   "mimetype": "text/x-python",
   "name": "python",
   "nbconvert_exporter": "python",
   "pygments_lexer": "ipython3",
   "version": "3.7.0"
  }
 },
 "nbformat": 4,
 "nbformat_minor": 2
}
