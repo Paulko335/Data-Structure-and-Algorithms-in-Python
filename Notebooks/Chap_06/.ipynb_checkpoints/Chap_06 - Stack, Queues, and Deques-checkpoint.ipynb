{
 "cells": [
  {
   "cell_type": "markdown",
   "metadata": {},
   "source": [
    "# Chap_06 - Stack, Queues, and Deques"
   ]
  },
  {
   "cell_type": "markdown",
   "metadata": {},
   "source": [
    "## Reinforcement"
   ]
  },
  {
   "cell_type": "markdown",
   "metadata": {},
   "source": [
    "### R-6.1\n",
    "What values are returned during the following series of stack operations, if\n",
    "executed upon an initially empty stack? push(5), push(3), pop(), push(2),\n",
    "push(8), pop(), pop(), push(9), push(1), pop(), push(7), push(6), pop(),\n",
    "pop(), push(4), pop(), pop()."
   ]
  },
  {
   "cell_type": "code",
   "execution_count": 33,
   "metadata": {},
   "outputs": [
    {
     "name": "stdout",
     "output_type": "stream",
     "text": [
      "\n",
      "3\n",
      "8\n",
      "2\n",
      "1\n",
      "6\n",
      "7\n",
      "4\n",
      "9\n",
      "integer 5 is still in the stack\n"
     ]
    }
   ],
   "source": [
    "print(\"\"\"\n",
    "3\n",
    "8\n",
    "2\n",
    "1\n",
    "6\n",
    "7\n",
    "4\n",
    "9\"\"\")\n",
    "print(\"integer 5 is still in the stack\")"
   ]
  },
  {
   "cell_type": "markdown",
   "metadata": {},
   "source": [
    "### R-6.2\n",
    "Suppose an initially empty stack S has executed a total of 25 push operations,\n",
    "12 top operations, and 10 pop operations, 3 of which raised Empty\n",
    "errors that were caught and ignored. What is the current size of S?"
   ]
  },
  {
   "cell_type": "markdown",
   "metadata": {},
   "source": [
    "25 - (10 - 3) = 18"
   ]
  },
  {
   "cell_type": "markdown",
   "metadata": {},
   "source": [
    "### R-6.3\n",
    "Implement a function with signature transfer(S, T) that transfers all elements\n",
    "from stack S onto stack T, so that the element that starts at the top\n",
    "of S is the first to be inserted onto T, and the element at the bottom of S\n",
    "ends up at the top of T."
   ]
  },
  {
   "cell_type": "code",
   "execution_count": 34,
   "metadata": {},
   "outputs": [],
   "source": [
    "def transfer(S, T):\n",
    "    \"\"\"Transfer all elements from stack S onto stack T in reversed order\"\"\"\n",
    "    while len(S) > 0:\n",
    "        T.push(S.pop())\n",
    "    return T"
   ]
  },
  {
   "cell_type": "markdown",
   "metadata": {},
   "source": [
    "### R-6.4\n",
    "Give a recursive method for removing all the elements from a stack"
   ]
  },
  {
   "cell_type": "code",
   "execution_count": 35,
   "metadata": {},
   "outputs": [],
   "source": [
    "def remove_all(stack):\n",
    "    if len(stack) == 0:\n",
    "        return\n",
    "    stack.pop()\n",
    "    return remove_all(stack)"
   ]
  },
  {
   "cell_type": "markdown",
   "metadata": {},
   "source": [
    "### R-6.5\n",
    "Give a recursive method for removing all the elements from a stack"
   ]
  },
  {
   "cell_type": "code",
   "execution_count": 36,
   "metadata": {},
   "outputs": [
    {
     "name": "stdout",
     "output_type": "stream",
     "text": [
      "[0, 1, 2, 3]\n",
      "[3, 2, 1, 0]\n"
     ]
    }
   ],
   "source": [
    "%run ch06/array_stack_6_5\n",
    "%run ch06/exceptions_6_5\n",
    "\n",
    "def reverse(lst):\n",
    "    S = ArrayStack()\n",
    "    for element in lst:\n",
    "        S.push(element)\n",
    "    for index in range(len(lst)):\n",
    "        lst[index] = S.pop()\n",
    "    return lst\n",
    "\n",
    "a_list = [0, 1, 2, 3]\n",
    "print(a_list)\n",
    "print(reverse(a_list))"
   ]
  },
  {
   "cell_type": "markdown",
   "metadata": {},
   "source": [
    "### R-6.7\n",
    "What values are returned during the following sequence of queue operations,\n",
    "if executed on an initially empty queue? enqueue(5), enqueue(3),\n",
    "dequeue(), enqueue(2), enqueue(8), dequeue(), dequeue(), enqueue(9),\n",
    "enqueue(1), dequeue(), enqueue(7), enqueue(6), dequeue(), dequeue(),\n",
    "enqueue(4), dequeue(), dequeue()."
   ]
  },
  {
   "cell_type": "code",
   "execution_count": 37,
   "metadata": {},
   "outputs": [
    {
     "name": "stdout",
     "output_type": "stream",
     "text": [
      "\n",
      "5\n",
      "3\n",
      "2\n",
      "8\n",
      "9\n",
      "1\n",
      "7\n",
      "6\n",
      "\n",
      "integer 4 is still in the queue\n"
     ]
    }
   ],
   "source": [
    "print(\"\"\"\n",
    "5\n",
    "3\n",
    "2\n",
    "8\n",
    "9\n",
    "1\n",
    "7\n",
    "6\n",
    "\"\"\")\n",
    "print(\"integer 4 is still in the queue\")"
   ]
  },
  {
   "cell_type": "markdown",
   "metadata": {},
   "source": [
    "### R-6.8\n",
    "Suppose an initially empty queue Q has executed a total of 32 enqueue\n",
    "operations, 10 first operations, and 15 dequeue operations, 5 of which\n",
    "raised Empty errors that were caught and ignored. What is the current\n",
    "size of Q?"
   ]
  },
  {
   "cell_type": "markdown",
   "metadata": {},
   "source": [
    "32 - (15 - 5) = 22"
   ]
  },
  {
   "cell_type": "markdown",
   "metadata": {},
   "source": [
    "### R-6.9\n",
    "Had the queue of the previous problem been an instance of ArrayQueue\n",
    "that used an initial array of capacity 30, and had its size never been greater\n",
    "than 30, what would be the final value of the front instance variable?"
   ]
  },
  {
   "cell_type": "markdown",
   "metadata": {},
   "source": [
    "15 - 5 = 10"
   ]
  },
  {
   "cell_type": "markdown",
   "metadata": {},
   "source": [
    "### R-6.11\n",
    "Give a simple adapter that implements our queue ADT while using a\n",
    "collections.deque instance for storage."
   ]
  },
  {
   "cell_type": "code",
   "execution_count": 38,
   "metadata": {},
   "outputs": [],
   "source": [
    "from collections import deque\n",
    "\n",
    "\n",
    "class AdapterQueue:\n",
    "\n",
    "    def __init__(self):\n",
    "        self._queue = deque()\n",
    "\n",
    "    def __len__(self):\n",
    "        return len(self._queue)\n",
    "\n",
    "    def is_empty(self):\n",
    "        return self._size == 0\n",
    "\n",
    "    def first(self):\n",
    "        if self.is_empty():\n",
    "            raise Exception('Queue is empty')\n",
    "        return self._queue[0]\n",
    "\n",
    "    def dequeue(self):\n",
    "        if self.is_empty():\n",
    "            raise Exception('Queue is empty')\n",
    "        return self._queue.popleft()\n",
    "\n",
    "    def enqueue(self, e):\n",
    "        self._queue.append(e)"
   ]
  },
  {
   "cell_type": "markdown",
   "metadata": {},
   "source": [
    "## Creativity"
   ]
  },
  {
   "cell_type": "markdown",
   "metadata": {},
   "source": [
    "### C-6.15\n",
    "Suppose Alice has picked three distinct integers and placed them into a\n",
    "stack S in random order. Write a short, straight-line piece of pseudo-code\n",
    "(with no loops or recursion) that uses only one comparison and only one\n",
    "variable x, yet that results in variable x storing the largest of Alice’s three\n",
    "integers with probability 2/3. Argue why your method is correct."
   ]
  },
  {
   "cell_type": "markdown",
   "metadata": {},
   "source": [
    "x = max(S.pop(), S.pop()"
   ]
  }
 ],
 "metadata": {
  "kernelspec": {
   "display_name": "Python 3",
   "language": "python",
   "name": "python3"
  },
  "language_info": {
   "codemirror_mode": {
    "name": "ipython",
    "version": 3
   },
   "file_extension": ".py",
   "mimetype": "text/x-python",
   "name": "python",
   "nbconvert_exporter": "python",
   "pygments_lexer": "ipython3",
   "version": "3.7.0"
  }
 },
 "nbformat": 4,
 "nbformat_minor": 2
}
