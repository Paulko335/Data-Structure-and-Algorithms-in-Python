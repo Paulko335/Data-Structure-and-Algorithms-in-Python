{
 "cells": [
  {
   "cell_type": "markdown",
   "metadata": {},
   "source": [
    "# Chap_06 - Stack, Queues, and Deques"
   ]
  },
  {
   "cell_type": "markdown",
   "metadata": {},
   "source": [
    "## Reinforcement"
   ]
  },
  {
   "cell_type": "markdown",
   "metadata": {},
   "source": [
    "### R-6.1\n",
    "What values are returned during the following series of stack operations, if\n",
    "executed upon an initially empty stack? push(5), push(3), pop(), push(2),\n",
    "push(8), pop(), pop(), push(9), push(1), pop(), push(7), push(6), pop(),\n",
    "pop(), push(4), pop(), pop()."
   ]
  },
  {
   "cell_type": "code",
   "execution_count": 33,
   "metadata": {},
   "outputs": [
    {
     "name": "stdout",
     "output_type": "stream",
     "text": [
      "\n",
      "3\n",
      "8\n",
      "2\n",
      "1\n",
      "6\n",
      "7\n",
      "4\n",
      "9\n",
      "integer 5 is still in the stack\n"
     ]
    }
   ],
   "source": [
    "print(\"\"\"\n",
    "3\n",
    "8\n",
    "2\n",
    "1\n",
    "6\n",
    "7\n",
    "4\n",
    "9\"\"\")\n",
    "print(\"integer 5 is still in the stack\")"
   ]
  },
  {
   "cell_type": "markdown",
   "metadata": {},
   "source": [
    "### R-6.2\n",
    "Suppose an initially empty stack S has executed a total of 25 push operations,\n",
    "12 top operations, and 10 pop operations, 3 of which raised Empty\n",
    "errors that were caught and ignored. What is the current size of S?"
   ]
  },
  {
   "cell_type": "markdown",
   "metadata": {},
   "source": [
    "25 - (10 - 3) = 18"
   ]
  },
  {
   "cell_type": "markdown",
   "metadata": {},
   "source": [
    "### R-6.3\n",
    "Implement a function with signature transfer(S, T) that transfers all elements\n",
    "from stack S onto stack T, so that the element that starts at the top\n",
    "of S is the first to be inserted onto T, and the element at the bottom of S\n",
    "ends up at the top of T."
   ]
  },
  {
   "cell_type": "code",
   "execution_count": 34,
   "metadata": {},
   "outputs": [],
   "source": [
    "def transfer(S, T):\n",
    "    \"\"\"Transfer all elements from stack S onto stack T in reversed order\"\"\"\n",
    "    while len(S) > 0:\n",
    "        T.push(S.pop())\n",
    "    return T"
   ]
  },
  {
   "cell_type": "markdown",
   "metadata": {},
   "source": [
    "### R-6.4\n",
    "Give a recursive method for removing all the elements from a stack"
   ]
  },
  {
   "cell_type": "code",
   "execution_count": 35,
   "metadata": {},
   "outputs": [],
   "source": [
    "def remove_all(stack):\n",
    "    if len(stack) == 0:\n",
    "        return\n",
    "    stack.pop()\n",
    "    return remove_all(stack)"
   ]
  },
  {
   "cell_type": "markdown",
   "metadata": {},
   "source": [
    "### R-6.5\n",
    "Give a recursive method for removing all the elements from a stack"
   ]
  },
  {
   "cell_type": "code",
   "execution_count": 36,
   "metadata": {},
   "outputs": [
    {
     "name": "stdout",
     "output_type": "stream",
     "text": [
      "[0, 1, 2, 3]\n",
      "[3, 2, 1, 0]\n"
     ]
    }
   ],
   "source": [
    "%run ch06/array_stack_6_5\n",
    "%run ch06/exceptions_6_5\n",
    "\n",
    "def reverse(lst):\n",
    "    S = ArrayStack()\n",
    "    for element in lst:\n",
    "        S.push(element)\n",
    "    for index in range(len(lst)):\n",
    "        lst[index] = S.pop()\n",
    "    return lst\n",
    "\n",
    "a_list = [0, 1, 2, 3]\n",
    "print(a_list)\n",
    "print(reverse(a_list))"
   ]
  },
  {
   "cell_type": "markdown",
   "metadata": {},
   "source": [
    "### R-6.7\n",
    "What values are returned during the following sequence of queue operations,\n",
    "if executed on an initially empty queue? enqueue(5), enqueue(3),\n",
    "dequeue(), enqueue(2), enqueue(8), dequeue(), dequeue(), enqueue(9),\n",
    "enqueue(1), dequeue(), enqueue(7), enqueue(6), dequeue(), dequeue(),\n",
    "enqueue(4), dequeue(), dequeue()."
   ]
  },
  {
   "cell_type": "code",
   "execution_count": 37,
   "metadata": {},
   "outputs": [
    {
     "name": "stdout",
     "output_type": "stream",
     "text": [
      "\n",
      "5\n",
      "3\n",
      "2\n",
      "8\n",
      "9\n",
      "1\n",
      "7\n",
      "6\n",
      "\n",
      "integer 4 is still in the queue\n"
     ]
    }
   ],
   "source": [
    "print(\"\"\"\n",
    "5\n",
    "3\n",
    "2\n",
    "8\n",
    "9\n",
    "1\n",
    "7\n",
    "6\n",
    "\"\"\")\n",
    "print(\"integer 4 is still in the queue\")"
   ]
  },
  {
   "cell_type": "markdown",
   "metadata": {},
   "source": [
    "### R-6.8\n",
    "Suppose an initially empty queue Q has executed a total of 32 enqueue\n",
    "operations, 10 first operations, and 15 dequeue operations, 5 of which\n",
    "raised Empty errors that were caught and ignored. What is the current\n",
    "size of Q?"
   ]
  },
  {
   "cell_type": "markdown",
   "metadata": {},
   "source": [
    "32 - (15 - 5) = 22"
   ]
  },
  {
   "cell_type": "markdown",
   "metadata": {},
   "source": [
    "### R-6.9\n",
    "Had the queue of the previous problem been an instance of ArrayQueue\n",
    "that used an initial array of capacity 30, and had its size never been greater\n",
    "than 30, what would be the final value of the front instance variable?"
   ]
  },
  {
   "cell_type": "markdown",
   "metadata": {},
   "source": [
    "15 - 5 = 10"
   ]
  },
  {
   "cell_type": "markdown",
   "metadata": {},
   "source": [
    "### R-6.11\n",
    "Give a simple adapter that implements our queue ADT while using a\n",
    "collections.deque instance for storage."
   ]
  },
  {
   "cell_type": "code",
   "execution_count": 38,
   "metadata": {},
   "outputs": [],
   "source": [
    "from collections import deque\n",
    "\n",
    "\n",
    "class AdapterQueue:\n",
    "\n",
    "    def __init__(self):\n",
    "        self._queue = deque()\n",
    "\n",
    "    def __len__(self):\n",
    "        return len(self._queue)\n",
    "\n",
    "    def is_empty(self):\n",
    "        return self._size == 0\n",
    "\n",
    "    def first(self):\n",
    "        if self.is_empty():\n",
    "            raise Exception('Queue is empty')\n",
    "        return self._queue[0]\n",
    "\n",
    "    def dequeue(self):\n",
    "        if self.is_empty():\n",
    "            raise Exception('Queue is empty')\n",
    "        return self._queue.popleft()\n",
    "\n",
    "    def enqueue(self, e):\n",
    "        self._queue.append(e)"
   ]
  },
  {
   "cell_type": "markdown",
   "metadata": {},
   "source": [
    "## Creativity"
   ]
  },
  {
   "cell_type": "markdown",
   "metadata": {},
   "source": [
    "### C-6.15\n",
    "Suppose Alice has picked three distinct integers and placed them into a\n",
    "stack S in random order. Write a short, straight-line piece of pseudo-code\n",
    "(with no loops or recursion) that uses only one comparison and only one\n",
    "variable x, yet that results in variable x storing the largest of Alice’s three\n",
    "integers with probability 2/3. Argue why your method is correct."
   ]
  },
  {
   "cell_type": "markdown",
   "metadata": {},
   "source": [
    "x = max(S.pop(), S.pop()"
   ]
  },
  {
   "cell_type": "markdown",
   "metadata": {},
   "source": [
    "## C-6.16\n",
    "Modify the ArrayStack implementation so that the stack’s capacity is limited\n",
    "to maxlen elements, where maxlen is an optional parameter to the\n",
    "constructor (that defaults to None). If push is called when the stack is at\n",
    "full capacity, throw a Full exception (defined similarly to Empty)."
   ]
  },
  {
   "cell_type": "code",
   "execution_count": 1,
   "metadata": {},
   "outputs": [
    {
     "ename": "Full",
     "evalue": "Stack is at full capacity",
     "output_type": "error",
     "traceback": [
      "\u001b[1;31m---------------------------------------------------------------------------\u001b[0m",
      "\u001b[1;31mFull\u001b[0m                                      Traceback (most recent call last)",
      "\u001b[1;32m<ipython-input-1-7d5994b67c79>\u001b[0m in \u001b[0;36m<module>\u001b[1;34m()\u001b[0m\n\u001b[0;32m      5\u001b[0m \u001b[0mstack\u001b[0m \u001b[1;33m=\u001b[0m \u001b[0mArrayStack\u001b[0m\u001b[1;33m(\u001b[0m\u001b[0mmaxlen\u001b[0m\u001b[1;33m=\u001b[0m\u001b[1;36m1\u001b[0m\u001b[1;33m)\u001b[0m\u001b[1;33m\u001b[0m\u001b[0m\n\u001b[0;32m      6\u001b[0m \u001b[0mstack\u001b[0m\u001b[1;33m.\u001b[0m\u001b[0mpush\u001b[0m\u001b[1;33m(\u001b[0m\u001b[1;36m0\u001b[0m\u001b[1;33m)\u001b[0m\u001b[1;33m\u001b[0m\u001b[0m\n\u001b[1;32m----> 7\u001b[1;33m \u001b[0mstack\u001b[0m\u001b[1;33m.\u001b[0m\u001b[0mpush\u001b[0m\u001b[1;33m(\u001b[0m\u001b[1;36m1\u001b[0m\u001b[1;33m)\u001b[0m\u001b[1;33m\u001b[0m\u001b[0m\n\u001b[0m",
      "\u001b[1;32m~\\Coding\\DSA Python (Goodrich)\\Notebooks\\Chap_06\\ch06\\array_stack_6_16.py\u001b[0m in \u001b[0;36mpush\u001b[1;34m(self, e)\u001b[0m\n\u001b[0;32m     47\u001b[0m             \u001b[0mself\u001b[0m\u001b[1;33m.\u001b[0m\u001b[0m_data\u001b[0m\u001b[1;33m.\u001b[0m\u001b[0mappend\u001b[0m\u001b[1;33m(\u001b[0m\u001b[0me\u001b[0m\u001b[1;33m)\u001b[0m                  \u001b[1;31m# new item stored at end of list\u001b[0m\u001b[1;33m\u001b[0m\u001b[0m\n\u001b[0;32m     48\u001b[0m         \u001b[1;32melse\u001b[0m\u001b[1;33m:\u001b[0m\u001b[1;33m\u001b[0m\u001b[0m\n\u001b[1;32m---> 49\u001b[1;33m             \u001b[1;32mraise\u001b[0m \u001b[0mFull\u001b[0m\u001b[1;33m(\u001b[0m\u001b[1;34m\"Stack is at full capacity\"\u001b[0m\u001b[1;33m)\u001b[0m\u001b[1;33m\u001b[0m\u001b[0m\n\u001b[0m\u001b[0;32m     50\u001b[0m \u001b[1;33m\u001b[0m\u001b[0m\n\u001b[0;32m     51\u001b[0m     \u001b[1;32mdef\u001b[0m \u001b[0mtop\u001b[0m\u001b[1;33m(\u001b[0m\u001b[0mself\u001b[0m\u001b[1;33m)\u001b[0m\u001b[1;33m:\u001b[0m\u001b[1;33m\u001b[0m\u001b[0m\n",
      "\u001b[1;31mFull\u001b[0m: Stack is at full capacity"
     ]
    }
   ],
   "source": [
    "%run ch06/array_stack_6_16\n",
    "%run ch06/exceptions_6_16\n",
    "#from array_stack_6_16 import ArrayStack\n",
    "\n",
    "stack = ArrayStack(maxlen=1)\n",
    "stack.push(0)\n",
    "stack.push(1)"
   ]
  },
  {
   "cell_type": "markdown",
   "metadata": {},
   "source": [
    "## C-6.17\n",
    "In the previous exercise, we assume that the underlying list is initially\n",
    "empty. Redo that exercise, this time preallocating an underlying list with\n",
    "length equal to the stack’s maximum capacity."
   ]
  },
  {
   "cell_type": "code",
   "execution_count": 5,
   "metadata": {},
   "outputs": [],
   "source": [
    "# Modified this in array_stack_6_17.py in Source_Code\n",
    "\n",
    "# def __init__(self, maxlen=None):\n",
    "#     \"\"\"Create an empty stack.\"\"\"\n",
    "#     self._data = []\n",
    "#     self._maxlen = maxlen\n",
    "\n",
    "        \n",
    "# for this\n",
    "\n",
    "#    def __init__(self, maxlen=None):\n",
    "#        \"\"\"Create an empty stack.\"\"\"\n",
    "#        if maxlen != None:\n",
    "#            self._data = [None] * maxlen\n",
    "#        else:\n",
    "#            self._data = []\n",
    "#            \n",
    "#        self._maxlen = maxlen"
   ]
  },
  {
   "cell_type": "markdown",
   "metadata": {},
   "source": [
    "## C-6.18\n",
    "Show how to use the transfer function, described in Exercise R-6.3, and\n",
    "two temporary stacks, to replace the contents of a given stack S with those\n",
    "same elements, but in reversed order."
   ]
  },
  {
   "cell_type": "code",
   "execution_count": 6,
   "metadata": {},
   "outputs": [],
   "source": [
    "# transfer function from Exercise R-6.3\n",
    "def transfer(S, T):\n",
    "    \"\"\"Transfer all elements from stack S onto stack T in reversed order\"\"\"\n",
    "    while len(S) > 0:\n",
    "        T.push(S.pop())\n",
    "    return T\n",
    "\n",
    "# S = Stack([0, 1, 2, 3])    # S contains [0, 1, 2, 3]\n",
    "# Temp1 = Stack()\n",
    "# Temp2 = Stack()\n",
    "#\n",
    "# transfer(S, Temp1)         # Temp1 contains [3, 2, 1, 0]\n",
    "# transfer(Temps, Temps2)    # Temp2 contains [0, 1, 2, 3]\n",
    "# transfer(Temps, S)         # S contains [3, 2, 1, 0]"
   ]
  },
  {
   "cell_type": "markdown",
   "metadata": {},
   "source": [
    "## C-6.23\n",
    "Suppose you have three nonempty stacks R, S, and T. Describe a sequence\n",
    "of operations that results in S storing all elements originally in T below all\n",
    "of S’s original elements, with both sets of those elements in their original\n",
    "order. The final configuration for R should be the same as its original\n",
    "configuration. For example, if R = [1,2,3], S = [4,5], and T = [6,7,8,9],\n",
    "the final configuration should have R = [1,2,3] and S = [6,7,8,9,4,5]."
   ]
  },
  {
   "cell_type": "code",
   "execution_count": 6,
   "metadata": {},
   "outputs": [
    {
     "name": "stdout",
     "output_type": "stream",
     "text": [
      "2\n",
      "3\n",
      "False\n",
      "5\n",
      "True\n",
      "9\n",
      "3\n",
      "4\n",
      "8\n",
      "R:  123\n",
      "678945\n",
      "This stack is empty\n"
     ]
    }
   ],
   "source": [
    "%run ch06/array_stack_6_23 \n",
    "\n",
    "# Added __str__ method to ArrayStack\n",
    "#\n",
    "# def __str__(self):\n",
    "#     string = \"\".join(str(element) for element in self._data)\n",
    "#     if string == \"\":\n",
    "#         string = \"This stack is empty\"\n",
    "#     return string\n",
    "\n",
    "\n",
    "def combine_two_stacks(A, B, C):\n",
    "    a_original_length = len(A)\n",
    "\n",
    "    while len(C) > 0:\n",
    "        A.push(C.pop())\n",
    "    while len(B) > 0:\n",
    "        C.push(B.pop())\n",
    "    while len(A) != a_original_length:\n",
    "        B.push(A.pop())\n",
    "    while len(C) > 0 :\n",
    "        B.push(C.pop())\n",
    "\n",
    "\n",
    "R = ArrayStack()\n",
    "R.push(1)\n",
    "R.push(2)\n",
    "R.push(3)\n",
    "\n",
    "S = ArrayStack()\n",
    "S.push(4)\n",
    "S.push(5)\n",
    "\n",
    "T = ArrayStack()\n",
    "T.push(6)\n",
    "T.push(7)\n",
    "T.push(8)\n",
    "T.push(9)\n",
    "\n",
    "combine_two_stacks(R, S, T)\n",
    "\n",
    "print(\"R: \", R)\n",
    "print(\"S: \", S)\n",
    "print(\"T: \", T)\n"
   ]
  },
  {
   "cell_type": "markdown",
   "metadata": {},
   "source": [
    "## C-6.24\n",
    "Describe how to implement the stack ADT using a single queue as an\n",
    "instance variable, and only constant additional local memory within the\n",
    "method bodies. What is the running time of the push(), pop(), and top()\n",
    "methods for your design?"
   ]
  },
  {
   "cell_type": "code",
   "execution_count": 7,
   "metadata": {},
   "outputs": [
    {
     "name": "stdout",
     "output_type": "stream",
     "text": [
      "3 is at the top of the stack\n",
      "3 comes out of the stack first\n"
     ]
    }
   ],
   "source": [
    "%run ch06/exceptions_6_24\n",
    "%run ch06/array_queue_6_24\n",
    "\n",
    "class Stack_Using_Queue:\n",
    "    \"\"\"LIFO Stack implementation using a Python list as underlying storage.\"\"\"\n",
    "\n",
    "    def __init__(self):\n",
    "        \"\"\"Create an empty stack.\"\"\"\n",
    "        self._data = ArrayQueue()   # Using a queue instead of a list\n",
    "\n",
    "    def __len__(self):\n",
    "        \"\"\"Return the number of elements in the stack.\"\"\"\n",
    "        return len(self._data)      # Using ArrayQueue len method\n",
    "\n",
    "    def is_empty(self):\n",
    "        \"\"\"Return True if the stack is empty.\"\"\"\n",
    "        return len(self._data) == 0\n",
    "\n",
    "    def push(self, e):\n",
    "        \"\"\"Add element e to the top of the stack.\"\"\"\n",
    "        self._data.enqueue(e)       # append() becomes enqueue()\n",
    "\n",
    "    def top(self):\n",
    "        \"\"\"Return (but do not remove) the element at the top of the stack.\n",
    "\n",
    "        Raise Empty exception if the stack is empty.\n",
    "        \"\"\"\n",
    "        if self.is_empty():\n",
    "            raise Empty('Stack is empty')\n",
    "        else:\n",
    "            for _ in range(len(self._data) - 1):    # cycling trough elements in the queue\n",
    "                self._data.enqueue(self._data.dequeue())\n",
    "            top = self._data.first()\n",
    "            self._data.enqueue(self._data.dequeue())\n",
    "        return top   # accessing first element with the method first,\n",
    "                                    # intead of using self._data[0]\n",
    "\n",
    "    def pop(self):\n",
    "        \"\"\"Remove and return the element from the top of the stack (i.e., LIFO).\n",
    "\n",
    "        Raise Empty exception if the stack is empty.\n",
    "        \"\"\"\n",
    "        if self.is_empty():\n",
    "            raise Empty('Stack is empty')\n",
    "        for _ in range(len(self._data) - 1):    # cycling trough elements in the queue\n",
    "            self._data.enqueue(self._data.dequeue())\n",
    "        return self._data.dequeue()                 # returning the last element of the queue\n",
    "                                                # it is equivalent to returning the first of the stack\n",
    "\n",
    "\n",
    "if __name__ == \"__main__\":\n",
    "    S = Stack_Using_Queue()\n",
    "    S.push(0)\n",
    "    S.push(1)\n",
    "    S.push(2)\n",
    "    S.push(3)\n",
    "    print(\"{} is at the top of the stack\".format(S.top()))\n",
    "    print(\"{} comes out of the stack first\".format(S.pop()))\n",
    "\n",
    "    # push() is O(1), because Q.enqueue() is O(1)\n",
    "    # pop is O(n), because it cycles trough the whole queue before returning\n",
    "    # top() is O(n), because it cycles trough the whole queue before returning\n"
   ]
  },
  {
   "cell_type": "markdown",
   "metadata": {},
   "source": [
    "## C-6.25\n",
    "Describe how to implement the queue ADT using two stacks as instance\n",
    "variables, such that all queue operations execute in amortized O(1) time.\n",
    "Give a formal proof of the amortized bound."
   ]
  },
  {
   "cell_type": "code",
   "execution_count": 9,
   "metadata": {},
   "outputs": [
    {
     "name": "stdout",
     "output_type": "stream",
     "text": [
      "Length of Q: 0\n",
      "Q if empty: True\n",
      "Length of Q: 1\n",
      "Q if empty: False\n",
      "0\n",
      "1\n",
      "2\n",
      "3\n"
     ]
    }
   ],
   "source": [
    "# The first stack (_incoming) is used as an income stack. Enqueued elements are simply added to it with push()\n",
    "# The second stack (_buffer) is the buffer for dequeues. It contains pushed element but in a reversed order.\n",
    "# therefore, it pops element in the right order for a queue\n",
    "#\n",
    "# If _buffer is empty but _incoming is not, _switch_stack method transfers every element in a reversed order\n",
    "\n",
    "%run ch06/array_stack_6_25\n",
    "%run ch06/exceptions_6_25\n",
    "\n",
    "class Queue_From_Two_Stacks:\n",
    "\n",
    "    def __init__(self):\n",
    "        self._incoming = ArrayStack()\n",
    "        self._buffer = ArrayStack()\n",
    "\n",
    "    def __len__(self):\n",
    "        \"\"\"Return the total length of the stacks\"\"\"\n",
    "        return len(self._incoming) + len(self._buffer)\n",
    "\n",
    "    def _switch_stacks(self):\n",
    "        for _ in range(len(self._incoming)):\n",
    "            self._buffer.push(self._incoming.pop())\n",
    "\n",
    "    def is_empty(self):\n",
    "        \"\"\"Return True if total length is zero \"\"\"\n",
    "        return len(self._incoming) + len(self._buffer) == 0\n",
    "\n",
    "    def enqueue(self, e):\n",
    "        self._incoming.push(e)\n",
    "\n",
    "    def dequeue(self):\n",
    "        if len(self._buffer) == 0:              # if both stacks are empty, raise exception\n",
    "            if len(self._incoming) == 0:\n",
    "                raise Empty(\"Queue is empty\")\n",
    "            else:                               # if self._incoming isn't empty, transfer to self._buffer\n",
    "                self._switch_stacks()\n",
    "        return self._buffer.pop()               # return the first value\n",
    "\n",
    "    def first(self):\n",
    "        if len(self._buffer) == 0:              # if both stacks are empty, raise exception\n",
    "            if len(self._incoming) == 0:\n",
    "                raise Empty(\"Queue is empty\")\n",
    "            else:                               # if self._incoming isn't empty, transfer to self._buffer\n",
    "                self._switch_stacks()\n",
    "        return self._buffer.top()               # return the first value\n",
    "\n",
    "if __name__ == \"__main__\":\n",
    "    Q = Queue_From_Two_Stacks()\n",
    "    print(\"Length of Q: {}\".format(len(Q)))\n",
    "    print(\"Q if empty: {}\".format(Q.is_empty()))\n",
    "\n",
    "    Q.enqueue(0)\n",
    "    print(\"Length of Q: {}\".format(len(Q)))\n",
    "    print(\"Q if empty: {}\".format(Q.is_empty()))\n",
    "\n",
    "    Q.enqueue(1)\n",
    "    print(Q.dequeue())\n",
    "\n",
    "    Q.enqueue(2)\n",
    "    Q.enqueue(3)\n",
    "\n",
    "    print(Q.dequeue())\n",
    "    print(Q.dequeue())\n",
    "    print(Q.dequeue())\n"
   ]
  },
  {
   "cell_type": "markdown",
   "metadata": {},
   "source": [
    "## C-6.26\n",
    "Describe how to implement the queue ADT using two stacks as instance\n",
    "variables, such that all queue operations execute in amortized O(1) time.\n",
    "Give a formal proof of the amortized bound."
   ]
  },
  {
   "cell_type": "code",
   "execution_count": 10,
   "metadata": {},
   "outputs": [
    {
     "name": "stdout",
     "output_type": "stream",
     "text": [
      "Deque now contains [0, 1, 2 ,3], where 0 is the last element\n",
      "0\n",
      "1\n",
      "_switch_stacks performed\n",
      "2\n",
      "_switch_stacks performed\n",
      "3\n"
     ]
    }
   ],
   "source": [
    "%run ch06/array_stack_6_26\n",
    "%run ch06/exceptions_6_26\n",
    "\n",
    "class Deque_From_Two_Stacks:\n",
    "\n",
    "    def __init__(self):\n",
    "        self._top_stack = ArrayStack()\n",
    "        self._bottom_stack = ArrayStack()\n",
    "\n",
    "    def __len__(self):\n",
    "        \"\"\"Return total length of stacks\"\"\"\n",
    "        return len(self._top_stack) + len(self._bottom_stack)\n",
    "\n",
    "    def _switch_stacks(self):\n",
    "        \"\"\"Transfers element from the not empty one to the empty one\"\"\"\n",
    "        empty = self._top_stack         # top stack is marked as the empty one\n",
    "        nonempty = self._bottom_stack\n",
    "        if len(nonempty) == 0:          # if top stack was is fact the not empty one, reverse them\n",
    "            empty, nonempty = nonempty, empty\n",
    "\n",
    "        for _ in range(len(nonempty)):  # transfer every element from nonempty to empty\n",
    "            empty.push(nonempty.pop())\n",
    "\n",
    "        # print to show that this method is performing correctly, remove it when using the class\n",
    "        print(\"_switch_stacks performed\")\n",
    "\n",
    "    def is_empty(self):\n",
    "        return len(self._top_stack) + len(self._bottom_stack) == 0\n",
    "\n",
    "    def add_first(self, e):\n",
    "        self._top_stack.push(e)\n",
    "\n",
    "    def add_last(self, e):\n",
    "        self._bottom_stack.push(e)\n",
    "\n",
    "    def delete_first(self):\n",
    "        if len(self._top_stack) == 0:\n",
    "            if len(self._bottom_stack) == 0:\n",
    "                raise Empty(\"Deque is empty.\")\n",
    "            else:\n",
    "                self._switch_stacks()\n",
    "        return self._top_stack.pop()\n",
    "\n",
    "    def delete_last(self):\n",
    "        if len(self._bottom_stack) == 0:\n",
    "            if len(self._top_stack) == 0:\n",
    "                raise Empty(\"Deque is empty.\")\n",
    "            else:\n",
    "                self._switch_stacks()\n",
    "        return self._bottom_stack.pop()\n",
    "\n",
    "    def first(self):\n",
    "        if len(self._top_stack) == 0:\n",
    "            if len(self._bottom_stack) == 0:\n",
    "                raise Empty(\"Deque is empty.\")\n",
    "            else:\n",
    "                self._switch_stacks()\n",
    "        return self._top_stack.top()\n",
    "\n",
    "    def last(self):\n",
    "        if len(self._bottom_stack) == 0:\n",
    "            if len(self._top_stack) == 0:\n",
    "                raise Empty(\"Deque is empty.\")\n",
    "            else:\n",
    "                self._switch_stacks()\n",
    "        return self._bottom_stack.top()\n",
    "\n",
    "\n",
    "Deque = Deque_From_Two_Stacks()\n",
    "Deque.add_first(2)\n",
    "Deque.add_first(3)\n",
    "Deque.add_last(1)\n",
    "Deque.add_last(0)\n",
    "print(\"Deque now contains [0, 1, 2 ,3], where 0 is the last element\")\n",
    "\n",
    "print(Deque.delete_last())\n",
    "print(Deque.delete_last())\n",
    "print(Deque.delete_last())      # _bottom_stack is empty, _switch_stacks method is used\n",
    "print(Deque.delete_first())     # _top_stack is empty, _switch_stacks method is used\n",
    "\n",
    "\n",
    "# The only problem with this implementation is if you pop successively from top\n",
    "# and then bottom when only one of the stack has elements. For every pop, the\n",
    "# class transfers every elements to the other stack, resulting in a O(n^2) in\n",
    "# the worst case.\n",
    "# --> It is the sum of : n + (n-1) + (n-2) + ... + 3 + 2 + 1 = n(n+1)/2 element transfered\n"
   ]
  },
  {
   "cell_type": "markdown",
   "metadata": {},
   "source": [
    "## C-6.27\n",
    "Suppose you have a stack S containing n elements and a queue Q that is\n",
    "initially empty. Describe how you can use Q to scan S to see if it contains a\n",
    "certain element x, with the additional constraint that your algorithm must\n",
    "return the elements back to S in their original order. You may only use S,\n",
    "Q, and a constant number of other variables."
   ]
  },
  {
   "cell_type": "code",
   "execution_count": null,
   "metadata": {},
   "outputs": [],
   "source": [
    "%run ch06/array_queue_2_27\n",
    "%run ch06/array_stack_2_27\n",
    "\n",
    "\n",
    "def is_in_stack(element, stack):\n",
    "    Q = ArrayQueue()\n",
    "    occurrence = False\n",
    "\n",
    "    # moving every item from the stack to the queue and checking if the element is present\n",
    "    while not stack.is_empty():\n",
    "        new_member = stack.pop()\n",
    "        Q.enqueue(new_member)\n",
    "        if new_member == element:\n",
    "            occurrence = True\n",
    "\n",
    "    while not Q.is_empty():\n",
    "        stack.push(Q.dequeue())     # stack is now in a reversed order\n",
    "\n",
    "    while not stack.is_empty():           # reversing the stack once again\n",
    "        Q.enqueue(stack.pop())\n",
    "\n",
    "    while not Q.is_empty():               # stack is now in the correct order\n",
    "        stack.push(Q.dequeue())\n",
    "\n",
    "    return occurrence\n",
    "\n",
    "\n",
    "if __name__ == \"__main__\":\n",
    "\n",
    "    S = ArrayStack()\n",
    "    Q = ArrayQueue()\n",
    "\n",
    "    for item in range(10):\n",
    "        S.push(item)\n",
    "\n",
    "    print(is_in_stack(5, S))    # is the int 5 inside the stack?\n",
    "\n",
    "    for item in range(len(S)):  # verifying the order of the stack\n",
    "        print(S.pop())\n"
   ]
  },
  {
   "cell_type": "markdown",
   "metadata": {},
   "source": [
    "## C-6.28\n",
    "Modify the ArrayQueue implementation so that the queue’s capacity is\n",
    "limited to maxlen elements, where maxlen is an optional parameter to the\n",
    "constructor (that defaults to None). If enqueue is called when the queue\n",
    "is at full capacity, throw a Full exception (defined similarly to Empty)."
   ]
  },
  {
   "cell_type": "code",
   "execution_count": 11,
   "metadata": {},
   "outputs": [
    {
     "name": "stdout",
     "output_type": "stream",
     "text": [
      "enqueued 0\n",
      "enqueued 1\n",
      "Queue overflow!\n"
     ]
    }
   ],
   "source": [
    "# modified enqueue method and added self._maxlen attribute\n",
    "\n",
    "%run ch06/array_queue_6_28\n",
    "\n",
    "Q = ArrayQueue(maxlen=2)\n",
    "\n",
    "for index in range(3):\n",
    "    try:\n",
    "        Q.enqueue(0)\n",
    "        print(\"enqueued {}\".format(index))\n",
    "    except Exception as e:\n",
    "        print(e)"
   ]
  },
  {
   "cell_type": "markdown",
   "metadata": {},
   "source": [
    "## C-6.\n"
   ]
  },
  {
   "cell_type": "code",
   "execution_count": null,
   "metadata": {},
   "outputs": [],
   "source": []
  },
  {
   "cell_type": "markdown",
   "metadata": {},
   "source": [
    "## C-6.\n"
   ]
  },
  {
   "cell_type": "code",
   "execution_count": null,
   "metadata": {},
   "outputs": [],
   "source": []
  },
  {
   "cell_type": "markdown",
   "metadata": {},
   "source": [
    "## C-6.\n"
   ]
  },
  {
   "cell_type": "code",
   "execution_count": null,
   "metadata": {},
   "outputs": [],
   "source": []
  },
  {
   "cell_type": "markdown",
   "metadata": {},
   "source": [
    "## C-6.\n"
   ]
  },
  {
   "cell_type": "code",
   "execution_count": null,
   "metadata": {},
   "outputs": [],
   "source": []
  },
  {
   "cell_type": "code",
   "execution_count": null,
   "metadata": {},
   "outputs": [],
   "source": []
  },
  {
   "cell_type": "code",
   "execution_count": null,
   "metadata": {},
   "outputs": [],
   "source": []
  },
  {
   "cell_type": "code",
   "execution_count": null,
   "metadata": {},
   "outputs": [],
   "source": []
  }
 ],
 "metadata": {
  "kernelspec": {
   "display_name": "Python 3",
   "language": "python",
   "name": "python3"
  },
  "language_info": {
   "codemirror_mode": {
    "name": "ipython",
    "version": 3
   },
   "file_extension": ".py",
   "mimetype": "text/x-python",
   "name": "python",
   "nbconvert_exporter": "python",
   "pygments_lexer": "ipython3",
   "version": "3.7.0"
  }
 },
 "nbformat": 4,
 "nbformat_minor": 2
}
