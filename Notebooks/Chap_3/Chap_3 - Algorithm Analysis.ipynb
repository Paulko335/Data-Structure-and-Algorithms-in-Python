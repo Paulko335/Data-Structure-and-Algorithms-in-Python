{
 "cells": [
  {
   "cell_type": "markdown",
   "metadata": {},
   "source": [
    "# Chapter 03 - Algorithm Analysis"
   ]
  },
  {
   "cell_type": "markdown",
   "metadata": {},
   "source": [
    "## Reinforcement"
   ]
  },
  {
   "cell_type": "markdown",
   "metadata": {},
   "source": [
    "### R-3.1\n",
    "Graph the functions 8n, 4nlog n, 2n2, n3, and 2n using a logarithmic scale\n",
    "for the x- and y-axes; that is, if the function value f (n) is y, plot this as a\n",
    "point with x-coordinate at logn and y-coordinate at logy."
   ]
  },
  {
   "cell_type": "code",
   "execution_count": 61,
   "metadata": {},
   "outputs": [
    {
     "data": {
      "image/png": "[encoded data removed]",
      "text/plain": [
       "<Figure size 432x288 with 1 Axes>"
      ]
     },
     "metadata": {
      "needs_background": "light"
     },
     "output_type": "display_data"
    }
   ],
   "source": [
    "import numpy as np\n",
    "import matplotlib.pyplot as plt\n",
    "\n",
    "n = range(1, 128)\n",
    "\n",
    "plt.figure()\n",
    "plt.title(\"Comparison of functions on a log_2 scale\")\n",
    "\n",
    "# Plotting functions\n",
    "plt.plot(n, [8*i for i in n], label=\"8n\")\n",
    "plt.plot(n, [4*i*np.log2(i) for i in n], label=\"4n log(n)\")\n",
    "plt.plot(n, [2*i*i for i in n], label=\"2n^2\")\n",
    "plt.plot(n, [i*i*i for i in n], label=\"n^3\")\n",
    "plt.plot(n, [2**i for i in n], label=\"2^n\")\n",
    "\n",
    "# Setting logarithmic scale of base 2\n",
    "plt.yscale(\"log\", basey=2)\n",
    "plt.xscale(\"log\", basex=2)\n",
    "\n",
    "# Axis labels\n",
    "plt.xlabel(\"Log_2(n)\")\n",
    "plt.ylabel(\"Log_2( f(n) )\")\n",
    "\n",
    "plt.legend()\n",
    "plt.show()\n"
   ]
  },
  {
   "cell_type": "markdown",
   "metadata": {},
   "source": [
    "### R-3.2\n",
    "The number of operations executed by algorithms A and B is 8nlog n and\n",
    "2n2, respectively. Determine n_0 such that A is better than B for n ≥ n0."
   ]
  },
  {
   "cell_type": "markdown",
   "metadata": {},
   "source": [
    "Finding n_0:\n",
    "\n",
    "8n log(n) = 2 n^2\n",
    " 4 log(n) = n\n",
    " log(n^4) = n\n",
    "    n^4 = 2^n\n",
    "             \n",
    "It is true when n = 16"
   ]
  },
  {
   "cell_type": "markdown",
   "metadata": {},
   "source": [
    "### R-3.3\n",
    "The number of operations executed by algorithms A and B is 40n2 and\n",
    "2n3, respectively. Determine n0 such that A is better than B for n ≥ n0."
   ]
  },
  {
   "cell_type": "markdown",
   "metadata": {},
   "source": [
    "Finding n_0:\n",
    "\n",
    "40n^2 = 2n^3\n",
    "   20 = n\n",
    "\n",
    "-> n0 = 20"
   ]
  },
  {
   "cell_type": "markdown",
   "metadata": {},
   "source": [
    "### R-3.4\n",
    "Give an example of a function that is plotted the same on a log-log scale\n",
    "as it is on a standard scale."
   ]
  },
  {
   "cell_type": "markdown",
   "metadata": {},
   "source": [
    "A constant function will look the same on a log and on a normal scale."
   ]
  },
  {
   "cell_type": "markdown",
   "metadata": {},
   "source": [
    "### R-3.8\n",
    "Order the following functions by asymptotic growth rate.\n",
    "4nlog(n) + 2n, 2^10, 2^log(n)\n",
    "3n+100log(n), 4n, 2^n\n",
    "n^2+10n, n^3, nlog(n)"
   ]
  },
  {
   "cell_type": "markdown",
   "metadata": {},
   "source": [
    "Functions sorted by growth rate:\n",
    "    2^10\n",
    "    3n + 100log(n)\n",
    "    4n\n",
    "    nlog(n)  \n",
    "    4nlog(n) + 2n\n",
    "    n^2 + 10n\n",
    "    n^3\n",
    "    2^log(n)\n",
    "    2^n  "
   ]
  },
  {
   "cell_type": "markdown",
   "metadata": {},
   "source": [
    "### R-3.23-27\n",
    "Give a big-Oh characterization, in terms of n, of the running time of the\n",
    "example(1, 2, 3, 4, 5) function shown in Code Fragment 3.10.\n",
    "total += S[j] is executed j times, where j = n\n",
    "                       -> n\n",
    "                       -> O(n)"
   ]
  },
  {
   "cell_type": "code",
   "execution_count": 62,
   "metadata": {},
   "outputs": [],
   "source": [
    "def example1(S):\n",
    "    \"\"\"Return the sum of the elements in sequence S.\"\"\"\n",
    "    n = len(S)\n",
    "    total = 0\n",
    "    for j in range(n):  # loop from 0 to n-1\n",
    "        total += S[j]\n",
    "    return total\n",
    "\n",
    "\n",
    "# total += S[j] is executed j times, where j = n/2\n",
    "#                        -> n/2\n",
    "#                        -> O(n)\n",
    "def example2(S):\n",
    "    \"\"\"Return the sum of the elements with even index in sequence S.\"\"\"\n",
    "    n = len(S)\n",
    "    total = 0\n",
    "    for j in range(0, n, 2):  # note the increment of 2\n",
    "        total += S[j]\n",
    "    return total\n",
    "\n",
    "\n",
    "# total += S[j] is executed j * k times, where k = 1 + j\n",
    "#                        -> j * (1 + j) = j^2 + 1 and j = n\n",
    "#                        -> n^2 + n\n",
    "#                        -> O(n^2)\n",
    "def example3(S):\n",
    "    \"\"\"Return the sum of the prefix sums of sequence S.\"\"\"\n",
    "    n = len(S)\n",
    "    total = 0\n",
    "    for j in range(n):  # loop from 0 to n-1\n",
    "        for k in range(1 + j):  # loop from 0 to j\n",
    "            total += S[k]\n",
    "    return total\n",
    "\n",
    "\n",
    "# += is executed twice for each j, where j = n\n",
    "#                          -> 2*n\n",
    "#                             O(n)\n",
    "def example4(S):\n",
    "    \"\"\"Return the sum of the prefix sums of sequence S.\"\"\"\n",
    "    n = len(S)\n",
    "    prefix = 0\n",
    "    total = 0\n",
    "    for j in range(n):\n",
    "        prefix += S[j]\n",
    "        total += prefix\n",
    "    return total\n",
    "\n",
    "\n",
    "# i is executed n times\n",
    "# j is executed n times for every i\n",
    "# k is executed j + 1 times for every j\n",
    "# B[i] == total is O(n) because it is true at most n times\n",
    "#\n",
    "# -> i * (j * (k))\n",
    "# -> n * (n(n+1)/2 + n)\n",
    "# -> n * (n(n+3)/2)\n",
    "# -> n^2 * (n+3)/2\n",
    "# -> O(n^2)\n",
    "#\n",
    "def example5(A, B):  # assume that A and B have equal length\n",
    "    \"\"\"Return the number of elements in B equal to the sum of prefix sums in A.\"\"\"\n",
    "    n = len(A)\n",
    "    count = 0\n",
    "    for i in range(n):  # loop from 0 to n-1\n",
    "        total = 0\n",
    "        for j in range(n):  # loop from 0 to n-1\n",
    "            for k in range(1 + j):  # loop from 0 to j\n",
    "                total += A[k]\n",
    "        if B[i] == total:\n",
    "            count += 1\n",
    "    return count\n"
   ]
  },
  {
   "cell_type": "markdown",
   "metadata": {},
   "source": [
    "### R-3.29\n",
    "Algorithm A executes an O(log n)-time computation for each entry of an\n",
    "n-element sequence. What is its worst-case running time?"
   ]
  },
  {
   "cell_type": "markdown",
   "metadata": {},
   "source": [
    "The worst running time is O(nlog(n))"
   ]
  },
  {
   "cell_type": "markdown",
   "metadata": {},
   "source": [
    "### R-3.30\n",
    "Given an n-element sequence S, Algorithm B chooses logn elements in\n",
    "S at random and executes an O(n)-time calculation for each. What is the\n",
    "worst-case running time of Algorithm B?"
   ]
  },
  {
   "cell_type": "markdown",
   "metadata": {},
   "source": [
    "The worst running time is O(nlog(n))"
   ]
  },
  {
   "cell_type": "markdown",
   "metadata": {},
   "source": [
    "### R-3.31\n",
    "Given an n-element sequence S of integers, Algorithm C executes an\n",
    "O(n)-time computation for each even number in S, and an O(logn)-time\n",
    "computation for each odd number in S. What are the best-case and worstcase\n",
    "running times of Algorithm C?"
   ]
  },
  {
   "cell_type": "markdown",
   "metadata": {},
   "source": [
    "Best case: O(log(n)), Worst case: O(n)"
   ]
  },
  {
   "cell_type": "markdown",
   "metadata": {},
   "source": [
    "### R-3.32\n",
    "Given an n-element sequence S, Algorithm D calls Algorithm E on each\n",
    "element S[i]. Algorithm E runs in O(i) time when it is called on element\n",
    "S[i]. What is the worst-case running time of Algorithm D?"
   ]
  },
  {
   "cell_type": "markdown",
   "metadata": {},
   "source": [
    "S contains n elements\n",
    "For every element i in S, E runs at O(i)\n",
    "The worst case is:\n",
    "O(1) + O(2) + O(3) + ... + O(n) = O(n(n+1)/2) = O(n^2)"
   ]
  },
  {
   "cell_type": "markdown",
   "metadata": {},
   "source": [
    "### R-3.33\n",
    "Al and Bob are arguing about their algorithms. Al claims his O(nlog n)-\n",
    "time method is always faster than Bob’s O(n2)-time method. To settle the\n",
    "issue, they perform a set of experiments. To Al’s dismay, they find that if\n",
    "n < 100, the O(n2)-time algorithm runs faster, and only when n ≥ 100 is\n",
    "the O(nlog n)-time one better. Explain how this is possible."
   ]
  },
  {
   "cell_type": "markdown",
   "metadata": {},
   "source": [
    "It is possible for a O(n^2) to be faster than a O(nlog(n))\n",
    "We must look at factors in both algorithms\n",
    "\n",
    "-> n^2 < 16 * n * log(n), for n <= 108"
   ]
  },
  {
   "cell_type": "markdown",
   "metadata": {},
   "source": [
    "### R-3.34\n",
    "There is a well-known city (which will go nameless here) whose inhabitants\n",
    "have the reputation of enjoying a meal only if that meal is the best\n",
    "they have ever experienced in their life. Otherwise, they hate it. Assuming\n",
    "meal quality is distributed uniformly across a person’s life, describe\n",
    "the expected number of times inhabitants of this city are happy with their\n",
    "meals?"
   ]
  },
  {
   "cell_type": "code",
   "execution_count": 63,
   "metadata": {},
   "outputs": [
    {
     "data": {
      "image/png": "[encoded data removed]",
      "text/plain": [
       "<Figure size 432x288 with 1 Axes>"
      ]
     },
     "metadata": {
      "needs_background": "light"
     },
     "output_type": "display_data"
    },
    {
     "name": "stdout",
     "output_type": "stream",
     "text": [
      "Y is a harmonic number and we know that it is O(log(n))\n"
     ]
    }
   ],
   "source": [
    "# Let n be the number of days lived\n",
    "# People in this city eat only one meal a day\n",
    "# Therefore, the probability of enjoying a meal is 1/n everyday\n",
    "#\n",
    "# The average cumulative number of times an inhabitant enjoyed a meal is the sum of 1/i,\n",
    "# where i goes from 1 to n\n",
    "\n",
    "import matplotlib.pyplot as plt\n",
    "\n",
    "maximum_age = 100       # years\n",
    "n = maximum_age * 365   # years * days/ years =  years\n",
    "total_enjoyed_days = 0\n",
    "\n",
    "xs = []\n",
    "ys = []\n",
    "\n",
    "for i in range(1, n+1):\n",
    "    xs.append(i/365)    # X-axis will be shown in years\n",
    "    total_enjoyed_days += 1/i\n",
    "    ys.append(total_enjoyed_days)\n",
    "\n",
    "plt.plot(xs, ys)\n",
    "plt.xlabel(\"Years lived\")\n",
    "plt.ylabel(\"Average meals enjoyed\")\n",
    "plt.title(\"Average cumulative number of times an inhabitant\\n enjoyed his meal in a well-known city\")\n",
    "plt.show()\n",
    "\n",
    "print(\"Y is a harmonic number and we know that it is O(log(n))\")\n"
   ]
  },
  {
   "cell_type": "markdown",
   "metadata": {},
   "source": [
    "## Reinforcement"
   ]
  },
  {
   "cell_type": "markdown",
   "metadata": {},
   "source": [
    "### C-3.35\n",
    "Assuming it is possible to sort n numbers in O(nlog n) time, show that it\n",
    "is possible to solve the three-way set disjointness problem in O(nlogn)\n",
    "time."
   ]
  },
  {
   "cell_type": "code",
   "execution_count": 64,
   "metadata": {},
   "outputs": [],
   "source": [
    "# This function is O(n log(n))\n",
    "def disjoint3(A, B, C):\n",
    "    '''Returns True is there is no element common to all three lists,\n",
    "       assuming every list has unique elements.'''\n",
    "    ABC = A + B + C\n",
    "    ABC = ABC.sort()    # Sorting in O(nlog(n))\n",
    "    for index in range(len(ABC - 2)):\n",
    "        if ABC[index] == ABC[index + 1] == ABC[index + 2]:\n",
    "            return False\n",
    "    return True"
   ]
  },
  {
   "cell_type": "markdown",
   "metadata": {},
   "source": [
    "### C-3.36\n",
    "Describe an efficient algorithm for finding the ten largest elements in a\n",
    "sequence of size n. What is the running time of your algorithm?"
   ]
  },
  {
   "cell_type": "code",
   "execution_count": 65,
   "metadata": {},
   "outputs": [
    {
     "name": "stdout",
     "output_type": "stream",
     "text": [
      "[10, 11, 12, 13, 14, 15, 16, 17, 18, 19]\n"
     ]
    }
   ],
   "source": [
    "def find_ten_largest(A):\n",
    "    A = sorted(A)\n",
    "    return A[-10:]\n",
    "\n",
    "\n",
    "print(find_ten_largest(range(20)))\n"
   ]
  },
  {
   "cell_type": "markdown",
   "metadata": {},
   "source": [
    "### C-3.42\n",
    "Bob built a Web site and gave the URL only to his n friends, which he\n",
    "numbered from 1 to n. He told friend number i that he/she can visit the\n",
    "Web site at most i times. Now Bob has a counter, C, keeping track of the\n",
    "total number of visits to the site (but not the identities of who visits). What\n",
    "is the minimum value for C such that Bob can know that one of his friends\n",
    "has visited his/her maximum allowed number of times?"
   ]
  },
  {
   "cell_type": "markdown",
   "metadata": {},
   "source": [
    "If every friend can visit i-1 times the website before Bob can know\n",
    "Therefore, the number is n(n+1)/2 - n = (n^2)/2 + 1."
   ]
  },
  {
   "cell_type": "markdown",
   "metadata": {},
   "source": [
    "### C-3.45\n",
    "A sequence S contains n−1 unique integers in the range [0,n−1], that\n",
    "is, there is one number from this range that is not in S. Design an O(n)-\n",
    "time algorithm for finding that number. You are only allowed to use O(1)\n",
    "additional space besides the sequence S itself."
   ]
  },
  {
   "cell_type": "code",
   "execution_count": 66,
   "metadata": {},
   "outputs": [
    {
     "name": "stdout",
     "output_type": "stream",
     "text": [
      "2\n",
      "No missing integer\n"
     ]
    }
   ],
   "source": [
    "def find_missing_integer(sequence):\n",
    "    \"\"\"Returns the first missing integer from a sequence\"\"\"\n",
    "    for index in range(len(sequence) - 1 ):\n",
    "        diff = sequence[index + 1] - sequence[index]\n",
    "        if diff != 1:\n",
    "            return sequence[index] + 1\n",
    "    return \"No missing integer\"\n",
    "\n",
    "\n",
    "# Integer 2 is missing from the sequence\n",
    "sequence_1= [0, 1, 3, 4]\n",
    "print(find_missing_integer(sequence_1))\n",
    "\n",
    "# Complete sequence\n",
    "sequence_2= [0, 1, 2, 3]\n",
    "print(find_missing_integer(sequence_2))"
   ]
  },
  {
   "cell_type": "markdown",
   "metadata": {},
   "source": [
    "### C-3.54\n",
    "A sequence S contains n integers taken from the interval [0,4n], with repetitions\n",
    "allowed. Describe an efficient algorithm for determining an integer\n",
    "value k that occurs the most often in S. What is the running time of your\n",
    "algorithm?"
   ]
  },
  {
   "cell_type": "code",
   "execution_count": 67,
   "metadata": {},
   "outputs": [
    {
     "name": "stdout",
     "output_type": "stream",
     "text": [
      "The most frequent integer is 6, it is written 4 times.\n"
     ]
    }
   ],
   "source": [
    "def get_most_repetitive(sequence):\n",
    "    \"\"\"Finds the most frequent integer in a sequence\n",
    "       Returns the integer and it's count\"\"\"\n",
    "    sequence = sorted(sequence)\n",
    "    current_max = [sequence[0]]\n",
    "    possible_max = []\n",
    "    for index in range(1, len(sequence)):\n",
    "        if sequence[index] == current_max[0]:\n",
    "            current_max.append(sequence[index])\n",
    "        elif len(possible_max) == 0 or sequence[index] == possible_max[0]:\n",
    "            possible_max.append(sequence[index])\n",
    "            if len(possible_max) > len(current_max):\n",
    "                current_max = possible_max\n",
    "        else:\n",
    "            possible_max = [sequence[index]]\n",
    "    return current_max[0], len(current_max)\n",
    "\n",
    "\n",
    "my_sequence = [0, 0, 1, 2, 3, 3, 3, 4, 4, 6, 6, 6, 6]\n",
    "integer, occurence = get_most_repetitive(my_sequence)\n",
    "print(\"The most frequent integer is {}, it is written {} times.\".format(integer, occurence))"
   ]
  },
  {
   "cell_type": "markdown",
   "metadata": {},
   "source": [
    "### R-3.56\n",
    "Perform an experimental analysis that compares the relative running times\n",
    "of the functions shown in Code Fragment 3.10."
   ]
  },
  {
   "cell_type": "code",
   "execution_count": 68,
   "metadata": {},
   "outputs": [
    {
     "data": {
      "image/png": "[encoded data removed]",
      "text/plain": [
       "<Figure size 432x288 with 1 Axes>"
      ]
     },
     "metadata": {
      "needs_background": "light"
     },
     "output_type": "display_data"
    }
   ],
   "source": [
    "# functions to test. It used to be on a separate folder, but this is cumbersome to do in a notebook\n",
    "# I left it in a separate folder in the Source_Code section\n",
    "functions =\"\"\"\n",
    "def example1(S):\n",
    "  n = len(S)\n",
    "  total = 0\n",
    "  for j in range(n):             # loop from 0 to n-1\n",
    "    total += S[j]\n",
    "  return total\n",
    "\n",
    "def example2(S):\n",
    "  n = len(S)\n",
    "  total = 0\n",
    "  for j in range(0, n, 2):       # note the increment of 2\n",
    "    total += S[j]\n",
    "  return total\n",
    "  \n",
    "def example3(S):\n",
    "  n = len(S)\n",
    "  total = 0\n",
    "  for j in range(n):            # loop from 0 to n-1\n",
    "    for k in range(1+j):        # loop from 0 to j\n",
    "      total += S[k]\n",
    "  return total\n",
    "\n",
    "def example4(S):\n",
    "  n = len(S)\n",
    "  prefix = 0\n",
    "  total = 0\n",
    "  for j in range(n):\n",
    "    prefix += S[j]\n",
    "    total += prefix\n",
    "  return total\n",
    "\n",
    "def example5(A, B):           # assume that A and B have equal length\n",
    "  n = len(A)                  \n",
    "  count = 0\n",
    "  for i in range(n):          # loop from 0 to n-1\n",
    "    total = 0\n",
    "    for j in range(n):        # loop from 0 to n-1\n",
    "      for k in range(1+j):    # loop from 0 to j\n",
    "        total += A[k]\n",
    "    if B[i] == total:\n",
    "      count += 1\n",
    "  return count\n",
    "  \n",
    "\"\"\"\n",
    "\n",
    "\n",
    "#Perform an experimental analysis that compares the relative running times\n",
    "# of the functions shown in Code Fragment 3.10.\n",
    "\n",
    "import matplotlib.pyplot as plt\n",
    "import timeit\n",
    "\n",
    "# average execution times for every length of input list (Y axis data)\n",
    "func_1_avg_times = []\n",
    "func_2_avg_times = []\n",
    "func_3_avg_times = []\n",
    "func_4_avg_times = []\n",
    "func_5_avg_times = []\n",
    "\n",
    "# list of integer to use as functions input (X axis data)\n",
    "int_lst = []\n",
    "\n",
    "# group average times to loop over them\n",
    "avg_times_lst = [func_1_avg_times,\n",
    "                 func_2_avg_times,\n",
    "                 func_3_avg_times,\n",
    "                 func_4_avg_times,\n",
    "                 func_5_avg_times]\n",
    "\n",
    "# measures the execution time of every algorithm for a given list length\n",
    "for new_int in range(0, 100, 1):\n",
    "  int_lst.append(new_int)    # generating an increasingly long list of int to swipe x-axis\n",
    "\n",
    "  for func_index, func_avg_times in enumerate(avg_times_lst, start=1):\n",
    "    if func_index != 5:\n",
    "      time = timeit.timeit(\"\"\"total = example{}({})\"\"\".format(func_index, int_lst),\n",
    "                          setup=functions,\n",
    "                          number=10)\n",
    "    else:\n",
    "      time = timeit.timeit(\"\"\"total = example{}({}, {})\"\"\".format(func_index, int_lst, int_lst),\n",
    "                             setup=functions,\n",
    "                             number=10)\n",
    "\n",
    "    func_avg_times.append(time)    # add execution time of its respective algorithm to the list of execution times\n",
    "\n",
    "# plot every result\n",
    "for avg_index, avg_times in enumerate(avg_times_lst, start=1):\n",
    "  plt.plot(int_lst, avg_times, label=\"prefix_average{}\".format(avg_index))\n",
    "\n",
    "plt.xlabel(\"Length of input list\")\n",
    "plt.ylabel(\"Execution time (s)\")\n",
    "plt.title(\"Comparison of {} algorithms for different tasks\\n on a log-log scale\".format(len(avg_times_lst)))\n",
    "plt.xscale(\"log\", basex=2)\n",
    "plt.yscale(\"log\", basey=2)\n",
    "plt.legend()\n",
    "\n",
    "plt.show()\n",
    "\n"
   ]
  },
  {
   "cell_type": "markdown",
   "metadata": {},
   "source": [
    "### R-3.55\n",
    "Perform an experimental analysis of the three algorithms prefix average1,\n",
    "prefix average2, and prefix average3, from Section 3.3.3. Visualize their\n",
    "running times as a function of the input size with a log-log chart"
   ]
  },
  {
   "cell_type": "code",
   "execution_count": 69,
   "metadata": {},
   "outputs": [
    {
     "data": {
      "image/png": "[encoded data removed]",
      "text/plain": [
       "<Figure size 432x288 with 1 Axes>"
      ]
     },
     "metadata": {
      "needs_background": "light"
     },
     "output_type": "display_data"
    }
   ],
   "source": [
    "# functions to test. It used to be on a separate folder, but this is cumbersome to do in a notebook\n",
    "# I left it in a separate folder in the Source_Code section\n",
    "functions =\"\"\"\n",
    "def prefix_average1(S):\n",
    "    n = len(S)\n",
    "    A = [0] * n                     # create new list of n zeros\n",
    "    for j in range(n):\n",
    "        total = 0                     # begin computing S[0] + ... + S[j]\n",
    "        for i in range(j + 1):\n",
    "            total += S[i]\n",
    "        A[j] = total / (j+1)          # record the average\n",
    "    return A\n",
    "    \n",
    "def prefix_average2(S):\n",
    "    n = len(S)\n",
    "    A = [0] * n                     # create new list of n zeros\n",
    "    for j in range(n):\n",
    "        A[j] = sum(S[0:j+1]) / (j+1)  # record the average\n",
    "    return A\n",
    "    \n",
    "def prefix_average3(S):\n",
    "    n = len(S)\n",
    "    A = [0] * n                   # create new list of n zeros\n",
    "    total = 0                     # compute prefix sum as S[0] + S[1] + ...\n",
    "    for j in range(n):\n",
    "        total += S[j]               # update prefix sum to include S[j]\n",
    "        A[j] = total / (j+1)        # compute average based on current sum\n",
    "    return A \n",
    "\"\"\"\n",
    "\n",
    "\n",
    "import matplotlib.pyplot as plt\n",
    "import timeit\n",
    "\n",
    "\n",
    "# average execution times for every length of input list (Y axis data)\n",
    "func_1_avg_times = []\n",
    "func_2_avg_times = []\n",
    "func_3_avg_times = []\n",
    "\n",
    "# list of integer to use as functions input (X axis data)\n",
    "int_lst = []\n",
    "\n",
    "# group average times to loop over them\n",
    "avg_times_lst = [func_1_avg_times,\n",
    "                 func_2_avg_times,\n",
    "                 func_3_avg_times]\n",
    "\n",
    "# measures the execution time of every algorithm for a given list length\n",
    "for new_int in range(0, 10000, 100):\n",
    "    int_lst.append(new_int)    # generating an increasingly long list of int to swipe x-axis\n",
    "\n",
    "    for func_index, func_avg_times in enumerate(avg_times_lst, start=1):\n",
    "        time = timeit.timeit(\"\"\"total = prefix_average{}({})\"\"\".format(func_index, int_lst),\n",
    "                        setup=functions,\n",
    "                        number=10)\n",
    "        func_avg_times.append(time)    # add execution time of its respective algorithm to the list of execution times\n",
    "\n",
    "# plot every result\n",
    "for avg_index, avg_times in enumerate(avg_times_lst, start=1):\n",
    "    plt.plot(int_lst, avg_times, label=\"prefix_average{}\".format(avg_index))\n",
    "\n",
    "plt.xlabel(\"Length of input list\")\n",
    "plt.ylabel(\"Execution time (s)\")\n",
    "plt.title(\"Comparison of {} algorithms for the same task\\n on a log-log scale\".format(len(avg_times_lst)))\n",
    "plt.xscale(\"log\", basex=2)\n",
    "plt.yscale(\"log\", basey=2)\n",
    "plt.legend()\n",
    "\n",
    "plt.show()\n"
   ]
  },
  {
   "cell_type": "markdown",
   "metadata": {},
   "source": [
    "### R-3.57\n",
    "Perform experimental analysis to test the hypothesis that Python’s sorted\n",
    "method runs in O(nlog n) time on average."
   ]
  },
  {
   "cell_type": "code",
   "execution_count": 71,
   "metadata": {},
   "outputs": [
    {
     "data": {
      "image/png": "[encoded data removed]",
      "text/plain": [
       "<Figure size 432x288 with 1 Axes>"
      ]
     },
     "metadata": {
      "needs_background": "light"
     },
     "output_type": "display_data"
    }
   ],
   "source": [
    "# It takes about a minute to compute with original inputs\n",
    "# Graphic shows about a constant function with y data divided by xlog(x)\n",
    "\n",
    "import matplotlib.pyplot as plt\n",
    "import numpy as np\n",
    "import timeit\n",
    "import random\n",
    "\n",
    "xs = []                 # x axis values (number of integers : n)\n",
    "avg_sorting_times = []   # y axis values (time required to sort n integers)\n",
    "\n",
    "# measuring average sorting times\n",
    "for new_int in range(100, 3000, 10):\n",
    "    # statement to measure\n",
    "    stmt = \"\"\"\n",
    "lst = sorted(lst)\n",
    "\"\"\"\n",
    "    # generating and shuffling the list, it is not included in measured time\n",
    "    setup = \"\"\"import random\n",
    "lst = list(range({}))\n",
    "random.shuffle(lst)\"\"\".format(new_int)\n",
    "\n",
    "    t = timeit.Timer(stmt, setup)\n",
    "\n",
    "    # repeat multiple times for every list length to obtain average times\n",
    "    number = 30\n",
    "    total_time = sum(t.repeat(number, 1)) # execute once per repeat to measure only the sorting time\n",
    "    avg_time = total_time / number\n",
    "\n",
    "    # Append x and y values\n",
    "    xs.append(new_int)\n",
    "    avg_sorting_times.append(avg_time/(new_int * np.log2(new_int))) #\n",
    "\n",
    "plt.plot(xs, avg_sorting_times, label=\"sorted()\")\n",
    "plt.xlabel(\"List length\")\n",
    "plt.ylabel(\"Sorting time (s) divided by xlog(x)\")\n",
    "plt.title(\"Average computation time for python's\\n sorted function (average of 30 runs)\")\n",
    "\n",
    "plt.show()"
   ]
  },
  {
   "cell_type": "code",
   "execution_count": null,
   "metadata": {},
   "outputs": [],
   "source": []
  }
 ],
 "metadata": {
  "kernelspec": {
   "display_name": "Python 3",
   "language": "python",
   "name": "python3"
  },
  "language_info": {
   "codemirror_mode": {
    "name": "ipython",
    "version": 3
   },
   "file_extension": ".py",
   "mimetype": "text/x-python",
   "name": "python",
   "nbconvert_exporter": "python",
   "pygments_lexer": "ipython3",
   "version": "3.7.0"
  }
 },
 "nbformat": 4,
 "nbformat_minor": 2
}
