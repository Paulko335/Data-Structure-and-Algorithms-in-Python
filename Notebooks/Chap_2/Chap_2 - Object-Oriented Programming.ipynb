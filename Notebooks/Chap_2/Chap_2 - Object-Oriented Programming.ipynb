{
 "cells": [
  {
   "cell_type": "markdown",
   "metadata": {},
   "source": [
    "# Chapter 02 - Object-Oriented Programming"
   ]
  },
  {
   "cell_type": "markdown",
   "metadata": {},
   "source": [
    "## Reinforcement"
   ]
  },
  {
   "cell_type": "markdown",
   "metadata": {},
   "source": [
    "### R-2.1\n",
    "Give three examples of life-critical software applications."
   ]
  },
  {
   "cell_type": "code",
   "execution_count": 5,
   "metadata": {},
   "outputs": [
    {
     "name": "stdout",
     "output_type": "stream",
     "text": [
      "1. Medical life support\n",
      "2. An aircraft navigation system\n",
      "3. A nuclear power-plant\n"
     ]
    }
   ],
   "source": [
    "print(\"1. Medical life support\")\n",
    "print(\"2. An aircraft navigation system\")\n",
    "print(\"3. A nuclear power-plant\")"
   ]
  },
  {
   "cell_type": "markdown",
   "metadata": {},
   "source": [
    "### R-2.2\n",
    "Give an example of a software application in which adaptability can mean\n",
    "the difference between a prolonged lifetime of sales and bankruptcy."
   ]
  },
  {
   "cell_type": "code",
   "execution_count": 6,
   "metadata": {},
   "outputs": [
    {
     "name": "stdout",
     "output_type": "stream",
     "text": [
      "An operating system like windows XP.\n"
     ]
    }
   ],
   "source": [
    "print(\"An operating system like windows XP.\")"
   ]
  },
  {
   "cell_type": "markdown",
   "metadata": {},
   "source": [
    "### R-2.3\n",
    "Describe a component from a text-editor GUI and the methods that it encapsulates."
   ]
  },
  {
   "cell_type": "code",
   "execution_count": 7,
   "metadata": {},
   "outputs": [
    {
     "name": "stdout",
     "output_type": "stream",
     "text": [
      "An update button on the GUI calculates new values and shows it by refreshing the screen\n"
     ]
    }
   ],
   "source": [
    "print(\"An update button on the GUI calculates new values and shows it by refreshing the screen\")"
   ]
  },
  {
   "cell_type": "markdown",
   "metadata": {},
   "source": [
    "### R-2.4\n",
    "Write a Python class, Flower, that has three instance variables of type str,\n",
    "int, and float, that respectively represent the name of the flower, its number\n",
    "of petals, and its price. Your class must include a constructor method\n",
    "that initializes each variable to an appropriate value, and your class should\n",
    "include methods for setting the value of each type, and retrieving the value\n",
    "of each type."
   ]
  },
  {
   "cell_type": "code",
   "execution_count": 8,
   "metadata": {},
   "outputs": [],
   "source": [
    "class Flower:\n",
    "\n",
    "    def __init__(self, name, petal_count, price):\n",
    "        self.name = name\n",
    "        self.petal_count = petal_count\n",
    "        self.price = price\n",
    "\n",
    "    def get_name(self):\n",
    "        return self.name\n",
    "\n",
    "    def get_petal_count(self):\n",
    "        return self.petal_count\n",
    "\n",
    "    def get_price(self):\n",
    "        return self.price\n",
    "\n",
    "    def set_name(self, new_name):\n",
    "        self.name =  new_name\n",
    "\n",
    "    def set_petals(self, new_petals):\n",
    "        self.petals = new_petals\n",
    "\n",
    "    def set_price(self, new_price):\n",
    "        self.price = new_price"
   ]
  },
  {
   "cell_type": "markdown",
   "metadata": {},
   "source": [
    "### R-2.5\n",
    "Use the techniques of Section 1.7 to revise the charge and make payment\n",
    "methods of the CreditCard class to ensure that the caller sends a number\n",
    "as a parameter."
   ]
  },
  {
   "cell_type": "code",
   "execution_count": 9,
   "metadata": {},
   "outputs": [],
   "source": [
    "# See R-2.7"
   ]
  },
  {
   "cell_type": "markdown",
   "metadata": {},
   "source": [
    "### R-2.6\n",
    "If the parameter to the make payment method of the CreditCard class\n",
    "were a negative number, that would have the effect of raising the balance\n",
    "on the account. Revise the implementation so that it raises a ValueError if\n",
    "a negative value is sent."
   ]
  },
  {
   "cell_type": "code",
   "execution_count": 10,
   "metadata": {},
   "outputs": [],
   "source": [
    "# See R-2.7"
   ]
  },
  {
   "cell_type": "markdown",
   "metadata": {},
   "source": [
    "### R-2.7\n",
    "Use the techniques of Section 1.7 to revise the charge and make payment\n",
    "methods of the CreditCard class to ensure that the caller sends a number\n",
    "as a parameter."
   ]
  },
  {
   "cell_type": "markdown",
   "metadata": {},
   "source": [
    "### R-2.8\n",
    "Modify the declaration of the first for loop in the CreditCard tests, from\n",
    "Code Fragment 2.3, so that it will eventually cause exactly one of the three\n",
    "credit cards to go over its credit limit. Which credit card is it?"
   ]
  },
  {
   "cell_type": "markdown",
   "metadata": {},
   "source": [
    "### R-2.9\n",
    "Implement the sub method for the Vector class of Section 2.3.3, so\n",
    "that the expression u−v returns a new vector instance representing the\n",
    "difference between two vectors."
   ]
  },
  {
   "cell_type": "markdown",
   "metadata": {},
   "source": [
    "### R-2.10\n",
    "Implement the neg method for the Vector class of Section 2.3.3, so\n",
    "that the expression −v returns a new vector instance whose coordinates\n",
    "are all the negated values of the respective coordinates of v."
   ]
  },
  {
   "cell_type": "markdown",
   "metadata": {},
   "source": [
    "### R2.11\n",
    "In Section 2.3.3, we note that our Vector class supports a syntax such as\n",
    "v = u + [5, 3, 10, −2, 1], in which the sum of a vector and list returns\n",
    "a new vector. However, the syntax v = [5, 3, 10, −2, 1] + u is illegal.\n",
    "Explain how the Vector class definition can be revised so that this syntax\n",
    "generates a new vector."
   ]
  },
  {
   "cell_type": "markdown",
   "metadata": {},
   "source": [
    "### R2.12\n",
    "Implement the mul method for the Vector class of Section 2.3.3, so\n",
    "that the expression v*3 returns a new vector with coordinates that are 3\n",
    "times the respective coordinates of v."
   ]
  },
  {
   "cell_type": "markdown",
   "metadata": {},
   "source": [
    "### R2.13\n",
    "Exercise R-2.12 asks for an implementation of mul , for the Vector\n",
    "class of Section 2.3.3, to provide support for the syntax v 3. Implement\n",
    "the rmul method, to provide additional support for syntax 3 v."
   ]
  },
  {
   "cell_type": "markdown",
   "metadata": {},
   "source": [
    "### R2.14\n",
    "Implement the mul method for the Vector class of Section 2.3.3, so\n",
    "that the expression u v returns a scalar that represents the dot product of\n",
    "the vectors, that is, Σdi = 1 ui · vi."
   ]
  },
  {
   "cell_type": "markdown",
   "metadata": {},
   "source": [
    "### R2.(9 to 15)\n",
    "The Vector class of Section 2.3.3 provides a constructor that takes an integer\n",
    "d, and produces a d-dimensional vector with all coordinates equal to\n",
    "0 . Another convenient form for creating a new vector would be to send the\n",
    "constructor a parameter that is some iterable type representing a sequence\n",
    "of numbers, and to create a vector with dimension equal to the length of\n",
    "that sequence and coordinates equal to the sequence values. For example,\n",
    "Vector([4, 7, 5]) would produce a three-dimensional vector with coordinates\n",
    "<4, 7, 5>. Modify the constructor so that either of these forms is\n",
    "acceptable; that is, if a single integer is sent, it produces a vector of that\n",
    "dimension with all zeros, but if a sequence of numbers is provided, it produces\n",
    "a vector with coordinates based on that sequence."
   ]
  },
  {
   "cell_type": "code",
   "execution_count": 13,
   "metadata": {},
   "outputs": [
    {
     "name": "stdout",
     "output_type": "stream",
     "text": [
      "<-2, -3>\n",
      "<2, 3> \n",
      "\n",
      "<3, 3>\n",
      "<3, 3> \n",
      "\n",
      "<3, 3>\n",
      "<3, 3> \n",
      "\n",
      "7\n",
      "<0, 1, 2, 3>\n"
     ]
    }
   ],
   "source": [
    "class Vector:\n",
    "    \"\"\"Represent a vector in a multidimensional space.\"\"\"\n",
    "\n",
    "    def __init__(self, d):\n",
    "        if isinstance(d, int):\n",
    "            self._coords = [0] * d\n",
    "        else:\n",
    "            try:\n",
    "                self._coords = [value for value in d]\n",
    "            except:\n",
    "                raise ValueError(\"Parameter must be a valid iterable\")\n",
    "\n",
    "    def __len__(self):\n",
    "        \"\"\"Return the dimension of the vector.\"\"\"\n",
    "        return len(self._coords)\n",
    "\n",
    "    def __getitem__(self, j):\n",
    "        \"\"\"Return jth coordinate of vector.\"\"\"\n",
    "        return self._coords[j]\n",
    "\n",
    "    def __setitem__(self, j, val):\n",
    "        \"\"\"Set jth coordinate of vector to given value.\"\"\"\n",
    "        self._coords[j] = val\n",
    "\n",
    "    def __add__(self, other):\n",
    "        \"\"\"Return sum of two vectors.\"\"\"\n",
    "        if len(self) != len(other):          # relies on __len__ method\n",
    "            raise ValueError('dimensions must agree')\n",
    "        result = Vector(len(self))           # start with vector of zeros\n",
    "        for j in range(len(self)):\n",
    "            result[j] = self[j] + other[j]\n",
    "        return result\n",
    "\n",
    "    def __radd__(self, other):\n",
    "        \"\"\"Return the sum of an iterable and the vector\"\"\"\n",
    "        if len(self) != len(other):\n",
    "            raise ValueError(\"Dimensions must agree\")\n",
    "        result = Vector(len(self))\n",
    "        for i in range(len(self)):\n",
    "            result[i] = self[i] + other[i]\n",
    "        return result\n",
    "\n",
    "    def __sub__(self, other):\n",
    "        \"\"\"Return dif of two vectors.\"\"\"\n",
    "        if len(self) != len(other):\n",
    "            raise ValueError(\"dimensions must agree\")\n",
    "        result = Vector(len(self))\n",
    "        for i in range(len(self)):\n",
    "            result[i] = self[i] - other[i]\n",
    "        return result\n",
    "\n",
    "    def __mul__(self, other):\n",
    "        \"\"\"Defines scalar multiplication of a vector\"\"\"\n",
    "        if isinstance(other, (int, float)):\n",
    "            result = Vector(len(self))\n",
    "            for i in range(len(self)):\n",
    "                result[i] = self[i] * other\n",
    "            return result\n",
    "        elif isinstance(other, (Vector, list)):\n",
    "            if len(self) != len(other):\n",
    "                raise ValueError(\"dimensions must agree\")\n",
    "            else:\n",
    "                result = 0\n",
    "                for i in range(len(self)):\n",
    "                    result += self[i] * other[i]\n",
    "                return result\n",
    "        else:\n",
    "            raise TypeError(\"Invalid parameter type.\")\n",
    "\n",
    "    def __rmul__(self, other):\n",
    "        \"\"\"Defines scalar multiplication of a vector\"\"\"\n",
    "        if isinstance(other, (int, float)):\n",
    "            result = Vector(len(self))\n",
    "            for i in range(len(self)):\n",
    "                result[i] = self[i] * other\n",
    "            return result\n",
    "\n",
    "    def __eq__(self, other):\n",
    "        \"\"\"Return True if vector has same coordinates as other.\"\"\"\n",
    "        return self._coords == other._coords\n",
    "\n",
    "    def __ne__(self, other):\n",
    "        \"\"\"Return True if vector differs from other.\"\"\"\n",
    "        return not self == other             # rely on existing __eq__ definition\n",
    "\n",
    "    def __str__(self):\n",
    "        \"\"\"Produce string representation of vector.\"\"\"\n",
    "        return '<' + str(self._coords)[1:-1] + '>'  # adapt list representation\n",
    "\n",
    "    def __neg__(self):\n",
    "        \"\"\"Returns the opposite vector\"\"\"\n",
    "        result = Vector(len(self))\n",
    "        for i in range(len(self)):\n",
    "            result[i] = -self[i]\n",
    "        return  result\n",
    "\n",
    "    def __lt__(self, other):\n",
    "        \"\"\"Compare vectors based on lexicographical order.\"\"\"\n",
    "        if len(self) != len(other):\n",
    "            raise ValueError('dimensions must agree')\n",
    "        return self._coords < other._coords\n",
    "\n",
    "    def __le__(self, other):\n",
    "        \"\"\"Compare vectors based on lexicographical order.\"\"\"\n",
    "        if len(self) != len(other):\n",
    "            raise ValueError('dimensions must agree')\n",
    "        return self._coords <= other._coords\n",
    "\n",
    "\n",
    "if __name__ == '__main__':\n",
    "\n",
    "    v1 = Vector(2)\n",
    "    v1[0] = 1\n",
    "    v1[1] = 1\n",
    "    v2 = Vector(2)\n",
    "    v2[0] = 3\n",
    "    v2[1] = 4\n",
    "\n",
    "    v3 = v1 - v2\n",
    "    print(v3)\n",
    "    print(-v3, \"\\n\")           # __neg__\n",
    "\n",
    "    print(v1 + [2, 2])         # __add__\n",
    "    print([2, 2] + v1, \"\\n\")   # __radd__\n",
    "\n",
    "    print(v1 * 3)              # __mul__\n",
    "    print(3 * v1, \"\\n\")        # __rmul__\n",
    "\n",
    "    print(v1 * v2)             # __mul__\n",
    "\n",
    "    v4 = Vector([0, 1, 2, 3])  #__init__\n",
    "    print(v4)\n"
   ]
  },
  {
   "cell_type": "markdown",
   "metadata": {},
   "source": [
    "### R2.16\n",
    "Our Range class, from Section 2.3.5, relies on the formula\n",
    "max(0, (stop − start + step − 1) // step)\n",
    "to compute the number of elements in the range. It is not immediately evident\n",
    "why this formula provides the correct calculation, even if assuming\n",
    "a positive step size. Justify this formula, in your own words."
   ]
  },
  {
   "cell_type": "markdown",
   "metadata": {},
   "source": [
    "Let's say we want to generate the range between 20 and 10 with a step of 5\n",
    "We will obtain 10 and 15 but not 20 because the \"stop\" value is excluded from the serie.\n",
    "\n",
    "If we examine the formula:\n",
    "(stop - start) // step gives us the integer number of steps we can do in the range \n",
    "\n",
    "But doing so, we might count 1 too many step, because this calculation includes the \"stop\".\n",
    "We correct this by substracting 1 to the range (stop - start)\n",
    "Giving us : (stop - start - 1) // step\n",
    "\n",
    "Finally, we must add 1 to the integer found, because we add the first step starting at \"start\"\n",
    "\n",
    "This formula is also correct for negative steps"
   ]
  },
  {
   "cell_type": "markdown",
   "metadata": {},
   "source": [
    "### R2.18\n",
    "Give a short fragment of Python code that uses the progression classes\n",
    "from Section 2.4.2 to find the 8th value of a Fibonacci progression that\n",
    "starts with 2 and 2 as its first two values."
   ]
  },
  {
   "cell_type": "code",
   "execution_count": 14,
   "metadata": {},
   "outputs": [
    {
     "name": "stdout",
     "output_type": "stream",
     "text": [
      "2 2 4 6 10 16 26 42\n"
     ]
    }
   ],
   "source": [
    "class Progression:\n",
    "    \"\"\"Iterator producing a generic progression.\n",
    "\n",
    "    Default iterator produces the whole numbers 0, 1, 2, ...\n",
    "    \"\"\"\n",
    "\n",
    "    def __init__(self, start=0):\n",
    "        \"\"\"Initialize current to the first value of the progression.\"\"\"\n",
    "        self._current = start\n",
    "\n",
    "    def _advance(self):\n",
    "        \"\"\"Update self._current to a new value.\n",
    "\n",
    "        This should be overridden by a subclass to customize progression.\n",
    "\n",
    "        By convention, if current is set to None, this designates the\n",
    "        end of a finite progression.\n",
    "        \"\"\"\n",
    "        self._current += 1\n",
    "\n",
    "    def __add__(self, other):\n",
    "        pass\n",
    "\n",
    "    def __next__(self):\n",
    "        \"\"\"Return the next element, or else raise StopIteration error.\"\"\"\n",
    "        if self._current is None:    # our convention to end a progression\n",
    "          raise StopIteration()\n",
    "        else:\n",
    "          answer = self._current     # record current value to return\n",
    "          self._advance()            # advance to prepare for next time\n",
    "          return answer              # return the answer\n",
    "\n",
    "    def __iter__(self):\n",
    "        \"\"\"By convention, an iterator must return itself as an iterator.\"\"\"\n",
    "        return self\n",
    "\n",
    "    def print_progression(self, n):\n",
    "        \"\"\"Print next n values of the progression.\"\"\"\n",
    "        print(' '.join(str(next(self)) for j in range(n)))\n",
    "\n",
    "\n",
    "class FibonacciProgression(Progression):\n",
    "    \"\"\"Iterator producing a generalized Fibonacci progression.\"\"\"\n",
    "\n",
    "    def __init__(self, first=0, second=1):\n",
    "        \"\"\"Create a new fibonacci progression.\n",
    "\n",
    "        first      the first term of the progression (default 0)\n",
    "        second     the second term of the progression (default 1)\n",
    "        \"\"\"\n",
    "        super().__init__(first)  # start progression at first\n",
    "        self._prev = second - first  # fictitious value preceding the first\n",
    "\n",
    "    def _advance(self):\n",
    "        \"\"\"Update current value by taking sum of previous two.\"\"\"\n",
    "        self._prev, self._current = self._current, self._prev + self._current\n",
    "\n",
    "\n",
    "def main():\n",
    "    fib = FibonacciProgression(2, 2)\n",
    "    fib.print_progression(8)\n",
    "\n",
    "if __name__ == \"__main__\":\n",
    "    main()\n"
   ]
  },
  {
   "cell_type": "markdown",
   "metadata": {},
   "source": [
    "### R2.19\n",
    "When using the ArithmeticProgression class of Section 2.4.2 with an increment\n",
    "of 128 and a start of 0, how many calls to next can we make\n",
    "before we reach an integer of 2^63 or larger?"
   ]
  },
  {
   "cell_type": "markdown",
   "metadata": {},
   "source": [
    "We start at 0 and each increments adds 128\n",
    "Therefore the number of steps is : 2^63 // 128\n",
    "                                 = 2^63 // 2^7\n",
    "                                 = 2^(63 - 7)\n",
    "                                 = 2^56\n",
    "                                 = 72 057 594 037 927 936"
   ]
  },
  {
   "cell_type": "markdown",
   "metadata": {},
   "source": [
    "### R2.21\n",
    "What are some potential efficiency disadvantages of having very shallow\n",
    "inheritance trees, that is, a large set of classes, A, B, C, and so on, such\n",
    "that all of these classes extend a single class, Z?"
   ]
  },
  {
   "cell_type": "markdown",
   "metadata": {},
   "source": [
    "The class Z must be very generic (very few methods implemented).\n",
    "Therefore, child classes are going to need many methods. and possibly redundent ones"
   ]
  },
  {
   "cell_type": "markdown",
   "metadata": {},
   "source": [
    "### R2.22\n",
    "The collections.Sequence abstract base class does not provide support for\n",
    "comparing two sequences to each other. Modify our Sequence class from\n",
    "Code Fragment 2.14 to include a definition for the eq method, so\n",
    "that expression seq1 == seq2 will return True precisely when the two\n",
    "sequences are element by element equivalent"
   ]
  },
  {
   "cell_type": "code",
   "execution_count": 15,
   "metadata": {},
   "outputs": [],
   "source": [
    "from abc import ABCMeta, abstractmethod           # need these definitions\n",
    "\n",
    "\n",
    "class Sequence(metaclass=ABCMeta):\n",
    "    \"\"\"Our own version of collections.Sequence abstract base class.\"\"\"\n",
    "\n",
    "    @abstractmethod\n",
    "    def __len__(self):\n",
    "        \"\"\"Return the length of the sequence.\"\"\"\n",
    "\n",
    "    @abstractmethod\n",
    "    def __getitem__(self, j):\n",
    "        \"\"\"Return the element at index j of the sequence.\"\"\"\n",
    "\n",
    "    def __contains__(self, val):\n",
    "        \"\"\"Return True if val found in the sequence; False otherwise.\"\"\"\n",
    "        for j in range(len(self)):\n",
    "            if self[j] == val:                          # found match\n",
    "                return True\n",
    "        return False\n",
    "\n",
    "    def __eq__(self, other):\n",
    "        if len(self) != len(other):\n",
    "            return False\n",
    "        else:\n",
    "            for i in range(len(self)):\n",
    "                match = self[i] == other[i]\n",
    "                if not match:                         # They are not equal\n",
    "                    return False\n",
    "        return True\n",
    "\n",
    "    def index(self, val):\n",
    "        \"\"\"Return leftmost index at which val is found (or raise ValueError).\"\"\"\n",
    "        for j in range(len(self)):\n",
    "            if self[j] == val:                          # leftmost match\n",
    "                return j\n",
    "        raise ValueError('value not in sequence')     # never found a match\n",
    "\n",
    "    def count(self, val):\n",
    "        \"\"\"Return the number of elements equal to given value.\"\"\"\n",
    "        k = 0\n",
    "        for j in range(len(self)):\n",
    "            if self[j] == val:                          # found a match\n",
    "                k += 1\n",
    "        return k\n"
   ]
  },
  {
   "cell_type": "markdown",
   "metadata": {},
   "source": [
    "## Creativity"
   ]
  },
  {
   "cell_type": "markdown",
   "metadata": {},
   "source": [
    "### R2.25\n",
    "Exercise R-2.12 uses the mul method to support multiplying a Vector\n",
    "by a number, while Exercise R-2.14 uses the mul method to support\n",
    "computing a dot product of two vectors. Give a single implementation of\n",
    "Vector. mul that uses run-time type checking to support both syntaxes\n",
    "u v and u k, where u and v designate vector instances and k represents\n",
    "a number."
   ]
  },
  {
   "cell_type": "code",
   "execution_count": 16,
   "metadata": {},
   "outputs": [
    {
     "name": "stdout",
     "output_type": "stream",
     "text": [
      "<3, 6>\n",
      "11\n"
     ]
    }
   ],
   "source": [
    "class Vector:\n",
    "    \"\"\"Represent a vector in a multidimensional space.\"\"\"\n",
    "\n",
    "    def __init__(self, d):\n",
    "        self._coords = [0] * d\n",
    "\n",
    "    def __len__(self):\n",
    "        \"\"\"Return the dimension of the vector.\"\"\"\n",
    "        return len(self._coords)\n",
    "\n",
    "    def __getitem__(self, j):\n",
    "        \"\"\"Return jth coordinate of vector.\"\"\"\n",
    "        return self._coords[j]\n",
    "\n",
    "    def __setitem__(self, j, val):\n",
    "        \"\"\"Set jth coordinate of vector to given value.\"\"\"\n",
    "        self._coords[j] = val\n",
    "\n",
    "    def __add__(self, other):\n",
    "        \"\"\"Return sum of two vectors.\"\"\"\n",
    "        if len(self) != len(other):          # relies on __len__ method\n",
    "            raise ValueError('dimensions must agree')\n",
    "        result = Vector(len(self))           # start with vector of zeros\n",
    "        for j in range(len(self)):\n",
    "            result[j] = self[j] + other[j]\n",
    "        return result\n",
    "\n",
    "    def __radd__(self, other):\n",
    "        \"\"\"Return the sum of an iterable and the vector\"\"\"\n",
    "        if len(self) != len(other):\n",
    "            raise ValueError(\"Dimensions must agree\")\n",
    "        result = Vector(len(self))\n",
    "        for i in range(len(self)):\n",
    "            result[i] = self[i] + other[i]\n",
    "        return result\n",
    "\n",
    "    def __sub__(self, other):\n",
    "        \"\"\"Return dif of two vectors.\"\"\"\n",
    "        if len(self) != len(other):\n",
    "            raise ValueError(\"dimensions must agree\")\n",
    "        result = Vector(len(self))\n",
    "        for i in range(len(self)):\n",
    "            result[i] = self[i] - other[i]\n",
    "        return result\n",
    "\n",
    "    def __mul__(self, other): # \"*\"\n",
    "        \"\"\"Defines scalar multiplication of a vector\"\"\"\n",
    "        if isinstance(other, (int, float)):\n",
    "            result = Vector(len(self))\n",
    "            for i in range(len(self)):\n",
    "                result[i] = self[i] * other\n",
    "            return result\n",
    "        elif isinstance(other, (Vector, list)):\n",
    "            if len(self) != len(other):\n",
    "                raise ValueError(\"dimensions must agree\")\n",
    "            else:\n",
    "                result = 0\n",
    "                for i in range(len(self)):\n",
    "                    result += self[i] * other[i]\n",
    "                return result\n",
    "        else:\n",
    "            raise TypeError(\"Invalid parameter type.\")\n",
    "\n",
    "    def __rmul__(self, other):\n",
    "        \"\"\"Defines scalar multiplication of a vector\"\"\"\n",
    "        if isinstance(other, (int, float)):\n",
    "            result = Vector(len(self))\n",
    "            for i in range(len(self)):\n",
    "                result[i] = self[i] * other\n",
    "            return result\n",
    "\n",
    "    def __eq__(self, other):\n",
    "        \"\"\"Return True if vector has same coordinates as other.\"\"\"\n",
    "        return self._coords == other._coords\n",
    "\n",
    "    def __ne__(self, other):\n",
    "        \"\"\"Return True if vector differs from other.\"\"\"\n",
    "        return not self == other             # rely on existing __eq__ definition\n",
    "\n",
    "    def __str__(self):\n",
    "        \"\"\"Produce string representation of vector.\"\"\"\n",
    "        return '<' + str(self._coords)[1:-1] + '>'  # adapt list representation\n",
    "\n",
    "    def __neg__(self):\n",
    "        \"\"\"Returns the opposite vector\"\"\"\n",
    "        result = Vector(len(self))\n",
    "        for i in range(len(self)):\n",
    "            result[i] = -self[i]\n",
    "        return  result\n",
    "\n",
    "    def __lt__(self, other):\n",
    "        \"\"\"Compare vectors based on lexicographical order.\"\"\"\n",
    "        if len(self) != len(other):\n",
    "            raise ValueError('dimensions must agree')\n",
    "        return self._coords < other._coords\n",
    "\n",
    "    def __le__(self, other):\n",
    "        \"\"\"Compare vectors based on lexicographical order.\"\"\"\n",
    "        if len(self) != len(other):\n",
    "            raise ValueError('dimensions must agree')\n",
    "        return self._coords <= other._coords\n",
    "\n",
    "\n",
    "if __name__ == '__main__':\n",
    "\n",
    "    v1 = Vector(2)\n",
    "    v1[0] = 1\n",
    "    v1[1] = 2\n",
    "\n",
    "    v2 = Vector(2)\n",
    "    v2[0] = 3\n",
    "    v2[1] = 4\n",
    "\n",
    "    print(v1 * 3)             # __mul__ scalar product\n",
    "    print(v1 * v2)            # __mul__ dot produxt\n"
   ]
  },
  {
   "cell_type": "markdown",
   "metadata": {},
   "source": [
    "### R2.26\n",
    "The SequenceIterator class of Section 2.3.4 provides what is known as a\n",
    "forward iterator. Implement a class named ReversedSequenceIterator that\n",
    "serves as a reverse iterator for any Python sequence type. The first call to\n",
    "next should return the last element of the sequence, the second call to next\n",
    "should return the second-to-last element, and so forth."
   ]
  },
  {
   "cell_type": "code",
   "execution_count": 17,
   "metadata": {},
   "outputs": [
    {
     "name": "stdout",
     "output_type": "stream",
     "text": [
      "ccc\n",
      "bb\n",
      "a\n"
     ]
    }
   ],
   "source": [
    "class ReversedSequenceIterator():\n",
    "    \"\"\"A reverse iterator for any sequence\"\"\"\n",
    "    def __init__(self, sequence):\n",
    "        \"\"\"Storing the sequence and the current position\"\"\"\n",
    "        self.sequence = sequence\n",
    "        self.k = len(sequence)\n",
    "\n",
    "    def __next__(self):\n",
    "        \"\"\"Returns the sequence in reverse order\"\"\"\n",
    "        self.k -= 1\n",
    "        if self.k >= 0:\n",
    "            return self.sequence[self.k]\n",
    "        else:                            # If we reach the end\n",
    "            raise StopIteration()\n",
    "\n",
    "    def __iter__(self):\n",
    "        return self\n",
    "\n",
    "\n",
    "def main():\n",
    "    sequence = [\"a\", \"bb\", \"ccc\"]\n",
    "    for item in ReversedSequenceIterator(sequence):\n",
    "        print(item)\n",
    "\n",
    "\n",
    "if __name__ == \"__main__\":\n",
    "    main()\n"
   ]
  },
  {
   "cell_type": "markdown",
   "metadata": {},
   "source": [
    "### R2.27\n",
    "In Section 2.3.5, we note that our version of the Range class has implicit\n",
    "support for iteration, due to its explicit support of both len\n",
    "and getitem . The class also receives implicit support of the Boolean\n",
    "test, “k in r” for Range r. This test is evaluated based on a forward iteration\n",
    "through the range, as evidenced by the relative quickness of the test\n",
    "2 in Range(10000000) versus 9999999 in Range(10000000). Provide a\n",
    "more efficient implementation of the contains method to determine\n",
    "whether a particular value lies within a given range. The running time of\n",
    "your method should be independent of the length of the range."
   ]
  },
  {
   "cell_type": "code",
   "execution_count": 18,
   "metadata": {},
   "outputs": [
    {
     "name": "stdout",
     "output_type": "stream",
     "text": [
      "2 is in the Range\n",
      "9999900 is in the Range\n"
     ]
    }
   ],
   "source": [
    "class Range:\n",
    "    \"\"\"A class that mimic's the built-in range class.\"\"\"\n",
    "\n",
    "    def __init__(self, start, stop=None, step=1):\n",
    "        \"\"\"Initialize a Range instance.\n",
    "\n",
    "        Semantics is similar to built-in range class.\n",
    "        \"\"\"\n",
    "        if step == 0:\n",
    "            raise ValueError('step cannot be 0')\n",
    "\n",
    "        if stop is None:  # special case of range(n)\n",
    "            start, stop = 0, start  # should be treated as if range(0,n)\n",
    "\n",
    "        # calculate the effective length once\n",
    "        self._length = max(0, (stop - start + step - 1) // step)\n",
    "\n",
    "        # need knowledge of start and step (but not stop) to support __getitem__\n",
    "        self._start = start\n",
    "        self._step = step\n",
    "\n",
    "    def __len__(self):\n",
    "        \"\"\"Return number of entries in the range.\"\"\"\n",
    "        return self._length\n",
    "\n",
    "    def __getitem__(self, k):\n",
    "        \"\"\"Return entry at index k (using standard interpretation if negative).\"\"\"\n",
    "        if k < 0:\n",
    "            k += len(self)  # attempt to convert negative index\n",
    "\n",
    "        if not 0 <= k < self._length:\n",
    "            raise IndexError('index out of range')\n",
    "\n",
    "        return self._start + k * self._step\n",
    "\n",
    "    def __contains__(self, item):\n",
    "        return (item - self._start) % self._step == 0\n",
    "\n",
    "\n",
    "if 100 in Range(0, 10000000, 100):\n",
    "    print(\"2 is in the Range\")\n",
    "\n",
    "if 9999900 in Range(0, 10000000, 100):\n",
    "    print(\"9999900 is in the Range\")"
   ]
  },
  {
   "cell_type": "markdown",
   "metadata": {},
   "source": [
    "### R2.28\n",
    "The PredatoryCreditCard class of Section 2.4.1 provides a process month\n",
    "method that models the completion of a monthly cycle. Modify the class\n",
    "so that once a customer has made ten calls to charge in the current month,\n",
    "each additional call to that function results in an additional $1 surcharge."
   ]
  },
  {
   "cell_type": "code",
   "execution_count": 19,
   "metadata": {},
   "outputs": [
    {
     "name": "stdout",
     "output_type": "stream",
     "text": [
      "Customer = John Bowman\n",
      "Bank = California Savings\n",
      "Account = 5391 0375 9387 5309\n",
      "Limit = 2500\n",
      "Balance = 136\n",
      "New balance = 36\n",
      "\n",
      "Customer = John Bowman\n",
      "Bank = California Federal\n",
      "Account = 3485 0399 3395 1954\n",
      "Limit = 3500\n",
      "Balance = 272\n",
      "New balance = 172\n",
      "New balance = 72\n",
      "\n",
      "Customer = John Bowman\n",
      "Bank = California Finance\n",
      "Account = 5391 0375 9387 5309\n",
      "Limit = 5000\n",
      "Balance = 408\n",
      "New balance = 308\n",
      "New balance = 208\n",
      "New balance = 108\n",
      "New balance = 8\n",
      "\n"
     ]
    }
   ],
   "source": [
    "%run ch02/credit_card_2_28.ipynb\n",
    "\n",
    "#from credit_card import CreditCard\n",
    "\n",
    "\n",
    "\n",
    "class PredatoryCreditCard(CreditCard):\n",
    "    \"\"\"An extension to CreditCard that compounds interest and fees.\"\"\"\n",
    "\n",
    "    def __init__(self, customer, bank, acnt, limit, apr):\n",
    "        \"\"\"Create a new predatory credit card instance.\n",
    "\n",
    "        The initial balance is zero.\n",
    "\n",
    "        customer  the name of the customer (e.g., 'John Bowman')\n",
    "        bank      the name of the bank (e.g., 'California Savings')\n",
    "        acnt      the acount identifier (e.g., '5391 0375 9387 5309')\n",
    "        limit     credit limit (measured in dollars)\n",
    "        apr       annual percentage rate (e.g., 0.0825 for 8.25% APR)\n",
    "        \"\"\"\n",
    "        super().__init__(customer, bank, acnt, limit)  # call super constructor\n",
    "        self._apr = apr\n",
    "        self.monthly_charge = 0\n",
    "\n",
    "    def charge(self, price):\n",
    "        \"\"\"Charge given price to the card, assuming sufficient credit limit.\n",
    "\n",
    "        Return True if charge was processed.\n",
    "        Return False and assess $5 fee if charge is denied.\n",
    "        \"\"\"\n",
    "        success = super().charge(price)  # call inherited method\n",
    "        if not success:\n",
    "            self._balance += 5  # assess penalty\n",
    "        else:\n",
    "            self.monthly_charge += 1  # counts usage of the card\n",
    "        return success  # caller expects return value\n",
    "\n",
    "    def process_month(self):\n",
    "        \"\"\"Assess monthly interest on outstanding balance.\n",
    "           Adds 1$ fee for every use of charge() above 10.\"\"\"\n",
    "        if self._balance > 0:\n",
    "            # if positive balance, convert APR to monthly multiplicative factor\n",
    "            monthly_factor = pow(1 + self._apr, 1 / 12)\n",
    "            self._balance *= monthly_factor\n",
    "\n",
    "        if self.monthly_charge > 10:\n",
    "            self._balance += self.monthly_charge - 10   # 1$ surcharge for each additional use after 10\n"
   ]
  },
  {
   "cell_type": "markdown",
   "metadata": {},
   "source": [
    "### R2.29\n",
    "Modify the PredatoryCreditCard class from Section 2.4.1 so that a customer\n",
    "is assigned a minimum monthly payment, as a percentage of the\n",
    "balance, and so that a late fee is assessed if the customer does not subsequently\n",
    "pay that minimum amount before the next monthly cycle.\n",
    "\n",
    "Added _minimum_monthly_payment variable to CreditCard class to track the amount to pay\n",
    "Added _monthly_payment_made variable to CreditCard class to track the amount paid\n",
    "Updated process_month method to add a late fee if _monthly_payment_made is not made"
   ]
  },
  {
   "cell_type": "code",
   "execution_count": 20,
   "metadata": {},
   "outputs": [
    {
     "name": "stdout",
     "output_type": "stream",
     "text": [
      "Customer = John Bowman\n",
      "Bank = California Savings\n",
      "Account = 5391 0375 9387 5309\n",
      "Limit = 2500\n",
      "Balance = 136\n",
      "New balance = 36\n",
      "\n",
      "Customer = John Bowman\n",
      "Bank = California Federal\n",
      "Account = 3485 0399 3395 1954\n",
      "Limit = 3500\n",
      "Balance = 272\n",
      "New balance = 172\n",
      "New balance = 72\n",
      "\n",
      "Customer = John Bowman\n",
      "Bank = California Finance\n",
      "Account = 5391 0375 9387 5309\n",
      "Limit = 5000\n",
      "Balance = 408\n",
      "New balance = 308\n",
      "New balance = 208\n",
      "New balance = 108\n",
      "New balance = 8\n",
      "\n",
      "100\n",
      "10.153094704997313\n",
      "81.53094704997312\n",
      "82.77914267864983\n",
      "8.277914267864984\n",
      "94.04644752148167\n"
     ]
    }
   ],
   "source": [
    "%run ch02/credit_card_2_29.ipynb\n",
    "\n",
    "class PredatoryCreditCard(CreditCard):\n",
    "    \"\"\"An extension to CreditCard that compounds interest and fees.\"\"\"\n",
    "\n",
    "    def __init__(self, customer, bank, acnt, limit, apr):\n",
    "        \"\"\"Create a new predatory credit card instance.\n",
    "\n",
    "        The initial balance is zero.\n",
    "\n",
    "        customer  the name of the customer (e.g., 'John Bowman')\n",
    "        bank      the name of the bank (e.g., 'California Savings')\n",
    "        acnt      the acount identifier (e.g., '5391 0375 9387 5309')\n",
    "        limit     credit limit (measured in dollars)\n",
    "        apr       annual percentage rate (e.g., 0.0825 for 8.25% APR)\n",
    "        \"\"\"\n",
    "        super().__init__(customer, bank, acnt, limit)  # call super constructor\n",
    "        self._apr = apr\n",
    "\n",
    "    def charge(self, price):\n",
    "        \"\"\"Charge given price to the card, assuming sufficient credit limit.\n",
    "\n",
    "        Return True if charge was processed.\n",
    "        Return False and assess $5 fee if charge is denied.\n",
    "        \"\"\"\n",
    "        success = super().charge(price)  # call inherited method\n",
    "        if not success:\n",
    "            self._balance += 5  # assess penalty\n",
    "        return success  # caller expects return value\n",
    "\n",
    "    def process_month(self):\n",
    "        \"\"\"Assess monthly interest on outstanding balance.\"\"\"\n",
    "        if self._balance > 0:\n",
    "            # if positive balance, convert APR to monthly multiplicative factor\n",
    "            monthly_factor = pow(1 + self._apr, 1 / 12)\n",
    "            self._balance *= monthly_factor\n",
    "\n",
    "        if self._monthly_payment_made < self._minimum_monthly_payment:\n",
    "            self._balance += 10                        # late fee\n",
    "\n",
    "        # must repay at least 10% of balance per month\n",
    "        self._minimum_monthly_payment = self._balance * 0.10\n",
    "        # Reset variable to zero for the next month\n",
    "        self._monthly_payment_made = 0\n",
    "\n",
    "    def get_minimum_monthly_payment(self):\n",
    "        return self._minimum_monthly_payment\n",
    "\n",
    "\n",
    "if __name__ == \"__main__\":\n",
    "    card = PredatoryCreditCard(\"John\", \"BigBank\", \"0123 4567 8910 1112\", 5000, 0.20)\n",
    "    card.charge(100)\n",
    "    print(card.get_balance())   # balance is 100$\n",
    "    card.process_month()        # balance is 101.53\n",
    "\n",
    "    print(card.get_minimum_monthly_payment()) # must pay at least 10.15$\n",
    "    card.make_payment(20)                     # paid 20$\n",
    "    print(card.get_balance())                 # balance is  81.53$\n",
    "\n",
    "    card.process_month()                      # add interest but no extra fee\n",
    "    print(card.get_balance())                 # balance is 82.78$\n",
    "\n",
    "    print(card.get_minimum_monthly_payment()) # must pay at least 8.28\n",
    "    card.process_month()                      # did not pay in time\n",
    "    print(card.get_balance())                 # add interests and extra fees, balance is 94.05\n"
   ]
  },
  {
   "cell_type": "markdown",
   "metadata": {},
   "source": [
    "### R2.30\n",
    "At the close of Section 2.4.1, we suggest a model in which the CreditCard\n",
    "class supports a nonpublic method, set balance(b), that could be used\n",
    "by subclasses to affect a change to the balance, without directly accessin\n",
    "the balance data member. Implement such a model, revising both the\n",
    "CreditCard and PredatoryCreditCard classes accordingly."
   ]
  },
  {
   "cell_type": "code",
   "execution_count": 21,
   "metadata": {},
   "outputs": [
    {
     "name": "stdout",
     "output_type": "stream",
     "text": [
      "Customer = John Bowman\n",
      "Bank = California Savings\n",
      "Account = 5391 0375 9387 5309\n",
      "Limit = 2500\n",
      "Balance = 136\n",
      "New balance = 36\n",
      "\n",
      "Customer = John Bowman\n",
      "Bank = California Federal\n",
      "Account = 3485 0399 3395 1954\n",
      "Limit = 3500\n",
      "Balance = 272\n",
      "New balance = 172\n",
      "New balance = 72\n",
      "\n",
      "Customer = John Bowman\n",
      "Bank = California Finance\n",
      "Account = 5391 0375 9387 5309\n",
      "Limit = 5000\n",
      "Balance = 408\n",
      "New balance = 308\n",
      "New balance = 208\n",
      "New balance = 108\n",
      "New balance = 8\n",
      "\n",
      "5000\n",
      "0\n"
     ]
    }
   ],
   "source": [
    "%run ch02/credit_card_2_30.ipynb\n",
    "\n",
    "class PredatoryCreditCard(CreditCard):\n",
    "    \"\"\"An extension to CreditCard that compounds interest and fees.\"\"\"\n",
    "\n",
    "    def __init__(self, customer, bank, acnt, limit, apr):\n",
    "        \"\"\"Create a new predatory credit card instance.\n",
    "\n",
    "        The initial balance is zero.\n",
    "\n",
    "        customer  the name of the customer (e.g., 'John Bowman')\n",
    "        bank      the name of the bank (e.g., 'California Savings')\n",
    "        acnt      the acount identifier (e.g., '5391 0375 9387 5309')\n",
    "        limit     credit limit (measured in dollars)\n",
    "        apr       annual percentage rate (e.g., 0.0825 for 8.25% APR)\n",
    "        \"\"\"\n",
    "        super().__init__(customer, bank, acnt, limit)  # call super constructor\n",
    "        self._apr = apr\n",
    "\n",
    "    def charge(self, price):\n",
    "        \"\"\"Charge given price to the card, assuming sufficient credit limit.\n",
    "\n",
    "        Return True if charge was processed.\n",
    "        Return False and assess $5 fee if charge is denied.\n",
    "        \"\"\"\n",
    "        success = super().charge(price)  # call inherited method\n",
    "        if not success:\n",
    "            self._balance += 5  # assess penalty\n",
    "        return success  # caller expects return value\n",
    "\n",
    "    def process_month(self):\n",
    "        \"\"\"Assess monthly interest on outstanding balance.\"\"\"\n",
    "        if self._balance > 0:\n",
    "            # if positive balance, convert APR to monthly multiplicative factor\n",
    "            monthly_factor = pow(1 + self._apr, 1 / 12)\n",
    "            self._balance *= monthly_factor\n",
    "\n",
    "\n",
    "if __name__ == \"__main__\":\n",
    "    card = PredatoryCreditCard(\"John\", \"BigBank\", \"0123 4567 8910 1112\", 5000, 0.20)\n",
    "    card.charge(5000)            # we full the card\n",
    "    print(card.get_balance())    # balance is 5000\n",
    "\n",
    "    card._set_balance(0)         # we reset the card\n",
    "    print(card.get_balance())    # balance is 0"
   ]
  },
  {
   "cell_type": "markdown",
   "metadata": {},
   "source": [
    "### R2.31\n",
    "Write a Python class that extends the Progression class so that each value\n",
    "in the progression is the absolute value of the difference between the previous\n",
    "two values. You should include a constructor that accepts a pair of\n",
    "numbers as the first two values, using 2 and 200 as the defaults."
   ]
  },
  {
   "cell_type": "code",
   "execution_count": 22,
   "metadata": {},
   "outputs": [
    {
     "name": "stdout",
     "output_type": "stream",
     "text": [
      "Default progression:\n",
      "0 1 2 3 4 5 6 7 8 9\n",
      "Arithmetic progression with increment 5:\n",
      "0 5 10 15 20 25 30 35 40 45\n",
      "Arithmetic progression with increment 5 and start 2:\n",
      "2 7 12 17 22 27 32 37 42 47\n",
      "Geometric progression with default base:\n",
      "1 2 4 8 16 32 64 128 256 512\n",
      "Geometric progression with base 3:\n",
      "1 3 9 27 81 243 729 2187 6561 19683\n",
      "Fibonacci progression with default start values:\n",
      "0 1 1 2 3 5 8 13 21 34\n",
      "Fibonacci progression with start values 4 and 6:\n",
      "4 6 10 16 26 42 68 110 178 288\n",
      "2 200 198 2 196 194 2 192 190 2\n"
     ]
    }
   ],
   "source": [
    "%run ch02/progressions_2_31.ipynb\n",
    "\n",
    "class AbsoluteDifferenceProgression(Progression):\n",
    "\n",
    "    def __init__(self, first=2, second=200):\n",
    "        super().__init__(first)\n",
    "        self.first = first\n",
    "        self.second = second\n",
    "        self.count = 2\n",
    "\n",
    "    def _advance(self):\n",
    "        if self.count == 1:\n",
    "            self._current = self.first\n",
    "        elif self.count == 2:\n",
    "            self._current = self.second\n",
    "        else:\n",
    "            self._current = abs(self.second - self.first)\n",
    "            self.first, self.second = self.second, self._current\n",
    "        self.count += 1\n",
    "\n",
    "\n",
    "if __name__ == \"__main__\":\n",
    "    abs_progression = AbsoluteDifferenceProgression()\n",
    "    abs_progression.print_progression(10)\n"
   ]
  },
  {
   "cell_type": "markdown",
   "metadata": {},
   "source": [
    "### R2.32\n",
    "Write a Python class that extends the Progression class so that each value\n",
    "in the progression is the square root of the previous value. (Note that\n",
    "you can no longer represent each value with an integer.) Your constructor\n",
    "should accept an optional parameter specifying the start value, using\n",
    "65,536 as a default."
   ]
  },
  {
   "cell_type": "code",
   "execution_count": 23,
   "metadata": {},
   "outputs": [
    {
     "name": "stdout",
     "output_type": "stream",
     "text": [
      "Default progression:\n",
      "0 1 2 3 4 5 6 7 8 9\n",
      "Arithmetic progression with increment 5:\n",
      "0 5 10 15 20 25 30 35 40 45\n",
      "Arithmetic progression with increment 5 and start 2:\n",
      "2 7 12 17 22 27 32 37 42 47\n",
      "Geometric progression with default base:\n",
      "1 2 4 8 16 32 64 128 256 512\n",
      "Geometric progression with base 3:\n",
      "1 3 9 27 81 243 729 2187 6561 19683\n",
      "Fibonacci progression with default start values:\n",
      "0 1 1 2 3 5 8 13 21 34\n",
      "Fibonacci progression with start values 4 and 6:\n",
      "4 6 10 16 26 42 68 110 178 288\n",
      "65536 256.0 16.0 4.0 2.0\n"
     ]
    }
   ],
   "source": [
    "%run ch02/progressions_2_32.ipynb\n",
    "from math import sqrt\n",
    "\n",
    "class SqrtProgression(Progression):\n",
    "\n",
    "    def __init__(self, start=65536):\n",
    "        super().__init__(start)\n",
    "\n",
    "    def _advance(self):\n",
    "        self._current = sqrt(self._current)\n",
    "\n",
    "\n",
    "if __name__ == \"__main__\":\n",
    "    sqrt_progression = SqrtProgression()\n",
    "    sqrt_progression.print_progression(5)\n"
   ]
  },
  {
   "cell_type": "markdown",
   "metadata": {},
   "source": [
    "## Projects"
   ]
  },
  {
   "cell_type": "markdown",
   "metadata": {},
   "source": [
    "### R2.33\n",
    "Write a Python program that inputs a polynomial in standard algebraic\n",
    "notation and outputs the first derivative of that polynomial."
   ]
  },
  {
   "cell_type": "code",
   "execution_count": 24,
   "metadata": {},
   "outputs": [
    {
     "name": "stdout",
     "output_type": "stream",
     "text": [
      "4x^3 + 3x^2 + 2x^1 + 1x^0\n",
      "12x^2 + 6x^1 + 2x^0\n"
     ]
    }
   ],
   "source": [
    "class Polynomial():\n",
    "    \"\"\"\n",
    "    Takes a list of coefficients and enables you to compute the it's first derivative\n",
    "\n",
    "    coefficient must be a list (ex: [3, 0, 1, 4] is equivalent to 3x^3 + 0x^2 + x + 4)\n",
    "    \"\"\"\n",
    "\n",
    "    def __init__(self, coefficients):\n",
    "        self.coeffs = coefficients\n",
    "        self.degree = len(coefficients)\n",
    "\n",
    "    def __str__(self):\n",
    "        return \" + \".join([\"{}x^{}\".format(coeff, degree) for degree, coeff\n",
    "                       in zip(range(self.degree-1, -1, -1), self.coeffs)])\n",
    "\n",
    "    def derivation(self):\n",
    "        new_coeffs = []\n",
    "        for degree, coefficient in zip(range(self.degree - 1, 0, -1), self.coeffs):\n",
    "            new_coeffs.append(degree * coefficient)\n",
    "        return Polynomial(new_coeffs)\n",
    "\n",
    "\n",
    "if __name__ == \"__main__\":\n",
    "    polynomial_1 = Polynomial([4, 3, 2, 1])          # 4x^4 + 3x^3 + 2x^2 + x + 0\n",
    "    print(polynomial_1)\n",
    "\n",
    "    differentiated_polynomial_1 = polynomial_1.derivation()  # 0x^4 + 16x^3 + 9x^2 + 4x + 1\n",
    "    print(differentiated_polynomial_1)"
   ]
  },
  {
   "cell_type": "markdown",
   "metadata": {},
   "source": [
    "### R2.34\n",
    "Write a Python program that inputs a document and then outputs a barchart\n",
    "plot of the frequencies of each alphabet character that appears in\n",
    "that document."
   ]
  },
  {
   "cell_type": "code",
   "execution_count": 25,
   "metadata": {},
   "outputs": [
    {
     "data": {
      "image/png": "[encoded data removed]",
      "text/plain": [
       "<Figure size 432x288 with 1 Axes>"
      ]
     },
     "metadata": {
      "needs_background": "light"
     },
     "output_type": "display_data"
    }
   ],
   "source": [
    "import numpy as np\n",
    "import matplotlib.pyplot as plt\n",
    "\n",
    "\n",
    "def count_characters(input_file):\n",
    "    char_occurrences = {chr(ord(\"a\") + index): 0 for index in range(26)}\n",
    "    with open(input_file, \"r\") as file:\n",
    "        for line in file:\n",
    "            for char in line:\n",
    "                char = char.lower()\n",
    "                if char in char_occurrences:\n",
    "                    char_occurrences[char] += 1\n",
    "    return char_occurrences\n",
    "\n",
    "# If you want to be able to write the name, replace the line with \"file_name=...\" the \"input(...)\"\n",
    "# input(\"Please enter the name of the file to analyse with the extension: \")\n",
    "file_name = \"ch02/document_to_analyse_2_34.txt\" # must include relative path (ch02/)\n",
    "occurrences = count_characters(file_name)\n",
    "\n",
    "objects = occurrences.keys()\n",
    "x_pos = np.arange(len(objects))\n",
    "count = occurrences.values()\n",
    "\n",
    "plt.bar(x_pos, count)\n",
    "plt.xticks(x_pos, objects)\n",
    "plt.ylabel(\"Occurrence\")\n",
    "plt.title(\"Distribution of characters in the document\")\n",
    "plt.show()\n",
    "\n",
    "\n",
    "# document_to_analyse_2_34.txt contains this text:\n",
    "\n",
    "#############################################################################\n",
    "# This is a text document to analyse.                                       #\n",
    "#                                                                           #\n",
    "# Write a Python program that inputs a document and then outputs a barchart #\n",
    "# plot of the frequencies of each alphabet character that appears in        #\n",
    "# that document.                                                            #\n",
    "#############################################################################"
   ]
  }
 ],
 "metadata": {
  "kernelspec": {
   "display_name": "Python 3",
   "language": "python",
   "name": "python3"
  },
  "language_info": {
   "codemirror_mode": {
    "name": "ipython",
    "version": 3
   },
   "file_extension": ".py",
   "mimetype": "text/x-python",
   "name": "python",
   "nbconvert_exporter": "python",
   "pygments_lexer": "ipython3",
   "version": "3.7.0"
  }
 },
 "nbformat": 4,
 "nbformat_minor": 2
}
