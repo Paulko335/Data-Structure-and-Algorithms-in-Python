{
 "cells": [
  {
   "cell_type": "markdown",
   "metadata": {},
   "source": [
    "# Chapter 05 - Array-Based Sequences"
   ]
  },
  {
   "cell_type": "markdown",
   "metadata": {},
   "source": [
    "## Reinforcement"
   ]
  },
  {
   "cell_type": "markdown",
   "metadata": {},
   "source": [
    "### R-5.1\n",
    "Execute the experiment from Code Fragment 5.1 and compare the results\n",
    "on your system to those we report in Code Fragment 5.2."
   ]
  },
  {
   "cell_type": "code",
   "execution_count": 24,
   "metadata": {},
   "outputs": [
    {
     "name": "stdout",
     "output_type": "stream",
     "text": [
      "Length:   0; Size in bytes:   64\n",
      "Length:   1; Size in bytes:   96\n",
      "Length:   2; Size in bytes:   96\n",
      "Length:   3; Size in bytes:   96\n",
      "Length:   4; Size in bytes:   96\n",
      "Length:   5; Size in bytes:  128\n",
      "Length:   6; Size in bytes:  128\n",
      "Length:   7; Size in bytes:  128\n",
      "Length:   8; Size in bytes:  128\n",
      "Length:   9; Size in bytes:  192\n",
      "Length:  10; Size in bytes:  192\n",
      "Length:  11; Size in bytes:  192\n"
     ]
    }
   ],
   "source": [
    "import sys\n",
    "data = []\n",
    "n = 12\n",
    "for k in range(n):\n",
    "    a = len(data)\n",
    "    b = sys.getsizeof(data)\n",
    "    print(\"Length: {0:3d}; Size in bytes: {1:4d}\".format(a, b))\n",
    "    data.append(None)\n"
   ]
  },
  {
   "cell_type": "markdown",
   "metadata": {},
   "source": [
    "### R-5.2\n",
    "In Code Fragment 5.1, we perform an experiment to compare the length of\n",
    "a Python list to its underlying memory usage. Determining the sequence\n",
    "of array sizes requires a manual inspection of the output of that program.\n",
    "Redesign the experiment so that the program outputs only those values of\n",
    "k at which the existing capacity is exhausted. For example, on a system\n",
    "consistent with the results of Code Fragment 5.2, your program should\n",
    "output that the sequence of array capacities are 0, 4, 8, 16, 25, . . . ."
   ]
  },
  {
   "cell_type": "code",
   "execution_count": 25,
   "metadata": {},
   "outputs": [
    {
     "name": "stdout",
     "output_type": "stream",
     "text": [
      "The sequence of array capacities are 0, 4, 8, 16, 25,...\n"
     ]
    }
   ],
   "source": [
    "import sys\n",
    "data = []\n",
    "n = 27\n",
    "old_size = sys.getsizeof(data)\n",
    "array_capacities = []\n",
    "for k in range(n):\n",
    "    length = len(data)\n",
    "    new_size = sys.getsizeof(data)\n",
    "    if new_size != old_size:\n",
    "        array_capacities.append(str(k-1)) # Capacity was exhausted one iteration ago\n",
    "        old_size = new_size\n",
    "    data.append(None)\n",
    "\n",
    "print(\"The sequence of array capacities are {},...\".format(\", \".join(array_capacities)))"
   ]
  },
  {
   "cell_type": "markdown",
   "metadata": {},
   "source": [
    "### R-5.3\n",
    "Modify the experiment from Code Fragment 5.1 in order to demonstrate\n",
    "that Python’s list class occasionally shrinks the size of its underlying array\n",
    "when elements are popped from a list."
   ]
  },
  {
   "cell_type": "code",
   "execution_count": 26,
   "metadata": {},
   "outputs": [
    {
     "name": "stdout",
     "output_type": "stream",
     "text": [
      "Length:   8; Size in bytes:  128\n",
      "Length:   7; Size in bytes:  128\n",
      "Length:   6; Size in bytes:  128\n",
      "Length:   5; Size in bytes:  128\n",
      "Length:   4; Size in bytes:  128\n",
      "Length:   3; Size in bytes:  112\n",
      "Length:   2; Size in bytes:  104\n",
      "Length:   1; Size in bytes:   96\n"
     ]
    }
   ],
   "source": [
    "import sys\n",
    "n = 8\n",
    "data = [None for _ in range(n)]\n",
    "\n",
    "for i in range(n):\n",
    "    length = len(data)\n",
    "    b = sys.getsizeof(data)\n",
    "    print(\"Length: {0:3d}; Size in bytes: {1:4d}\".format(length, b))\n",
    "    del data[-1]"
   ]
  },
  {
   "cell_type": "markdown",
   "metadata": {},
   "source": [
    "### R-5.4\n",
    "Our DynamicArray class, as given in Code Fragment 5.3, does not support\n",
    "use of negative indices with getitem . Update that method to better\n",
    "match the semantics of a Python list."
   ]
  },
  {
   "cell_type": "code",
   "execution_count": 27,
   "metadata": {},
   "outputs": [
    {
     "name": "stdout",
     "output_type": "stream",
     "text": [
      "2\n"
     ]
    }
   ],
   "source": [
    "%run ch05/dynamic_array_5_4 \n",
    "\n",
    "class DynamicArray_5_4(DynamicArray):\n",
    "\n",
    "    def __init__(self):\n",
    "        super().__init__()\n",
    "\n",
    "    def __getitem__(self, k):\n",
    "        \"\"\"Return element at index k.\"\"\"\n",
    "        if not -self._n <= k < self._n:\n",
    "          raise IndexError('invalid index')\n",
    "        return self._A[k]                              # retrieve from array\n",
    "\n",
    "\n",
    "dyn_arr = DynamicArray_5_4()\n",
    "dyn_arr.append(1)\n",
    "dyn_arr.append(2)\n",
    "print(dyn_arr[-1])"
   ]
  },
  {
   "cell_type": "markdown",
   "metadata": {},
   "source": [
    "### R-5.6\n",
    "Our implementation of insert for the DynamicArray class, as given in\n",
    "Code Fragment 5.5, has the following inefficiency. In the case when a resize\n",
    "occurs, the resize operation takes time to copy all the elements from\n",
    "an old array to a new array, and then the subsequent loop in the body of\n",
    "insert shifts many of those elements. Give an improved implementation\n",
    "of the insert method, so that, in the case of a resize, the elements are\n",
    "shifted into their final position during that operation, thereby avoiding the\n",
    "subsequent shifting."
   ]
  },
  {
   "cell_type": "code",
   "execution_count": 28,
   "metadata": {},
   "outputs": [
    {
     "name": "stdout",
     "output_type": "stream",
     "text": [
      "0 1\n"
     ]
    }
   ],
   "source": [
    "%run ch05/dynamic_array_5_6\n",
    "\n",
    "class Dynamic_Array_5_6(DynamicArray):\n",
    "\n",
    "    def __init__(self):\n",
    "        super().__init__()\n",
    "\n",
    "    def insert(self, k, value):\n",
    "        \"\"\"Insert value at index k, shifting subsequent values rightward.\"\"\"\n",
    "        # (for simplicity, we assume 0 <= k <= n in this verion)\n",
    "\n",
    "        if self._n == self._capacity:                  # not enough room\n",
    "            #self._resize(2 * self._capacity)          # so double capacity\n",
    "            B = self._make_array(2 * self._capacity)\n",
    "            for i in range(k):  # for each existing value\n",
    "                B[i] = self._A[i]\n",
    "            B[k] = value\n",
    "            for j in range(k, self._n):\n",
    "                B[j+1] = self._A[j]\n",
    "            self._A = B  # use the bigger array\n",
    "            self._n += 1\n",
    "            self._capacity = self._capacity * 2\n",
    "\n",
    "        else:\n",
    "            for j in range(self._n, k, -1):                # shift rightmost first\n",
    "                self._A[j] = self._A[j-1]\n",
    "            self._A[k] = value                             # store newest element\n",
    "            self._n += 1\n",
    "\n",
    "\n",
    "dyn_arr = Dynamic_Array_5_6()\n",
    "dyn_arr.insert(0, 1)\n",
    "dyn_arr.insert(0, 0)\n",
    "print(dyn_arr[0], dyn_arr[1])"
   ]
  },
  {
   "cell_type": "markdown",
   "metadata": {},
   "source": [
    "### R-5.7\n",
    "Let A be an array of size n ≥ 2 containing integers from 1 to n−1, inclusive,\n",
    "with exactly one repeated. Describe a fast algorithm for finding the\n",
    "integer in A that is repeated."
   ]
  },
  {
   "cell_type": "code",
   "execution_count": 29,
   "metadata": {},
   "outputs": [
    {
     "name": "stdout",
     "output_type": "stream",
     "text": [
      "{0: 0, 1: 0, 2: 0, 3: 0, 4: 0}\n",
      "3\n"
     ]
    }
   ],
   "source": [
    "# This algorithm runs in O(n log(n) + n) = O(n log(n))\n",
    "\n",
    "\n",
    "def find_repeated(A):\n",
    "    dict = {i:0 for i in range(len(A))}\n",
    "    print(dict)\n",
    "    for value in A:\n",
    "        dict[value] += 1\n",
    "        if dict[value] == 2:\n",
    "            return value\n",
    "    return None\n",
    "\n",
    "\n",
    "A = [1, 3, 3, 4, 5]\n",
    "print(find_repeated(A))"
   ]
  },
  {
   "cell_type": "markdown",
   "metadata": {},
   "source": [
    "### R-5.8\n",
    "Experimentally evaluate the efficiency of the pop method of Python’s list\n",
    "class when using varying indices as a parameter, as we did for insert on\n",
    "page 205. Report your results akin to Table 5.5."
   ]
  },
  {
   "cell_type": "code",
   "execution_count": 30,
   "metadata": {},
   "outputs": [
    {
     "name": "stdout",
     "output_type": "stream",
     "text": [
      "\n",
      "\n",
      "Average runtime of using pop() method on n/10 element of lists of length n\n",
      "Lines test for varying positions for the index k, pop(k) for k = 0, n//2, n\n",
      "Rows test for varying lengths of the list, going from 2 to 5 by factors of 10\n",
      "\n",
      "[2.2099999998914655e-07, 2.7650000000534194e-07, 2.117789999999786e-06, 2.8083774000000013e-05]\n",
      "[4.540000000119449e-07, 2.467999999886672e-07, 1.0428699999994962e-06, 1.1441501999999986e-05]\n",
      "[1.6500000004526783e-07, 1.2060000000602146e-07, 1.0756999999976813e-07, 9.420300000002157e-08]\n",
      "\n",
      "\n",
      "It is clear that using pop() at the end of the list is O(1), \n",
      "but using it at the beginning or in the middle is O(n)\n"
     ]
    }
   ],
   "source": [
    "import timeit\n",
    "\n",
    "Ns = []\n",
    "\n",
    "# creating result lists\n",
    "k_0 = []\n",
    "k_equal_n_over_2 = []\n",
    "k_equal_n = []\n",
    "running_times = [k_0, k_equal_n_over_2, k_equal_n]\n",
    "\n",
    "min_N_magnitude = 2\n",
    "max_N_magnitude = 6\n",
    "\n",
    "ks = [\"0\", \"n//2\", \"-1\"]\n",
    "\n",
    "# Verifying runtime\n",
    "for index, running_time in enumerate(running_times):\n",
    "    for new_int in range(min_N_magnitude, max_N_magnitude):\n",
    "        n = 10**new_int\n",
    "        Ns.append(n)\n",
    "\n",
    "        j = n//10   # testing the method on n//10 elements\n",
    "\n",
    "\n",
    "        stmt = \"\"\"\n",
    "for i in range({}):\n",
    "    lst.pop({})\"\"\".format(j, ks[index])\n",
    "\n",
    "        setup = \"\"\"n = {}\n",
    "lst = [i for i in range(n)]\"\"\".format(n)\n",
    "\n",
    "        t = timeit.Timer(stmt, setup=setup)\n",
    "\n",
    "        number = 10  # number of repetition to obtain average result\n",
    "        total_time = sum(t.repeat(number, 1))\n",
    "        avg_time = total_time / (number*j)  # divide by number and by j to obtain average time for a single pop()\n",
    "\n",
    "        running_time.append(avg_time)\n",
    "\n",
    "print(\"\"\"\\n\n",
    "Average runtime of using pop() method on n/10 element of lists of length n\n",
    "Lines test for varying positions for the index k, pop(k) for k = 0, n//2, n\n",
    "Rows test for varying lengths of the list, going from {} to {} by factors of 10\\n\"\"\".format(min_N_magnitude, max_N_magnitude-1))\n",
    "\n",
    "[print(i) for i in running_times]\n",
    "\n",
    "print(\"\"\"\\n\n",
    "It is clear that using pop() at the end of the list is O(1), \n",
    "but using it at the beginning or in the middle is O(n)\"\"\")\n"
   ]
  },
  {
   "cell_type": "markdown",
   "metadata": {},
   "source": [
    "### R-5.9\n",
    "Explain the changes that would have to be made to the program of Code\n",
    "Fragment 5.11 so that it could perform the Caesar cipher for messages\n",
    "that are written in an alphabet-based language other than English, such as\n",
    "Greek, Russian, or Hebrew."
   ]
  },
  {
   "cell_type": "code",
   "execution_count": 31,
   "metadata": {},
   "outputs": [],
   "source": [
    "# Code Fragment 5.11 is caeser_5_9.py in the folder named ch05\n",
    "\n",
    "# encoder[k] = chr((k + shift) % 26 + ord('A'))\n",
    "# decoder[k] = chr((k - shift) % 26 + ord('A'))\n",
    "\n",
    "# The original encoder and decoder use ord('A').\n",
    "# To use it in another language, simply replace the letter A \n",
    "# with the first letter of the new alphabet."
   ]
  },
  {
   "cell_type": "markdown",
   "metadata": {},
   "source": [
    "### R-5.10\n",
    "The constructor for the CaesarCipher class in Code Fragment 5.11 can\n",
    "be implemented with a two-line body by building the forward and backward\n",
    "strings using a combination of the join method and an appropriate\n",
    "comprehension syntax. Give such an implementation."
   ]
  },
  {
   "cell_type": "code",
   "execution_count": 32,
   "metadata": {},
   "outputs": [],
   "source": [
    "# Code Fragment 5.11 is caeser_5_10.py in the folder named ch05\n",
    "\n",
    "# Original constructor\n",
    "def __init__(self, shift):\n",
    "    \"\"\"Construct Caesar cipher using given integer shift for rotation.\"\"\"\n",
    "    encoder = [None] * 26  # temp array for encryption\n",
    "    decoder = [None] * 26  # temp array for decryption\n",
    "    for k in range(26):\n",
    "        encoder[k] = chr((k + shift) % 26 + ord('A'))\n",
    "        decoder[k] = chr((k - shift) % 26 + ord('A'))\n",
    "    self._forward = ''.join(encoder)  # will store as string\n",
    "    self._backward = ''.join(decoder)  # since fixed\n",
    "\n",
    "\n",
    "# Equivalent constructor\n",
    "def __init__(self, shift):\n",
    "    self._forward = \"\".join([chr((k + shift) % 26 + ord(\"A\")) for k in range(26)])\n",
    "    self._backward = \"\".join([chr((k - shift) % 26 + ord(\"A\")) for k in range(26)])"
   ]
  },
  {
   "cell_type": "markdown",
   "metadata": {},
   "source": [
    "### R-5.11\n",
    "Use standard control structures to compute the sum of all numbers in an\n",
    "n×n data set, represented as a list of lists."
   ]
  },
  {
   "cell_type": "code",
   "execution_count": 33,
   "metadata": {},
   "outputs": [
    {
     "name": "stdout",
     "output_type": "stream",
     "text": [
      "[[0, 1, 2], [3, 4, 5], [6, 7, 8]]\n",
      "36\n"
     ]
    }
   ],
   "source": [
    "def sum_list_of_list(lst):\n",
    "    total = 0\n",
    "    for line in lst:\n",
    "        for element in line:\n",
    "            total += element\n",
    "    return total\n",
    "\n",
    "\n",
    "n = 3\n",
    "my_list = [[n*j + i  for i in range(3)] for j in range(3)]\n",
    "print(my_list)\n",
    "print(sum_list_of_list(my_list))"
   ]
  },
  {
   "cell_type": "markdown",
   "metadata": {},
   "source": [
    "### R-5.12\n",
    "Describe how the built-in sum function can be combined with Python’s\n",
    "comprehension syntax to compute the sum of all numbers in an n×n data\n",
    "set, represented as a list of lists."
   ]
  },
  {
   "cell_type": "code",
   "execution_count": 34,
   "metadata": {},
   "outputs": [
    {
     "name": "stdout",
     "output_type": "stream",
     "text": [
      "[[0, 1, 2], [3, 4, 5], [6, 7, 8]]\n",
      "36\n"
     ]
    }
   ],
   "source": [
    "n = 3\n",
    "my_list = [[n*j + i for i in range(3)] for j in range(3)]\n",
    "print(my_list)\n",
    "\n",
    "total = sum([sum(line) for line in my_list])\n",
    "print(total)"
   ]
  },
  {
   "cell_type": "markdown",
   "metadata": {},
   "source": [
    "## Creativity"
   ]
  },
  {
   "cell_type": "markdown",
   "metadata": {},
   "source": [
    "### C-5.13\n",
    "In the experiment of Code Fragment 5.1, we begin with an empty list. If\n",
    "data were initially constructed with nonempty length, does this affect the\n",
    "sequence of values at which the underlying array is expanded? Perform\n",
    "your own experiments, and comment on any relationship you see between\n",
    "the initial length and the expansion sequence."
   ]
  },
  {
   "cell_type": "code",
   "execution_count": 35,
   "metadata": {},
   "outputs": [
    {
     "name": "stdout",
     "output_type": "stream",
     "text": [
      "The sequence of array capacities are 0, 4, 8, 16, 25, 35, 46, 58, 72, 88, 106, 126, 148, 173,...\n",
      "The sequence of array capacities are 0, 11, 23, 37, 53, 71, 91, 113, 138, 166, 198,...\n",
      "\n",
      "We observe that the difference between capacities remain de same.\n",
      "The first sequence has the numbers 35, 46, 58, 72, ...\n",
      "If we substract theses numbers by the first, we get 0, 11, 23, 37, ...\n",
      "As we can see, this is exacly the second sequence!\n",
      "\n"
     ]
    }
   ],
   "source": [
    "import sys\n",
    "for base_length in [0, 35]:\n",
    "    data = [i for i in range(base_length)]\n",
    "    n = 200\n",
    "    old_size = sys.getsizeof(data)\n",
    "    array_capacities = []\n",
    "    for k in range(n):\n",
    "        length = len(data)\n",
    "        new_size = sys.getsizeof(data)\n",
    "        if new_size != old_size:\n",
    "            array_capacities.append(str(k-1)) # Capacity was exhausted one iteration ago\n",
    "            old_size = new_size\n",
    "        data.append(None)\n",
    "\n",
    "    print(\"The sequence of array capacities are {},...\".format(\", \".join(array_capacities)))\n",
    "\n",
    "print(\"\"\"\n",
    "We observe that the difference between capacities remain de same.\n",
    "The first sequence has the numbers 35, 46, 58, 72, ...\n",
    "If we substract theses numbers by the first, we get 0, 11, 23, 37, ...\n",
    "As we can see, this is exacly the second sequence!\n",
    "\"\"\")\n"
   ]
  },
  {
   "cell_type": "markdown",
   "metadata": {},
   "source": [
    "### C-5.14\n",
    "The shuffle method, supported by the random module, takes a Python\n",
    "list and rearranges it so that every possible ordering is equally likely.\n",
    "Implement your own version of such a function. You may rely on the\n",
    "randrange(n) function of the random module, which returns a random\n",
    "number between 0 and n−1 inclusive."
   ]
  },
  {
   "cell_type": "code",
   "execution_count": 36,
   "metadata": {},
   "outputs": [
    {
     "name": "stdout",
     "output_type": "stream",
     "text": [
      "[0, 1, 2, 3, 4, 5, 6, 7, 8, 9]\n",
      "[5, 8, 6, 1, 3, 7, 9, 4, 0, 2]\n"
     ]
    }
   ],
   "source": [
    "from random import randrange\n",
    "\n",
    "\n",
    "def shuffle(lst):\n",
    "    n = len(lst)\n",
    "    for index, value in enumerate(lst):\n",
    "        new_index = randrange(n)\n",
    "        lst[index], lst[new_index] = lst[new_index], lst[index]\n",
    "    return lst\n",
    "\n",
    "\n",
    "lst = list(range(10))\n",
    "print(lst)\n",
    "\n",
    "lst = shuffle(lst)\n",
    "print(lst)"
   ]
  },
  {
   "cell_type": "markdown",
   "metadata": {},
   "source": [
    "### C-5.16\n",
    "Implement a pop method for the DynamicArray class, given in Code Fragment\n",
    "5.3, that removes the last element of the array, and that shrinks the\n",
    "capacity, N, of the array by half any time the number of elements in the\n",
    "array goes below N/4."
   ]
  },
  {
   "cell_type": "code",
   "execution_count": 37,
   "metadata": {},
   "outputs": [],
   "source": [
    "%run ch05/dynamic_array_5_16\n",
    "\n",
    "class DynamicArray_5_16(DynamicArray):\n",
    "\n",
    "    def __init__(self):\n",
    "        super().__init__()\n",
    "\n",
    "    def pop(self):\n",
    "        \"\"\"Removes the last element of the array and shrinks the capacity when needed\"\"\"\n",
    "        if self._n == 0:\n",
    "            raise ValueError(\"List is empty, cannot remove last element.\")\n",
    "        else:\n",
    "            self._A[-1] = None\n",
    "            self._n = self._n - 1\n",
    "            if self._n < self._capacity / 4:\n",
    "                self._resize(self._capacity // 2)"
   ]
  },
  {
   "cell_type": "markdown",
   "metadata": {},
   "source": [
    "### C-5.21\n",
    "In Section 5.4.2, we described four different ways to compose a long\n",
    "string: (1) repeated concatenation, (2) appending to a temporary list and\n",
    "then joining, (3) using list comprehension with join, and (4) using generator\n",
    "comprehension with join. Develop an experiment to test the efficiency\n",
    "of all four of these approaches and report your findings."
   ]
  },
  {
   "cell_type": "code",
   "execution_count": 38,
   "metadata": {},
   "outputs": [
    {
     "data": {
      "image/png": "[encoded data removed]",
      "text/plain": [
       "<Figure size 432x288 with 1 Axes>"
      ]
     },
     "metadata": {
      "needs_background": "light"
     },
     "output_type": "display_data"
    }
   ],
   "source": [
    "# Execution takes about a minute.\n",
    "# You can remove the print() in the first loop to clear the console\n",
    "# Keep it to show progression\n",
    "#\n",
    "# Every function exhibit linear behavior, but they do not share the same constant factor\n",
    "# function #3 (list comprehension) seems to be the best one,\n",
    "# even though the author says the best one should be #4 (generator comprehension)\n",
    "\n",
    "\n",
    "import matplotlib.pyplot as plt\n",
    "import timeit\n",
    "\n",
    "# Four string composition methods in section 5.4.2\n",
    "functions_setup = \"\"\"\n",
    "def func1(document):\n",
    "    letters = \"\"\n",
    "    for c in document:\n",
    "        if c.isalpha():\n",
    "            letters += c\n",
    "    return letters\n",
    "\n",
    "def func2(document):\n",
    "    temp = []\n",
    "    for c in document:\n",
    "        if c.isalpha():\n",
    "            temp.append(c)\n",
    "    letters = \"\".join(temp)\n",
    "    return letters\n",
    "\n",
    "def func3(document):\n",
    "    letters = \"\".join([c for c in document if c.isalpha()])\n",
    "    return letters\n",
    "\n",
    "def func4(document):\n",
    "    letters = \"\".join((c for c in document if c.isalpha()))\n",
    "    return letters\n",
    "\"\"\"\n",
    "\n",
    "# average execution times for every length of input list (Y axis data)\n",
    "func_1_avg_times = []\n",
    "func_2_avg_times = []\n",
    "func_3_avg_times = []\n",
    "func_4_avg_times = []\n",
    "\n",
    "# list of integer to use as functions input (X axis data)\n",
    "int_lst = []\n",
    "\n",
    "# group average times to loop over them\n",
    "avg_times_lst = [func_1_avg_times,\n",
    "                 func_2_avg_times,\n",
    "                 func_3_avg_times,\n",
    "                 func_4_avg_times]\n",
    "\n",
    "# measures the execution time of every algorithm for a given list length\n",
    "for new_int in range(5000, 100000, 5000):\n",
    "    int_lst.append(new_int)    # generating an increasingly long list of int to swipe x-axis\n",
    "\n",
    "    # Printing to show progression, you can remove this part to clear the console\n",
    "    # print(\"Computing times for a document of {} characters\".format(new_int))\n",
    "\n",
    "    for func_index, func_avg_times in enumerate(avg_times_lst, start=1):\n",
    "        stmt = \"\"\"func{}(document)\"\"\".format(func_index)\n",
    "        setup = \"\"\"document = \"A\" * {} \"\"\".format(new_int) + functions_setup\n",
    "\n",
    "        t = timeit.Timer(stmt, setup)\n",
    "\n",
    "        # repeat multiple times for every list length to obtain average times\n",
    "        number = 30\n",
    "        total_time = sum(t.repeat(number, 1)) # execute once per repeat to measure only the function run time\n",
    "        avg_time = total_time / number\n",
    "\n",
    "        # Append y-axis values\n",
    "        func_avg_times.append(avg_time) #(new_int * np.log2(new_int))) #\n",
    "\n",
    "\n",
    "# plot every result\n",
    "for avg_index, avg_times in enumerate(avg_times_lst, start=1):\n",
    "    plt.plot(int_lst, avg_times, label=\"func{}\".format(avg_index))\n",
    "\n",
    "plt.xlabel(\"Length of input list\")\n",
    "plt.ylabel(\"Execution time (s)\")\n",
    "plt.title(\"Comparison of {} algorithms for the same task\".format(len(avg_times_lst)))\n",
    "plt.legend()\n",
    "\n",
    "plt.show()\n"
   ]
  },
  {
   "cell_type": "markdown",
   "metadata": {},
   "source": [
    "### C-5.22\n",
    "Develop an experiment to compare the relative efficiency of the extend\n",
    "method of Python’s list class versus using repeated calls to append to\n",
    "accomplish the equivalent task."
   ]
  },
  {
   "cell_type": "code",
   "execution_count": 39,
   "metadata": {
    "scrolled": true
   },
   "outputs": [
    {
     "data": {
      "image/png": "[encoded data removed]",
      "text/plain": [
       "<Figure size 432x288 with 1 Axes>"
      ]
     },
     "metadata": {
      "needs_background": "light"
     },
     "output_type": "display_data"
    }
   ],
   "source": [
    "import matplotlib.pyplot as plt\n",
    "import timeit\n",
    "\n",
    "functions_setup = \"\"\"\n",
    "def func1(A, B):\n",
    "    A.extend(B)\n",
    "    return A\n",
    "\n",
    "def func2(A, B):\n",
    "    for element in B:\n",
    "        A.append(element)\n",
    "    return A\n",
    "\"\"\"\n",
    "\n",
    "# average execution times for every length of input list (Y axis data)\n",
    "func_1_avg_times = []\n",
    "func_2_avg_times = []\n",
    "\n",
    "# list of integer to use as functions input (X axis data)\n",
    "int_lst = []\n",
    "\n",
    "# group average times to loop over them\n",
    "avg_times_lst = [func_1_avg_times,\n",
    "                 func_2_avg_times]\n",
    "\n",
    "# measures the execution time of every algorithm for a given list length\n",
    "for new_int in range(100, 20000, 500):\n",
    "    int_lst.append(new_int)     # generating an increasingly long list of int to swipe x-axis\n",
    "\n",
    "    # Printing to show progression, you can remove this part to clear the console\n",
    "    # print(\"Computing times for two lists of {} characters\".format(new_int))\n",
    "\n",
    "    for func_index, func_avg_times in enumerate(avg_times_lst, start=1):\n",
    "\n",
    "        stmt = \"\"\"func{}(A, B)\"\"\".format(func_index)\n",
    "        setup = \"\"\"\n",
    "A = [\"A\"] * {}\n",
    "B = [\"B\"] * {}\"\"\".format(new_int, new_int) + functions_setup\n",
    "\n",
    "        t = timeit.Timer(stmt, setup)\n",
    "\n",
    "        # repeat multiple times for every list length to obtain average times\n",
    "        number = 30\n",
    "        total_time = sum(t.repeat(number, 1))   # execute once per repeat to measure only the function run time\n",
    "        avg_time = total_time / number\n",
    "\n",
    "        # Append y-axis values\n",
    "        func_avg_times.append(avg_time)\n",
    "\n",
    "# function labels\n",
    "labels = [\"extend()\", \"append()\"]\n",
    "\n",
    "# plot every result\n",
    "for avg_index, avg_times in enumerate(avg_times_lst):\n",
    "    plt.plot(int_lst, avg_times, label=labels[avg_index])\n",
    "\n",
    "plt.xlabel(\"Length of input lists\")\n",
    "plt.ylabel(\"Execution time (s)\")\n",
    "plt.title(\"Comparison of {} algorithms for the same task\".format(len(avg_times_lst)))\n",
    "plt.legend()\n",
    "\n",
    "plt.show()\n"
   ]
  },
  {
   "cell_type": "markdown",
   "metadata": {},
   "source": [
    "### C-5.23\n",
    "Based on the discussion of page 207, develop an experiment to compare\n",
    "the efficiency of Python’s list comprehension syntax versus the construction\n",
    "of a list by means of repeated calls to append."
   ]
  },
  {
   "cell_type": "code",
   "execution_count": 40,
   "metadata": {},
   "outputs": [
    {
     "data": {
      "image/png": "[encoded data removed]",
      "text/plain": [
       "<Figure size 432x288 with 1 Axes>"
      ]
     },
     "metadata": {
      "needs_background": "light"
     },
     "output_type": "display_data"
    }
   ],
   "source": [
    "import matplotlib.pyplot as plt\n",
    "import timeit\n",
    "\n",
    "# Functions studied in this exercise\n",
    "# They both combine two lists\n",
    "# func1 uses list comprehension\n",
    "# func2 uses repeated append()\n",
    "functions_setup = \"\"\"\n",
    "def func1(length):\n",
    "    squares = [k*k for k in range(1, length+1)]\n",
    "    return squares\n",
    "\n",
    "def func2(length):\n",
    "    squares = []\n",
    "    for k in range(1, length+1):\n",
    "        squares.append(k*k)\n",
    "    return squares\n",
    "\"\"\"\n",
    "\n",
    "# average execution times for every length of input list (Y axis data)\n",
    "func_1_avg_times = []\n",
    "func_2_avg_times = []\n",
    "\n",
    "# list of integer to use as functions input (X axis data)\n",
    "int_lst = []\n",
    "\n",
    "# group average times to loop over them\n",
    "avg_times_lst = [func_1_avg_times,\n",
    "                 func_2_avg_times]\n",
    "\n",
    "# measures the execution time of every algorithm for a given list length\n",
    "for new_int in range(100, 20000, 500):\n",
    "    int_lst.append(new_int)    # generating an increasingly long list of int to swipe x-axis\n",
    "\n",
    "    # Printing to show progression, you can remove this part to clear the console\n",
    "    # print(\"Computing times for two lists of {} characters\".format(new_int))\n",
    "\n",
    "    for func_index, func_avg_times in enumerate(avg_times_lst, start=1):\n",
    "\n",
    "        stmt = \"\"\"func{}({})\"\"\".format(func_index, new_int)\n",
    "        setup = functions_setup\n",
    "\n",
    "        t = timeit.Timer(stmt, setup)\n",
    "\n",
    "        # repeat multiple times for every list length to obtain average times\n",
    "        number = 30\n",
    "        total_time = sum(t.repeat(number, 1)) # execute once per repeat to measure only the function run time\n",
    "        avg_time = total_time / number\n",
    "\n",
    "        # Append y-axis values\n",
    "        func_avg_times.append(avg_time)\n",
    "\n",
    "# function labels\n",
    "labels = [\"comprehension()\", \"append()\"]\n",
    "\n",
    "# plot every result\n",
    "for avg_index, avg_times in enumerate(avg_times_lst):\n",
    "    plt.plot(int_lst, avg_times, label=labels[avg_index])\n",
    "\n",
    "plt.xlabel(\"Length of input lists\")\n",
    "plt.ylabel(\"Execution time (s)\")\n",
    "plt.title(\"Comparison of {} algorithms to create lists\".format(len(avg_times_lst)))\n",
    "plt.legend()\n",
    "\n",
    "plt.show()\n"
   ]
  },
  {
   "cell_type": "markdown",
   "metadata": {},
   "source": [
    "### C-5.24\n",
    "Perform experiments to evaluate the efficiency of the remove method of\n",
    "Python’s list class, as we did for insert on page 205. Use known values so\n",
    "that all removals occur either at the beginning, middle, or end of the list.\n",
    "Report your results akin to Table 5.5."
   ]
  },
  {
   "cell_type": "code",
   "execution_count": 41,
   "metadata": {},
   "outputs": [
    {
     "name": "stdout",
     "output_type": "stream",
     "text": [
      "\n",
      "\n",
      "Average runtime of using remove() method on n/10 element of lists of length n\n",
      "Lines test for varying positions for the index k, pop(k) for k = 0, n//2, n\n",
      "Rows test for varying lengths of the list, going from 2 to 5 by factors of 10\n",
      "\n",
      "[4.30000002182851e-08, 4.599999996912629e-09, 1.1500000006492429e-09]\n",
      "[9.830000000476957e-07, 5.833800000019096e-06, 4.989479999999986e-05]\n",
      "[1.9340000000056536e-06, 1.0308400000006657e-05, 9.625152000000056e-05]\n",
      "\n",
      "\n",
      "It is clear that using remove() at the end of the list is O(1), \n",
      "but using it at the beginning or in the middle is O(n)\n"
     ]
    }
   ],
   "source": [
    "import timeit\n",
    "\n",
    "Ns = []\n",
    "\n",
    "# creating result lists\n",
    "k_0 = []\n",
    "k_equal_n_over_2 = []\n",
    "k_equal_n = []\n",
    "running_times = [k_0, k_equal_n_over_2, k_equal_n]\n",
    "\n",
    "min_N_magnitude = 2\n",
    "max_N_magnitude = 5\n",
    "\n",
    "# testing on 10% of elements, at different positions\n",
    "ks = [[\"0\", \"n//10\"], [\"5*n//10\", \"6*n//10\"], [\"9*n//10\", \"n\"]]\n",
    "\n",
    "# Verifying runtime\n",
    "for index, running_time in enumerate(running_times):\n",
    "    for new_int in range(min_N_magnitude, max_N_magnitude):\n",
    "        n = 10**new_int\n",
    "        Ns.append(n)\n",
    "\n",
    "        j = n//10   # testing the method on n//10 elements\n",
    "\n",
    "        stmt = \"\"\"\n",
    "for i in range({}, {}):\n",
    "    lst.remove(i)\"\"\".format(j, ks[index][0], ks[index][1])\n",
    "\n",
    "        setup = \"\"\"n = {}\n",
    "lst = [i for i in range(n)]\"\"\".format(n)\n",
    "\n",
    "        t = timeit.Timer(stmt, setup=setup)\n",
    "\n",
    "        number = 10  # number of repetition to obtain average result\n",
    "        total_time = sum(t.repeat(number, 1))\n",
    "        avg_time = total_time / (number*j)  # divide by number and by j to obtain average time for a single pop()\n",
    "\n",
    "        running_time.append(avg_time)\n",
    "\n",
    "print(\"\"\"\\n\n",
    "Average runtime of using remove() method on n/10 element of lists of length n\n",
    "Lines test for varying positions for the index k, pop(k) for k = 0, n//2, n\n",
    "Rows test for varying lengths of the list, going from {} to {} by factors of 10\\n\"\"\".format(min_N_magnitude, max_N_magnitude))\n",
    "\n",
    "[print(i) for i in running_times]\n",
    "\n",
    "print(\"\"\"\\n\n",
    "It is clear that using remove() at the end of the list is O(1), \n",
    "but using it at the beginning or in the middle is O(n)\"\"\")"
   ]
  },
  {
   "cell_type": "markdown",
   "metadata": {},
   "source": [
    "### C-5.25\n",
    "The syntax data.remove(value) for Python list data removes only the first\n",
    "occurrence of element value from the list. Give an implementation of a\n",
    "function, with signature remove all(data, value), that removes all occurrences\n",
    "of value from the given list, such that the worst-case running time\n",
    "of the function is O(n) on a list with n elements. Not that it is not efficient\n",
    "enough in general to rely on repeated calls to remove."
   ]
  },
  {
   "cell_type": "code",
   "execution_count": 42,
   "metadata": {},
   "outputs": [
    {
     "name": "stdout",
     "output_type": "stream",
     "text": [
      "[0, 1, 2, 2, 2, 3, 4]\n",
      "[0, 1, 3, 4]\n"
     ]
    }
   ],
   "source": [
    "def remove_all(data, value):\n",
    "    cleaned_data = [data[i] for i in range(len(data)) if data[i] != value]\n",
    "    return cleaned_data\n",
    "\n",
    "\n",
    "lst = [0, 1, 2, 2, 2, 3, 4]\n",
    "print(lst)\n",
    "print(remove_all(lst, 2))"
   ]
  },
  {
   "cell_type": "markdown",
   "metadata": {},
   "source": [
    "### C-5.26\n",
    "Let B be an array of size n ≥ 6 containing integers from 1 to n−5, inclusive,\n",
    "with exactly five repeated. Describe a good algorithm for finding the\n",
    "five integers in B that are repeated."
   ]
  },
  {
   "cell_type": "code",
   "execution_count": 43,
   "metadata": {},
   "outputs": [
    {
     "name": "stdout",
     "output_type": "stream",
     "text": [
      "2\n"
     ]
    }
   ],
   "source": [
    "def find_five_repeating(lst):\n",
    "    lst = sorted(lst)\n",
    "    freq = 0\n",
    "    old = lst[0]\n",
    "    for index in range(1, len(lst)):\n",
    "        new = lst[index]\n",
    "        if new == old:  # if there is a repetition, add one to freq\n",
    "            freq += 1\n",
    "            if freq == 5: # if freq is equal to 5, the integer is found\n",
    "                return new\n",
    "        else:\n",
    "            freq = 1  # they are not matching, therefore freq == 1 for the new int\n",
    "        old = new  # old is the old new\n",
    "    return None\n",
    "\n",
    "\n",
    "B = [1, 2, 2, 2, 2, 2, 5, 6]\n",
    "print(find_five_repeating(B))"
   ]
  },
  {
   "cell_type": "markdown",
   "metadata": {},
   "source": [
    "### C-5.30\n",
    "When Bob wants to send Alice a message M on the Internet, he breaks M\n",
    "into n data packets, numbers the packets consecutively, and injects them\n",
    "into the network. When the packets arrive at Alice’s computer, they may\n",
    "be out of order, so Alice must assemble the sequence of n packets in order\n",
    "before she can be sure she has the entire message. Describe an efficient\n",
    "scheme for Alice to do this, assuming that she knows the value of n. What\n",
    "is the running time of this algorithm?"
   ]
  },
  {
   "cell_type": "code",
   "execution_count": 44,
   "metadata": {},
   "outputs": [
    {
     "name": "stdout",
     "output_type": "stream",
     "text": [
      "True\n"
     ]
    }
   ],
   "source": [
    "def full_message_received(lst, length):\n",
    "    if sum(lst) == (length-1)*length/2:  # indexes start at 0,\n",
    "        return True                      # therefore replace n by n-1 in the formula n*(n+1)/2\n",
    "    return False\n",
    "\n",
    "\n",
    "n = 4\n",
    "packets_indexes = [3, 1, 2, 0]\n",
    "print(full_message_received(packets_indexes, n))"
   ]
  },
  {
   "cell_type": "markdown",
   "metadata": {},
   "source": [
    "### C-5.31\n",
    "Describe a way to use recursion to add all the numbers in an n×n data\n",
    "set, represented as a list of lists."
   ]
  },
  {
   "cell_type": "code",
   "execution_count": 45,
   "metadata": {},
   "outputs": [
    {
     "name": "stdout",
     "output_type": "stream",
     "text": [
      "[[0, 1, 2], [3, 4, 5], [6, 7, 8]]\n",
      "36\n"
     ]
    }
   ],
   "source": [
    "def sum_recursively(lst_of_lst, start, stop):\n",
    "    if start >= stop:\n",
    "        return 0\n",
    "    elif start == stop - 1:\n",
    "        return sum(lst_of_lst[start])\n",
    "    else:\n",
    "        mid = (start + stop) // 2\n",
    "        return sum_recursively(lst_of_lst, start, mid) + sum_recursively(lst_of_lst, mid, stop)\n",
    "\n",
    "\n",
    "n = 3\n",
    "data_set = [[n*j + i for i in range(n)] for j in range(n)]\n",
    "print(data_set)\n",
    "print(sum_recursively(data_set, 0, n))"
   ]
  },
  {
   "cell_type": "markdown",
   "metadata": {},
   "source": [
    "## Projects"
   ]
  },
  {
   "cell_type": "markdown",
   "metadata": {},
   "source": [
    "### P-5.32\n",
    "Write a Python function that takes two three-dimensional numeric data\n",
    "sets and adds them componentwise."
   ]
  },
  {
   "cell_type": "code",
   "execution_count": 48,
   "metadata": {
    "scrolled": true
   },
   "outputs": [
    {
     "name": "stdout",
     "output_type": "stream",
     "text": [
      "\n",
      "[0, 1, 2]\n",
      "[3, 4, 5]\n",
      "[6, 7, 8]\n",
      "[9, 10, 11]\n",
      "[12, 13, 14]\n",
      "[15, 16, 17]\n",
      "[18, 19, 20]\n",
      "[21, 22, 23]\n",
      "[24, 25, 26]\n",
      "\n",
      "     +\n",
      "\n",
      "[0, 1, 2]\n",
      "[3, 4, 5]\n",
      "[6, 7, 8]\n",
      "[9, 10, 11]\n",
      "[12, 13, 14]\n",
      "[15, 16, 17]\n",
      "[18, 19, 20]\n",
      "[21, 22, 23]\n",
      "[24, 25, 26]\n",
      "\n",
      "     =\n",
      "\n",
      "[0, 2, 4]\n",
      "[6, 8, 10]\n",
      "[12, 14, 16]\n",
      "[18, 20, 22]\n",
      "[24, 26, 28]\n",
      "[30, 32, 34]\n",
      "[36, 38, 40]\n",
      "[42, 44, 46]\n",
      "[48, 50, 52]\n",
      "\n"
     ]
    }
   ],
   "source": [
    "def sum_3d_numeric_data(A, B):\n",
    "    \"\"\" Sums two three-dimensional numeric data sets componentwise\n",
    "        Data A and B must be of same dimensions\"\"\"\n",
    "    dim_A = [len(A), len(A[0]), len(A[0][0])]\n",
    "    C = [[[A[i][j][k] + B[i][j][k] for k in range(dim_A[2])] for j in range(dim_A[1])] for i in range(dim_A[0])]\n",
    "    return C\n",
    "\n",
    "\n",
    "def print_3d_data(data):\n",
    "    print(\"\")\n",
    "    [[print(data[i][j]) for j in range(len(data))] for i in range(len(data[0][0]))]\n",
    "    print(\"\")\n",
    "\n",
    "\n",
    "a = b = c = 3  # matrix dimensions\n",
    "A = [[[i*a*b + j*b + k for k in range(c)] for j in range(b)] for i in range(a)]\n",
    "print_3d_data(A)\n",
    "\n",
    "print(\"     +\")\n",
    "\n",
    "B = A\n",
    "print_3d_data(B)\n",
    "\n",
    "print(\"     =\")\n",
    "\n",
    "\n",
    "C = sum_3d_numeric_data(A, B)\n",
    "print_3d_data(C)"
   ]
  }
 ],
 "metadata": {
  "kernelspec": {
   "display_name": "Python 3",
   "language": "python",
   "name": "python3"
  },
  "language_info": {
   "codemirror_mode": {
    "name": "ipython",
    "version": 3
   },
   "file_extension": ".py",
   "mimetype": "text/x-python",
   "name": "python",
   "nbconvert_exporter": "python",
   "pygments_lexer": "ipython3",
   "version": "3.7.0"
  }
 },
 "nbformat": 4,
 "nbformat_minor": 2
}
