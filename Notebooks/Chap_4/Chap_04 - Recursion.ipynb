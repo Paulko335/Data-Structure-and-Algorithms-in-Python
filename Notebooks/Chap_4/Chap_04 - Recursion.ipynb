{
 "cells": [
  {
   "cell_type": "markdown",
   "metadata": {},
   "source": [
    "# Chapter 01 - Python Primer"
   ]
  },
  {
   "cell_type": "markdown",
   "metadata": {},
   "source": [
    "## Reinforcement"
   ]
  },
  {
   "cell_type": "markdown",
   "metadata": {},
   "source": [
    "### R-4.1\n",
    "Describe a recursive algorithm for finding the maximum element in a sequence,\n",
    "S, of n elements. What is your running time and space usage?"
   ]
  },
  {
   "cell_type": "code",
   "execution_count": 12,
   "metadata": {},
   "outputs": [
    {
     "name": "stdout",
     "output_type": "stream",
     "text": [
      "True\n"
     ]
    }
   ],
   "source": [
    "# Running time is O(n log(n))\n",
    "# Space usage is O(log(n))\n",
    "\n",
    "import random\n",
    "\n",
    "def get_max_recursively(sequence):\n",
    "    if len(sequence) == 1:\n",
    "        return sequence[0]\n",
    "\n",
    "    else:\n",
    "        mid = len(sequence) // 2\n",
    "        high = get_max_recursively(sequence[:mid])\n",
    "        low = get_max_recursively(sequence[mid:])\n",
    "        if low > high:\n",
    "            high = low\n",
    "        return high\n",
    "\n",
    "\n",
    "sequence = list(range(100))\n",
    "random.shuffle(sequence)\n",
    "\n",
    "if max(sequence) == get_max_recursively(sequence):\n",
    "    print(True)\n",
    "\n",
    "# -> It prints True"
   ]
  },
  {
   "cell_type": "markdown",
   "metadata": {},
   "source": [
    "### R-4.6\n",
    "Describe a recursive function for computing the nth Harmonic number,\n",
    "Hn = the sum (Σ) from i=0 to n of 1/i."
   ]
  },
  {
   "cell_type": "code",
   "execution_count": 13,
   "metadata": {},
   "outputs": [],
   "source": [
    "def get_Harmonic_recursively(n):\n",
    "    \"\"\"Returns the Harmonic number of degree n\"\"\"\n",
    "    if n == 1:\n",
    "        return 1\n",
    "    else:\n",
    "        return 1/n + get_Harmonic_recursively(n-1)"
   ]
  },
  {
   "cell_type": "markdown",
   "metadata": {},
   "source": [
    "### R-4.7\n",
    "Describe a recursive function for converting a string of digits into the integer\n",
    "it represents. For example, 13531 represents the integer 13,531."
   ]
  },
  {
   "cell_type": "code",
   "execution_count": 14,
   "metadata": {},
   "outputs": [
    {
     "name": "stdout",
     "output_type": "stream",
     "text": [
      "123456\n"
     ]
    }
   ],
   "source": [
    "def str_to_int(string):\n",
    "    total = 0\n",
    "    if len(string) == 1:\n",
    "        total = int(string)\n",
    "    else:\n",
    "        magnitude = len(string) - 1\n",
    "        total = int(string[0])*10**magnitude + str_to_int(string[1:])\n",
    "    return total\n",
    "\n",
    "\n",
    "string = \"123456\"\n",
    "print(str_to_int(string))"
   ]
  },
  {
   "cell_type": "markdown",
   "metadata": {},
   "source": [
    "### R-4.8\n",
    "Isabel has an interesting way of summing up the values in a sequence A of\n",
    "n integers, where n is a power of two. She creates a new sequence B of half\n",
    "the size of A and sets B[i] = A[2i]+A[2i+1], for i = 0,1, . . . , (n/2)−1. If\n",
    "B has size 1, then she outputs B[0]. Otherwise, she replaces A with B, and\n",
    "repeats the process. What is the running time of her algorithm?#"
   ]
  },
  {
   "cell_type": "markdown",
   "metadata": {},
   "source": [
    "At worst, the algorithm is O(n)\n",
    "\n",
    "Let S a sequence of length n = 2^(x), where x is an integer\n",
    "Isabel's algorithms will copy elements of the list m times\n",
    "-> m = n/2^(1) + n/2^(2) + n/2^(3) + ... + n/2^(x) \n",
    "     = 2^(x)/2^(1) + 2^(x)/2^(2) + 2^(x)/2^(3) + ... + 2^(x)/2^(x)\n",
    "     = 2^(x-1)     + 2^(x-2)     + 2^(x-3)     + ... + 2^1\n",
    "     = 2^(x) - 1\n",
    "     = n - 1\n",
    "     \n",
    "-> m is O(n)"
   ]
  },
  {
   "cell_type": "markdown",
   "metadata": {},
   "source": [
    "## Creativity"
   ]
  },
  {
   "cell_type": "markdown",
   "metadata": {},
   "source": [
    "### C-4.9\n",
    "Write a short recursive Python function that finds the minimum and maximum\n",
    "values in a sequence without using any loops."
   ]
  },
  {
   "cell_type": "code",
   "execution_count": 15,
   "metadata": {},
   "outputs": [
    {
     "name": "stdout",
     "output_type": "stream",
     "text": [
      "(2, 16)\n"
     ]
    }
   ],
   "source": [
    "def find_min_max(sequence):\n",
    "    minimum = sequence[0]\n",
    "    maximum = sequence[0]\n",
    "\n",
    "    if len(sequence) >= 2:\n",
    "        possible_min, possible_max = find_min_max(sequence[1:])\n",
    "\n",
    "        if possible_min < minimum:\n",
    "            minimum = possible_min\n",
    "\n",
    "        if possible_max > maximum:\n",
    "            maximum = possible_max\n",
    "\n",
    "    return minimum, maximum\n",
    "\n",
    "sequence = [5,6,7,8,2,16,3,4]\n",
    "print(find_min_max(sequence))"
   ]
  },
  {
   "cell_type": "markdown",
   "metadata": {},
   "source": [
    "### C-4.10\n",
    "Describe a recursive algorithm to compute the integer part of the base-two\n",
    "logarithm of n using only addition and integer division."
   ]
  },
  {
   "cell_type": "code",
   "execution_count": 16,
   "metadata": {},
   "outputs": [
    {
     "name": "stdout",
     "output_type": "stream",
     "text": [
      "4\n"
     ]
    }
   ],
   "source": [
    "def int_log2(n):\n",
    "    if n < 2:\n",
    "        return 0\n",
    "    else:\n",
    "        return 1 + int_log2(n//2)\n",
    "\n",
    "\n",
    "n = 16\n",
    "print(int_log2(n))"
   ]
  },
  {
   "cell_type": "markdown",
   "metadata": {},
   "source": [
    "### C-4.11\n",
    "Describe an efficient recursive function for solving the element uniqueness\n",
    "problem, which runs in time that is at most O(n2) in the worst case\n",
    "without using sorting."
   ]
  },
  {
   "cell_type": "code",
   "execution_count": 17,
   "metadata": {},
   "outputs": [
    {
     "name": "stdout",
     "output_type": "stream",
     "text": [
      "True\n",
      "False\n"
     ]
    }
   ],
   "source": [
    "def unique(sequence):\n",
    "    if len(sequence) <= 1:\n",
    "        return True\n",
    "    else:\n",
    "        first = sequence[0]\n",
    "        first_is_unique = True\n",
    "        if first in sequence[1:]:\n",
    "            first_is_unique = False\n",
    "    return first_is_unique and unique(sequence[1:])\n",
    "\n",
    "\n",
    "sequence_1 = [6, 7, 8, 9]\n",
    "print(unique(sequence_1))\n",
    "\n",
    "sequence_2 = [6, 7, 8, 9, 9]\n",
    "print(unique(sequence_2))"
   ]
  },
  {
   "cell_type": "markdown",
   "metadata": {},
   "source": [
    "### C-4.12\n",
    "Give a recursive algorithm to compute the product of two positive integers,\n",
    "m and n, using only addition and subtraction."
   ]
  },
  {
   "cell_type": "code",
   "execution_count": 18,
   "metadata": {},
   "outputs": [
    {
     "name": "stdout",
     "output_type": "stream",
     "text": [
      "24\n"
     ]
    }
   ],
   "source": [
    "def product(m, n):\n",
    "    if n == 0:\n",
    "        total = 0\n",
    "    else:\n",
    "        total = m + product(m, n-1)\n",
    "    return total\n",
    "\n",
    "\n",
    "print(product(8, 3))"
   ]
  },
  {
   "cell_type": "markdown",
   "metadata": {},
   "source": [
    "## Projects"
   ]
  },
  {
   "cell_type": "markdown",
   "metadata": {},
   "source": [
    "### P-4.23\n"
   ]
  },
  {
   "cell_type": "code",
   "execution_count": null,
   "metadata": {},
   "outputs": [],
   "source": []
  },
  {
   "cell_type": "markdown",
   "metadata": {},
   "source": [
    "### P-4.24\n"
   ]
  },
  {
   "cell_type": "code",
   "execution_count": null,
   "metadata": {},
   "outputs": [],
   "source": []
  },
  {
   "cell_type": "markdown",
   "metadata": {},
   "source": [
    "### P-4.25\n"
   ]
  },
  {
   "cell_type": "code",
   "execution_count": null,
   "metadata": {},
   "outputs": [],
   "source": []
  },
  {
   "cell_type": "markdown",
   "metadata": {},
   "source": [
    "### P-4.26\n"
   ]
  },
  {
   "cell_type": "code",
   "execution_count": null,
   "metadata": {},
   "outputs": [],
   "source": []
  },
  {
   "cell_type": "markdown",
   "metadata": {},
   "source": [
    "### P-4.27\n"
   ]
  },
  {
   "cell_type": "code",
   "execution_count": null,
   "metadata": {},
   "outputs": [],
   "source": []
  }
 ],
 "metadata": {
  "kernelspec": {
   "display_name": "Python 3",
   "language": "python",
   "name": "python3"
  },
  "language_info": {
   "codemirror_mode": {
    "name": "ipython",
    "version": 3
   },
   "file_extension": ".py",
   "mimetype": "text/x-python",
   "name": "python",
   "nbconvert_exporter": "python",
   "pygments_lexer": "ipython3",
   "version": "3.7.0"
  }
 },
 "nbformat": 4,
 "nbformat_minor": 2
}
